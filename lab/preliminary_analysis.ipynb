{
 "cells": [
  {
   "cell_type": "code",
   "execution_count": 76,
   "id": "3d253cf6",
   "metadata": {
    "ExecuteTime": {
     "end_time": "2024-02-28T09:50:15.071708Z",
     "start_time": "2024-02-28T09:50:15.053607Z"
    },
    "code_folding": [
     0
    ]
   },
   "outputs": [
    {
     "data": {
      "text/html": [
       "<style>.container { width:80% !important; }</style>"
      ],
      "text/plain": [
       "<IPython.core.display.HTML object>"
      ]
     },
     "metadata": {},
     "output_type": "display_data"
    },
    {
     "data": {
      "text/html": [
       "        <script type=\"text/javascript\">\n",
       "        window.PlotlyConfig = {MathJaxConfig: 'local'};\n",
       "        if (window.MathJax && window.MathJax.Hub && window.MathJax.Hub.Config) {window.MathJax.Hub.Config({SVG: {font: \"STIX-Web\"}});}\n",
       "        if (typeof require !== 'undefined') {\n",
       "        require.undef(\"plotly\");\n",
       "        requirejs.config({\n",
       "            paths: {\n",
       "                'plotly': ['https://cdn.plot.ly/plotly-2.25.2.min']\n",
       "            }\n",
       "        });\n",
       "        require(['plotly'], function(Plotly) {\n",
       "            window._Plotly = Plotly;\n",
       "        });\n",
       "        }\n",
       "        </script>\n",
       "        "
      ]
     },
     "metadata": {},
     "output_type": "display_data"
    },
    {
     "name": "stdout",
     "output_type": "stream",
     "text": [
      "The autoreload extension is already loaded. To reload it, use:\n",
      "  %reload_ext autoreload\n"
     ]
    }
   ],
   "source": [
    "# Import libraries\n",
    "import pandas as pd\n",
    "import numpy as np\n",
    "# import boto3\n",
    "# import awswrangler as wr  \n",
    "import os\n",
    "# import itertools\n",
    "import plotly.express as px\n",
    "# from tqdm import tqdm\n",
    "# import seaborn as sns\n",
    "\n",
    "from IPython.display import display, HTML\n",
    "display(HTML(\"<style>.container { width:80% !important; }</style>\"))\n",
    "\n",
    "import matplotlib.pyplot as plt\n",
    "\n",
    "import plotly.io as pio\n",
    "pio.renderers.default = 'notebook'\n",
    "\n",
    "import plotly.offline as pyo\n",
    "pyo.init_notebook_mode(connected=True)\n",
    "\n",
    "%load_ext autoreload\n",
    "%autoreload 2"
   ]
  },
  {
   "cell_type": "code",
   "execution_count": 34,
   "id": "869002b2",
   "metadata": {
    "ExecuteTime": {
     "end_time": "2024-02-28T09:16:02.313609Z",
     "start_time": "2024-02-28T09:16:02.305529Z"
    },
    "code_folding": [
     0
    ]
   },
   "outputs": [],
   "source": [
    "# import sys\n",
    "# sys.path.append(\"/home/sesamm/miniconda3/envs/alerting/lib/python3.12/site-packages\")\n",
    "\n",
    "# import datasets"
   ]
  },
  {
   "cell_type": "markdown",
   "id": "b394777c",
   "metadata": {
    "heading_collapsed": true
   },
   "source": [
    "# ML energy\n",
    "\n",
    " - Dataset size = 260 rows.\n",
    " - 3 types of hardware : A40, A100, V100\n",
    " - 4 task variations : chat, chat-concise, instruct, instruct-concise\n",
    " - 23 LLM models : 3, 7, 12 and 13B size models. Half are 7b and only one 3b (fastchat)\n",
    " -  energy_per_token : wh/token\n",
    "\n",
    " => 12 tests / model, basides Llama tested only on A40.\n",
    " \n",
    "-  A100 > V100 >> A40, but not for 3B models\n",
    "\n",
    "- Whatever the GPU, consumption is a growing function of the models size.\n",
    "\n",
    "- Without surprise concise models generate less energy due to shorter responses, instruct-concise the lowest\n"
   ]
  },
  {
   "cell_type": "code",
   "execution_count": 3,
   "id": "c70cd4f3",
   "metadata": {
    "ExecuteTime": {
     "end_time": "2024-02-26T13:45:59.948306Z",
     "start_time": "2024-02-26T13:45:59.936322Z"
    },
    "hidden": true
   },
   "outputs": [
    {
     "data": {
      "text/plain": [
       "['score.csv',\n",
       " 'V100_instruct_benchmark.csv',\n",
       " 'models.json',\n",
       " 'A40_chat_benchmark.csv',\n",
       " 'A40_chat-concise_benchmark.csv',\n",
       " 'A100_instruct-concise_benchmark.csv',\n",
       " 'A100_instruct_benchmark.csv',\n",
       " 'A40_instruct-concise_benchmark.csv',\n",
       " 'A40_instruct_benchmark.csv',\n",
       " 'V100_instruct-concise_benchmark.csv',\n",
       " 'A100_chat_benchmark.csv',\n",
       " 'V100_chat-concise_benchmark.csv',\n",
       " 'A100_chat-concise_benchmark.csv',\n",
       " 'V100_chat_benchmark.csv']"
      ]
     },
     "execution_count": 3,
     "metadata": {},
     "output_type": "execute_result"
    }
   ],
   "source": [
    "os.listdir('./data/ml_energy/')"
   ]
  },
  {
   "cell_type": "code",
   "execution_count": 4,
   "id": "29f8c2ac",
   "metadata": {
    "ExecuteTime": {
     "end_time": "2024-02-26T13:46:02.489761Z",
     "start_time": "2024-02-26T13:46:02.482524Z"
    },
    "hidden": true
   },
   "outputs": [],
   "source": [
    "with open('./data/ml_energy/models.json', 'r') as fd:\n",
    "    model_params = json.load(fd)"
   ]
  },
  {
   "cell_type": "code",
   "execution_count": 5,
   "id": "2120abbb",
   "metadata": {
    "ExecuteTime": {
     "end_time": "2024-02-26T13:46:02.849465Z",
     "start_time": "2024-02-26T13:46:02.839875Z"
    },
    "hidden": true
   },
   "outputs": [],
   "source": [
    "# model_params"
   ]
  },
  {
   "cell_type": "code",
   "execution_count": 6,
   "id": "d4a341ee",
   "metadata": {
    "ExecuteTime": {
     "end_time": "2024-02-26T13:46:03.228675Z",
     "start_time": "2024-02-26T13:46:03.218410Z"
    },
    "hidden": true
   },
   "outputs": [
    {
     "data": {
      "text/plain": [
       "23"
      ]
     },
     "execution_count": 6,
     "metadata": {},
     "output_type": "execute_result"
    }
   ],
   "source": [
    "len(model_params.keys())"
   ]
  },
  {
   "cell_type": "code",
   "execution_count": 7,
   "id": "1572daa7",
   "metadata": {
    "ExecuteTime": {
     "end_time": "2024-02-26T13:46:03.990944Z",
     "start_time": "2024-02-26T13:46:03.976813Z"
    },
    "hidden": true
   },
   "outputs": [],
   "source": [
    "score_df = pd.read_csv('./data/ml_energy/score.csv') \n",
    "# score_df"
   ]
  },
  {
   "cell_type": "code",
   "execution_count": 8,
   "id": "aeaf5495",
   "metadata": {
    "ExecuteTime": {
     "end_time": "2024-02-26T13:46:04.623330Z",
     "start_time": "2024-02-26T13:46:04.611110Z"
    },
    "hidden": true
   },
   "outputs": [],
   "source": [
    "ml_energy_df = pd.read_csv('./data/aggregated_ml_energy.csv', keep_default_na=False)"
   ]
  },
  {
   "cell_type": "code",
   "execution_count": 9,
   "id": "67209218",
   "metadata": {
    "ExecuteTime": {
     "end_time": "2024-02-26T13:46:05.308214Z",
     "start_time": "2024-02-26T13:46:05.291082Z"
    },
    "hidden": true
   },
   "outputs": [
    {
     "data": {
      "text/html": [
       "<div>\n",
       "<style scoped>\n",
       "    .dataframe tbody tr th:only-of-type {\n",
       "        vertical-align: middle;\n",
       "    }\n",
       "\n",
       "    .dataframe tbody tr th {\n",
       "        vertical-align: top;\n",
       "    }\n",
       "\n",
       "    .dataframe thead th {\n",
       "        text-align: right;\n",
       "    }\n",
       "</style>\n",
       "<table border=\"1\" class=\"dataframe\">\n",
       "  <thead>\n",
       "    <tr style=\"text-align: right;\">\n",
       "      <th></th>\n",
       "      <th>model</th>\n",
       "      <th>throughput</th>\n",
       "      <th>response_length</th>\n",
       "      <th>latency</th>\n",
       "      <th>energy</th>\n",
       "      <th>gpu</th>\n",
       "      <th>task</th>\n",
       "      <th>parameters_count</th>\n",
       "      <th>energy_per_token</th>\n",
       "      <th>dtype</th>\n",
       "      <th>optimization</th>\n",
       "      <th>quantization</th>\n",
       "      <th>cuda-fp16</th>\n",
       "    </tr>\n",
       "  </thead>\n",
       "  <tbody>\n",
       "    <tr>\n",
       "      <th>0</th>\n",
       "      <td>BAIR/koala-13b</td>\n",
       "      <td>25.501170</td>\n",
       "      <td>258.854265</td>\n",
       "      <td>10.063551</td>\n",
       "      <td>1946.198744</td>\n",
       "      <td>A100</td>\n",
       "      <td>chat-concise</td>\n",
       "      <td>13</td>\n",
       "      <td>0.002088</td>\n",
       "      <td>float16</td>\n",
       "      <td>None</td>\n",
       "      <td>None</td>\n",
       "      <td>False</td>\n",
       "    </tr>\n",
       "    <tr>\n",
       "      <th>1</th>\n",
       "      <td>BAIR/koala-7b</td>\n",
       "      <td>32.927217</td>\n",
       "      <td>247.045668</td>\n",
       "      <td>7.462044</td>\n",
       "      <td>1195.704790</td>\n",
       "      <td>A100</td>\n",
       "      <td>chat-concise</td>\n",
       "      <td>7</td>\n",
       "      <td>0.001344</td>\n",
       "      <td>float16</td>\n",
       "      <td>None</td>\n",
       "      <td>None</td>\n",
       "      <td>False</td>\n",
       "    </tr>\n",
       "    <tr>\n",
       "      <th>2</th>\n",
       "      <td>RWKV/rwkv-raven-7b</td>\n",
       "      <td>64.478527</td>\n",
       "      <td>209.478845</td>\n",
       "      <td>2.921289</td>\n",
       "      <td>736.655330</td>\n",
       "      <td>A100</td>\n",
       "      <td>chat-concise</td>\n",
       "      <td>7</td>\n",
       "      <td>0.000977</td>\n",
       "      <td>float16</td>\n",
       "      <td>None</td>\n",
       "      <td>None</td>\n",
       "      <td>False</td>\n",
       "    </tr>\n",
       "    <tr>\n",
       "      <th>3</th>\n",
       "      <td>FreedomIntelligence/phoenix-inst-chat-7b</td>\n",
       "      <td>54.276457</td>\n",
       "      <td>233.511081</td>\n",
       "      <td>4.103907</td>\n",
       "      <td>1002.328573</td>\n",
       "      <td>A100</td>\n",
       "      <td>chat-concise</td>\n",
       "      <td>7</td>\n",
       "      <td>0.001192</td>\n",
       "      <td>float16</td>\n",
       "      <td>None</td>\n",
       "      <td>None</td>\n",
       "      <td>False</td>\n",
       "    </tr>\n",
       "    <tr>\n",
       "      <th>4</th>\n",
       "      <td>camel-ai/CAMEL-13B-Combined-Data</td>\n",
       "      <td>26.300221</td>\n",
       "      <td>282.480188</td>\n",
       "      <td>10.727640</td>\n",
       "      <td>2349.183088</td>\n",
       "      <td>A100</td>\n",
       "      <td>chat-concise</td>\n",
       "      <td>13</td>\n",
       "      <td>0.002310</td>\n",
       "      <td>float16</td>\n",
       "      <td>None</td>\n",
       "      <td>None</td>\n",
       "      <td>False</td>\n",
       "    </tr>\n",
       "    <tr>\n",
       "      <th>...</th>\n",
       "      <td>...</td>\n",
       "      <td>...</td>\n",
       "      <td>...</td>\n",
       "      <td>...</td>\n",
       "      <td>...</td>\n",
       "      <td>...</td>\n",
       "      <td>...</td>\n",
       "      <td>...</td>\n",
       "      <td>...</td>\n",
       "      <td>...</td>\n",
       "      <td>...</td>\n",
       "      <td>...</td>\n",
       "      <td>...</td>\n",
       "    </tr>\n",
       "    <tr>\n",
       "      <th>255</th>\n",
       "      <td>metaai/llama-7B</td>\n",
       "      <td>23.642990</td>\n",
       "      <td>110.302552</td>\n",
       "      <td>3.730666</td>\n",
       "      <td>636.401785</td>\n",
       "      <td>V100</td>\n",
       "      <td>instruct</td>\n",
       "      <td>7</td>\n",
       "      <td>0.001603</td>\n",
       "      <td>float16</td>\n",
       "      <td>None</td>\n",
       "      <td>None</td>\n",
       "      <td>False</td>\n",
       "    </tr>\n",
       "    <tr>\n",
       "      <th>256</th>\n",
       "      <td>tatsu-lab/alpaca-7B</td>\n",
       "      <td>31.257538</td>\n",
       "      <td>127.870047</td>\n",
       "      <td>3.985343</td>\n",
       "      <td>671.828829</td>\n",
       "      <td>V100</td>\n",
       "      <td>instruct</td>\n",
       "      <td>7</td>\n",
       "      <td>0.001459</td>\n",
       "      <td>float16</td>\n",
       "      <td>None</td>\n",
       "      <td>None</td>\n",
       "      <td>False</td>\n",
       "    </tr>\n",
       "    <tr>\n",
       "      <th>257</th>\n",
       "      <td>BAIR/koala-7b</td>\n",
       "      <td>31.414144</td>\n",
       "      <td>253.603761</td>\n",
       "      <td>7.832867</td>\n",
       "      <td>1181.363735</td>\n",
       "      <td>V100</td>\n",
       "      <td>instruct</td>\n",
       "      <td>7</td>\n",
       "      <td>0.001294</td>\n",
       "      <td>float16</td>\n",
       "      <td>None</td>\n",
       "      <td>None</td>\n",
       "      <td>False</td>\n",
       "    </tr>\n",
       "    <tr>\n",
       "      <th>258</th>\n",
       "      <td>RWKV/rwkv-raven-7b</td>\n",
       "      <td>39.939984</td>\n",
       "      <td>246.796508</td>\n",
       "      <td>5.837914</td>\n",
       "      <td>1302.030667</td>\n",
       "      <td>V100</td>\n",
       "      <td>instruct</td>\n",
       "      <td>7</td>\n",
       "      <td>0.001465</td>\n",
       "      <td>float16</td>\n",
       "      <td>None</td>\n",
       "      <td>None</td>\n",
       "      <td>False</td>\n",
       "    </tr>\n",
       "    <tr>\n",
       "      <th>259</th>\n",
       "      <td>Salesforce/xgen-7b-8k-inst</td>\n",
       "      <td>37.606060</td>\n",
       "      <td>273.058764</td>\n",
       "      <td>7.299936</td>\n",
       "      <td>1329.685454</td>\n",
       "      <td>V100</td>\n",
       "      <td>instruct</td>\n",
       "      <td>7</td>\n",
       "      <td>0.001353</td>\n",
       "      <td>float16</td>\n",
       "      <td>None</td>\n",
       "      <td>None</td>\n",
       "      <td>False</td>\n",
       "    </tr>\n",
       "  </tbody>\n",
       "</table>\n",
       "<p>260 rows × 13 columns</p>\n",
       "</div>"
      ],
      "text/plain": [
       "                                        model  throughput  response_length  \\\n",
       "0                              BAIR/koala-13b   25.501170       258.854265   \n",
       "1                               BAIR/koala-7b   32.927217       247.045668   \n",
       "2                          RWKV/rwkv-raven-7b   64.478527       209.478845   \n",
       "3    FreedomIntelligence/phoenix-inst-chat-7b   54.276457       233.511081   \n",
       "4            camel-ai/CAMEL-13B-Combined-Data   26.300221       282.480188   \n",
       "..                                        ...         ...              ...   \n",
       "255                           metaai/llama-7B   23.642990       110.302552   \n",
       "256                       tatsu-lab/alpaca-7B   31.257538       127.870047   \n",
       "257                             BAIR/koala-7b   31.414144       253.603761   \n",
       "258                        RWKV/rwkv-raven-7b   39.939984       246.796508   \n",
       "259                Salesforce/xgen-7b-8k-inst   37.606060       273.058764   \n",
       "\n",
       "       latency       energy   gpu          task  parameters_count  \\\n",
       "0    10.063551  1946.198744  A100  chat-concise                13   \n",
       "1     7.462044  1195.704790  A100  chat-concise                 7   \n",
       "2     2.921289   736.655330  A100  chat-concise                 7   \n",
       "3     4.103907  1002.328573  A100  chat-concise                 7   \n",
       "4    10.727640  2349.183088  A100  chat-concise                13   \n",
       "..         ...          ...   ...           ...               ...   \n",
       "255   3.730666   636.401785  V100      instruct                 7   \n",
       "256   3.985343   671.828829  V100      instruct                 7   \n",
       "257   7.832867  1181.363735  V100      instruct                 7   \n",
       "258   5.837914  1302.030667  V100      instruct                 7   \n",
       "259   7.299936  1329.685454  V100      instruct                 7   \n",
       "\n",
       "     energy_per_token    dtype optimization quantization  cuda-fp16  \n",
       "0            0.002088  float16         None         None      False  \n",
       "1            0.001344  float16         None         None      False  \n",
       "2            0.000977  float16         None         None      False  \n",
       "3            0.001192  float16         None         None      False  \n",
       "4            0.002310  float16         None         None      False  \n",
       "..                ...      ...          ...          ...        ...  \n",
       "255          0.001603  float16         None         None      False  \n",
       "256          0.001459  float16         None         None      False  \n",
       "257          0.001294  float16         None         None      False  \n",
       "258          0.001465  float16         None         None      False  \n",
       "259          0.001353  float16         None         None      False  \n",
       "\n",
       "[260 rows x 13 columns]"
      ]
     },
     "execution_count": 9,
     "metadata": {},
     "output_type": "execute_result"
    }
   ],
   "source": [
    "ml_energy_df"
   ]
  },
  {
   "cell_type": "code",
   "execution_count": 10,
   "id": "2791bdf3",
   "metadata": {
    "ExecuteTime": {
     "end_time": "2024-02-26T13:46:07.587088Z",
     "start_time": "2024-02-26T13:46:07.573595Z"
    },
    "hidden": true
   },
   "outputs": [
    {
     "data": {
      "text/html": [
       "<div>\n",
       "<style scoped>\n",
       "    .dataframe tbody tr th:only-of-type {\n",
       "        vertical-align: middle;\n",
       "    }\n",
       "\n",
       "    .dataframe tbody tr th {\n",
       "        vertical-align: top;\n",
       "    }\n",
       "\n",
       "    .dataframe thead th {\n",
       "        text-align: right;\n",
       "    }\n",
       "</style>\n",
       "<table border=\"1\" class=\"dataframe\">\n",
       "  <thead>\n",
       "    <tr style=\"text-align: right;\">\n",
       "      <th></th>\n",
       "      <th>model</th>\n",
       "    </tr>\n",
       "    <tr>\n",
       "      <th>parameters_count</th>\n",
       "      <th></th>\n",
       "    </tr>\n",
       "  </thead>\n",
       "  <tbody>\n",
       "    <tr>\n",
       "      <th>3</th>\n",
       "      <td>1</td>\n",
       "    </tr>\n",
       "    <tr>\n",
       "      <th>7</th>\n",
       "      <td>13</td>\n",
       "    </tr>\n",
       "    <tr>\n",
       "      <th>12</th>\n",
       "      <td>2</td>\n",
       "    </tr>\n",
       "    <tr>\n",
       "      <th>13</th>\n",
       "      <td>7</td>\n",
       "    </tr>\n",
       "  </tbody>\n",
       "</table>\n",
       "</div>"
      ],
      "text/plain": [
       "                  model\n",
       "parameters_count       \n",
       "3                     1\n",
       "7                    13\n",
       "12                    2\n",
       "13                    7"
      ]
     },
     "execution_count": 10,
     "metadata": {},
     "output_type": "execute_result"
    }
   ],
   "source": [
    "# 23 LLMs, most of which are 7B parameters. One 3B model parameter = lmsys/fastchat-t5-3b-v1.0\n",
    "pd.DataFrame(ml_energy_df.groupby(\"parameters_count\").model.nunique())"
   ]
  },
  {
   "cell_type": "code",
   "execution_count": 11,
   "id": "bcc8608e",
   "metadata": {
    "ExecuteTime": {
     "end_time": "2024-02-26T13:46:08.398060Z",
     "start_time": "2024-02-26T13:46:08.384024Z"
    },
    "hidden": true
   },
   "outputs": [
    {
     "data": {
      "text/html": [
       "<div>\n",
       "<style scoped>\n",
       "    .dataframe tbody tr th:only-of-type {\n",
       "        vertical-align: middle;\n",
       "    }\n",
       "\n",
       "    .dataframe tbody tr th {\n",
       "        vertical-align: top;\n",
       "    }\n",
       "\n",
       "    .dataframe thead th {\n",
       "        text-align: right;\n",
       "    }\n",
       "</style>\n",
       "<table border=\"1\" class=\"dataframe\">\n",
       "  <thead>\n",
       "    <tr style=\"text-align: right;\">\n",
       "      <th></th>\n",
       "      <th>count</th>\n",
       "      <th>gpu</th>\n",
       "    </tr>\n",
       "    <tr>\n",
       "      <th>model</th>\n",
       "      <th></th>\n",
       "      <th></th>\n",
       "    </tr>\n",
       "  </thead>\n",
       "  <tbody>\n",
       "    <tr>\n",
       "      <th>BAIR/koala-13b</th>\n",
       "      <td>12</td>\n",
       "      <td>[A100, A40, V100]</td>\n",
       "    </tr>\n",
       "    <tr>\n",
       "      <th>BAIR/koala-7b</th>\n",
       "      <td>12</td>\n",
       "      <td>[A100, A40, V100]</td>\n",
       "    </tr>\n",
       "    <tr>\n",
       "      <th>FreedomIntelligence/phoenix-inst-chat-7b</th>\n",
       "      <td>12</td>\n",
       "      <td>[A100, A40, V100]</td>\n",
       "    </tr>\n",
       "    <tr>\n",
       "      <th>Neutralzz/BiLLa-7B-SFT</th>\n",
       "      <td>12</td>\n",
       "      <td>[A100, A40, V100]</td>\n",
       "    </tr>\n",
       "    <tr>\n",
       "      <th>OpenAssistant/oasst-sft-1-pythia-12b</th>\n",
       "      <td>12</td>\n",
       "      <td>[A100, A40, V100]</td>\n",
       "    </tr>\n",
       "    <tr>\n",
       "      <th>RWKV/rwkv-raven-7b</th>\n",
       "      <td>12</td>\n",
       "      <td>[A100, A40, V100]</td>\n",
       "    </tr>\n",
       "    <tr>\n",
       "      <th>Salesforce/xgen-7b-8k-inst</th>\n",
       "      <td>12</td>\n",
       "      <td>[A100, A40, V100]</td>\n",
       "    </tr>\n",
       "    <tr>\n",
       "      <th>StabilityAI/stablelm-tuned-alpha-7b</th>\n",
       "      <td>12</td>\n",
       "      <td>[A100, A40, V100]</td>\n",
       "    </tr>\n",
       "    <tr>\n",
       "      <th>camel-ai/CAMEL-13B-Combined-Data</th>\n",
       "      <td>12</td>\n",
       "      <td>[A100, A40, V100]</td>\n",
       "    </tr>\n",
       "    <tr>\n",
       "      <th>databricks/dolly-v2-12b</th>\n",
       "      <td>12</td>\n",
       "      <td>[A100, A40, V100]</td>\n",
       "    </tr>\n",
       "    <tr>\n",
       "      <th>h2oai/h2ogpt-gm-oasst1-en-2048-open-llama-7b-preview-300bt-v2</th>\n",
       "      <td>12</td>\n",
       "      <td>[A100, A40, V100]</td>\n",
       "    </tr>\n",
       "    <tr>\n",
       "      <th>lmsys/fastchat-t5-3b-v1.0</th>\n",
       "      <td>12</td>\n",
       "      <td>[A100, A40, V100]</td>\n",
       "    </tr>\n",
       "    <tr>\n",
       "      <th>lmsys/vicuna-13B</th>\n",
       "      <td>12</td>\n",
       "      <td>[A100, A40, V100]</td>\n",
       "    </tr>\n",
       "    <tr>\n",
       "      <th>lmsys/vicuna-7B</th>\n",
       "      <td>12</td>\n",
       "      <td>[A100, A40, V100]</td>\n",
       "    </tr>\n",
       "    <tr>\n",
       "      <th>metaai/Llama-2-13b-chat-hf</th>\n",
       "      <td>4</td>\n",
       "      <td>[A40]</td>\n",
       "    </tr>\n",
       "    <tr>\n",
       "      <th>metaai/Llama-2-7b-chat-hf</th>\n",
       "      <td>4</td>\n",
       "      <td>[A40]</td>\n",
       "    </tr>\n",
       "    <tr>\n",
       "      <th>metaai/llama-13B</th>\n",
       "      <td>12</td>\n",
       "      <td>[A100, A40, V100]</td>\n",
       "    </tr>\n",
       "    <tr>\n",
       "      <th>metaai/llama-7B</th>\n",
       "      <td>12</td>\n",
       "      <td>[A100, A40, V100]</td>\n",
       "    </tr>\n",
       "    <tr>\n",
       "      <th>nomic-ai/gpt4all-13b-snoozy</th>\n",
       "      <td>12</td>\n",
       "      <td>[A100, A40, V100]</td>\n",
       "    </tr>\n",
       "    <tr>\n",
       "      <th>openaccess-ai-collective/manticore-13b-chat-pyg</th>\n",
       "      <td>12</td>\n",
       "      <td>[A100, A40, V100]</td>\n",
       "    </tr>\n",
       "    <tr>\n",
       "      <th>project-baize/baize-v2-7B</th>\n",
       "      <td>12</td>\n",
       "      <td>[A100, A40, V100]</td>\n",
       "    </tr>\n",
       "    <tr>\n",
       "      <th>tatsu-lab/alpaca-7B</th>\n",
       "      <td>12</td>\n",
       "      <td>[A100, A40, V100]</td>\n",
       "    </tr>\n",
       "    <tr>\n",
       "      <th>togethercomputer/RedPajama-INCITE-7B-Chat</th>\n",
       "      <td>12</td>\n",
       "      <td>[A100, A40, V100]</td>\n",
       "    </tr>\n",
       "  </tbody>\n",
       "</table>\n",
       "</div>"
      ],
      "text/plain": [
       "                                                    count                gpu\n",
       "model                                                                       \n",
       "BAIR/koala-13b                                         12  [A100, A40, V100]\n",
       "BAIR/koala-7b                                          12  [A100, A40, V100]\n",
       "FreedomIntelligence/phoenix-inst-chat-7b               12  [A100, A40, V100]\n",
       "Neutralzz/BiLLa-7B-SFT                                 12  [A100, A40, V100]\n",
       "OpenAssistant/oasst-sft-1-pythia-12b                   12  [A100, A40, V100]\n",
       "RWKV/rwkv-raven-7b                                     12  [A100, A40, V100]\n",
       "Salesforce/xgen-7b-8k-inst                             12  [A100, A40, V100]\n",
       "StabilityAI/stablelm-tuned-alpha-7b                    12  [A100, A40, V100]\n",
       "camel-ai/CAMEL-13B-Combined-Data                       12  [A100, A40, V100]\n",
       "databricks/dolly-v2-12b                                12  [A100, A40, V100]\n",
       "h2oai/h2ogpt-gm-oasst1-en-2048-open-llama-7b-pr...     12  [A100, A40, V100]\n",
       "lmsys/fastchat-t5-3b-v1.0                              12  [A100, A40, V100]\n",
       "lmsys/vicuna-13B                                       12  [A100, A40, V100]\n",
       "lmsys/vicuna-7B                                        12  [A100, A40, V100]\n",
       "metaai/Llama-2-13b-chat-hf                              4              [A40]\n",
       "metaai/Llama-2-7b-chat-hf                               4              [A40]\n",
       "metaai/llama-13B                                       12  [A100, A40, V100]\n",
       "metaai/llama-7B                                        12  [A100, A40, V100]\n",
       "nomic-ai/gpt4all-13b-snoozy                            12  [A100, A40, V100]\n",
       "openaccess-ai-collective/manticore-13b-chat-pyg        12  [A100, A40, V100]\n",
       "project-baize/baize-v2-7B                              12  [A100, A40, V100]\n",
       "tatsu-lab/alpaca-7B                                    12  [A100, A40, V100]\n",
       "togethercomputer/RedPajama-INCITE-7B-Chat              12  [A100, A40, V100]"
      ]
     },
     "execution_count": 11,
     "metadata": {},
     "output_type": "execute_result"
    }
   ],
   "source": [
    "# Tests only on A40 for LLaMa\n",
    "pd.DataFrame(ml_energy_df.model.value_counts()).merge(pd.DataFrame(ml_energy_df.groupby('model').gpu.unique()), left_index=True, right_index=True, how='outer')"
   ]
  },
  {
   "cell_type": "code",
   "execution_count": 12,
   "id": "c5d1cd8d",
   "metadata": {
    "ExecuteTime": {
     "end_time": "2024-02-26T13:46:10.848002Z",
     "start_time": "2024-02-26T13:46:10.841518Z"
    },
    "hidden": true
   },
   "outputs": [],
   "source": [
    "# ml_energy_df.dtype.unique()"
   ]
  },
  {
   "cell_type": "code",
   "execution_count": 13,
   "id": "622ef20e",
   "metadata": {
    "ExecuteTime": {
     "end_time": "2024-02-26T13:46:11.158546Z",
     "start_time": "2024-02-26T13:46:11.144961Z"
    },
    "cell_style": "split",
    "hidden": true
   },
   "outputs": [
    {
     "name": "stdout",
     "output_type": "stream",
     "text": [
      "<class 'pandas.core.frame.DataFrame'>\n",
      "RangeIndex: 260 entries, 0 to 259\n",
      "Data columns (total 13 columns):\n",
      " #   Column            Non-Null Count  Dtype  \n",
      "---  ------            --------------  -----  \n",
      " 0   model             260 non-null    object \n",
      " 1   throughput        260 non-null    float64\n",
      " 2   response_length   260 non-null    float64\n",
      " 3   latency           260 non-null    float64\n",
      " 4   energy            260 non-null    float64\n",
      " 5   gpu               260 non-null    object \n",
      " 6   task              260 non-null    object \n",
      " 7   parameters_count  260 non-null    int64  \n",
      " 8   energy_per_token  260 non-null    float64\n",
      " 9   dtype             260 non-null    object \n",
      " 10  optimization      260 non-null    object \n",
      " 11  quantization      260 non-null    object \n",
      " 12  cuda-fp16         260 non-null    bool   \n",
      "dtypes: bool(1), float64(5), int64(1), object(6)\n",
      "memory usage: 24.8+ KB\n"
     ]
    }
   ],
   "source": [
    "ml_energy_df.info()"
   ]
  },
  {
   "cell_type": "code",
   "execution_count": 14,
   "id": "576b70d3",
   "metadata": {
    "ExecuteTime": {
     "end_time": "2024-02-26T13:46:12.197491Z",
     "start_time": "2024-02-26T13:46:12.181556Z"
    },
    "cell_style": "split",
    "hidden": true
   },
   "outputs": [
    {
     "data": {
      "text/html": [
       "<div>\n",
       "<style scoped>\n",
       "    .dataframe tbody tr th:only-of-type {\n",
       "        vertical-align: middle;\n",
       "    }\n",
       "\n",
       "    .dataframe tbody tr th {\n",
       "        vertical-align: top;\n",
       "    }\n",
       "\n",
       "    .dataframe thead th {\n",
       "        text-align: right;\n",
       "    }\n",
       "</style>\n",
       "<table border=\"1\" class=\"dataframe\">\n",
       "  <thead>\n",
       "    <tr style=\"text-align: right;\">\n",
       "      <th></th>\n",
       "      <th>throughput</th>\n",
       "      <th>response_length</th>\n",
       "      <th>latency</th>\n",
       "      <th>energy</th>\n",
       "      <th>parameters_count</th>\n",
       "      <th>energy_per_token</th>\n",
       "    </tr>\n",
       "  </thead>\n",
       "  <tbody>\n",
       "    <tr>\n",
       "      <th>count</th>\n",
       "      <td>260.000000</td>\n",
       "      <td>260.000000</td>\n",
       "      <td>260.000000</td>\n",
       "      <td>260.000000</td>\n",
       "      <td>260.000000</td>\n",
       "      <td>260.000000</td>\n",
       "    </tr>\n",
       "    <tr>\n",
       "      <th>mean</th>\n",
       "      <td>27.608889</td>\n",
       "      <td>224.494313</td>\n",
       "      <td>8.987958</td>\n",
       "      <td>1759.911630</td>\n",
       "      <td>9.030769</td>\n",
       "      <td>0.002202</td>\n",
       "    </tr>\n",
       "    <tr>\n",
       "      <th>std</th>\n",
       "      <td>9.312289</td>\n",
       "      <td>71.271262</td>\n",
       "      <td>4.427355</td>\n",
       "      <td>925.369666</td>\n",
       "      <td>3.079233</td>\n",
       "      <td>0.000936</td>\n",
       "    </tr>\n",
       "    <tr>\n",
       "      <th>min</th>\n",
       "      <td>14.438333</td>\n",
       "      <td>60.651444</td>\n",
       "      <td>1.986240</td>\n",
       "      <td>335.256588</td>\n",
       "      <td>3.000000</td>\n",
       "      <td>0.000675</td>\n",
       "    </tr>\n",
       "    <tr>\n",
       "      <th>25%</th>\n",
       "      <td>21.429872</td>\n",
       "      <td>181.464322</td>\n",
       "      <td>5.534973</td>\n",
       "      <td>1103.811052</td>\n",
       "      <td>7.000000</td>\n",
       "      <td>0.001444</td>\n",
       "    </tr>\n",
       "    <tr>\n",
       "      <th>50%</th>\n",
       "      <td>26.743612</td>\n",
       "      <td>242.940060</td>\n",
       "      <td>8.510843</td>\n",
       "      <td>1571.847936</td>\n",
       "      <td>7.000000</td>\n",
       "      <td>0.002130</td>\n",
       "    </tr>\n",
       "    <tr>\n",
       "      <th>75%</th>\n",
       "      <td>31.829087</td>\n",
       "      <td>273.593267</td>\n",
       "      <td>11.585607</td>\n",
       "      <td>2217.752910</td>\n",
       "      <td>13.000000</td>\n",
       "      <td>0.002577</td>\n",
       "    </tr>\n",
       "    <tr>\n",
       "      <th>max</th>\n",
       "      <td>66.070161</td>\n",
       "      <td>428.193418</td>\n",
       "      <td>24.003582</td>\n",
       "      <td>4466.796723</td>\n",
       "      <td>13.000000</td>\n",
       "      <td>0.004626</td>\n",
       "    </tr>\n",
       "  </tbody>\n",
       "</table>\n",
       "</div>"
      ],
      "text/plain": [
       "       throughput  response_length     latency       energy  parameters_count  \\\n",
       "count  260.000000       260.000000  260.000000   260.000000        260.000000   \n",
       "mean    27.608889       224.494313    8.987958  1759.911630          9.030769   \n",
       "std      9.312289        71.271262    4.427355   925.369666          3.079233   \n",
       "min     14.438333        60.651444    1.986240   335.256588          3.000000   \n",
       "25%     21.429872       181.464322    5.534973  1103.811052          7.000000   \n",
       "50%     26.743612       242.940060    8.510843  1571.847936          7.000000   \n",
       "75%     31.829087       273.593267   11.585607  2217.752910         13.000000   \n",
       "max     66.070161       428.193418   24.003582  4466.796723         13.000000   \n",
       "\n",
       "       energy_per_token  \n",
       "count        260.000000  \n",
       "mean           0.002202  \n",
       "std            0.000936  \n",
       "min            0.000675  \n",
       "25%            0.001444  \n",
       "50%            0.002130  \n",
       "75%            0.002577  \n",
       "max            0.004626  "
      ]
     },
     "execution_count": 14,
     "metadata": {},
     "output_type": "execute_result"
    }
   ],
   "source": [
    "ml_energy_df.describe()"
   ]
  },
  {
   "cell_type": "code",
   "execution_count": null,
   "id": "ec153970",
   "metadata": {
    "ExecuteTime": {
     "end_time": "2024-02-26T13:14:00.405219Z",
     "start_time": "2024-02-26T13:14:00.391767Z"
    },
    "hidden": true
   },
   "outputs": [],
   "source": [
    "## Dataset used as LLM input for experimentation "
   ]
  },
  {
   "cell_type": "code",
   "execution_count": 192,
   "id": "a620393f",
   "metadata": {
    "ExecuteTime": {
     "end_time": "2024-02-28T11:25:44.310657Z",
     "start_time": "2024-02-28T11:25:44.290000Z"
    },
    "cell_style": "split",
    "hidden": true
   },
   "outputs": [
    {
     "data": {
      "text/html": [
       "<div>\n",
       "<style scoped>\n",
       "    .dataframe tbody tr th:only-of-type {\n",
       "        vertical-align: middle;\n",
       "    }\n",
       "\n",
       "    .dataframe tbody tr th {\n",
       "        vertical-align: top;\n",
       "    }\n",
       "\n",
       "    .dataframe thead th {\n",
       "        text-align: right;\n",
       "    }\n",
       "</style>\n",
       "<table border=\"1\" class=\"dataframe\">\n",
       "  <thead>\n",
       "    <tr style=\"text-align: right;\">\n",
       "      <th>gpu</th>\n",
       "      <th>A100</th>\n",
       "      <th>A40</th>\n",
       "      <th>V100</th>\n",
       "    </tr>\n",
       "    <tr>\n",
       "      <th>parameters_count</th>\n",
       "      <th></th>\n",
       "      <th></th>\n",
       "      <th></th>\n",
       "    </tr>\n",
       "  </thead>\n",
       "  <tbody>\n",
       "    <tr>\n",
       "      <th>3</th>\n",
       "      <td>0.001303</td>\n",
       "      <td>0.001413</td>\n",
       "      <td>0.000831</td>\n",
       "    </tr>\n",
       "    <tr>\n",
       "      <th>7</th>\n",
       "      <td>0.001340</td>\n",
       "      <td>0.002236</td>\n",
       "      <td>0.001484</td>\n",
       "    </tr>\n",
       "    <tr>\n",
       "      <th>12</th>\n",
       "      <td>0.002176</td>\n",
       "      <td>0.004248</td>\n",
       "      <td>0.002724</td>\n",
       "    </tr>\n",
       "    <tr>\n",
       "      <th>13</th>\n",
       "      <td>0.002268</td>\n",
       "      <td>0.004075</td>\n",
       "      <td>0.002702</td>\n",
       "    </tr>\n",
       "  </tbody>\n",
       "</table>\n",
       "</div>"
      ],
      "text/plain": [
       "gpu                   A100       A40      V100\n",
       "parameters_count                              \n",
       "3                 0.001303  0.001413  0.000831\n",
       "7                 0.001340  0.002236  0.001484\n",
       "12                0.002176  0.004248  0.002724\n",
       "13                0.002268  0.004075  0.002702"
      ]
     },
     "execution_count": 192,
     "metadata": {},
     "output_type": "execute_result"
    }
   ],
   "source": [
    "ml_energy_df.groupby(['parameters_count', 'gpu']).energy_per_token.mean().unstack()"
   ]
  },
  {
   "cell_type": "code",
   "execution_count": 16,
   "id": "7ee4b1aa",
   "metadata": {
    "ExecuteTime": {
     "end_time": "2024-02-26T13:46:27.306737Z",
     "start_time": "2024-02-26T13:46:27.290597Z"
    },
    "cell_style": "split",
    "hidden": true
   },
   "outputs": [
    {
     "data": {
      "text/html": [
       "<div>\n",
       "<style scoped>\n",
       "    .dataframe tbody tr th:only-of-type {\n",
       "        vertical-align: middle;\n",
       "    }\n",
       "\n",
       "    .dataframe tbody tr th {\n",
       "        vertical-align: top;\n",
       "    }\n",
       "\n",
       "    .dataframe thead th {\n",
       "        text-align: right;\n",
       "    }\n",
       "</style>\n",
       "<table border=\"1\" class=\"dataframe\">\n",
       "  <thead>\n",
       "    <tr style=\"text-align: right;\">\n",
       "      <th>gpu</th>\n",
       "      <th>A100</th>\n",
       "      <th>A40</th>\n",
       "      <th>V100</th>\n",
       "    </tr>\n",
       "    <tr>\n",
       "      <th>parameters_count</th>\n",
       "      <th></th>\n",
       "      <th></th>\n",
       "      <th></th>\n",
       "    </tr>\n",
       "  </thead>\n",
       "  <tbody>\n",
       "    <tr>\n",
       "      <th>3</th>\n",
       "      <td>1</td>\n",
       "      <td>1</td>\n",
       "      <td>1</td>\n",
       "    </tr>\n",
       "    <tr>\n",
       "      <th>7</th>\n",
       "      <td>12</td>\n",
       "      <td>13</td>\n",
       "      <td>12</td>\n",
       "    </tr>\n",
       "    <tr>\n",
       "      <th>12</th>\n",
       "      <td>2</td>\n",
       "      <td>2</td>\n",
       "      <td>2</td>\n",
       "    </tr>\n",
       "    <tr>\n",
       "      <th>13</th>\n",
       "      <td>6</td>\n",
       "      <td>7</td>\n",
       "      <td>6</td>\n",
       "    </tr>\n",
       "  </tbody>\n",
       "</table>\n",
       "</div>"
      ],
      "text/plain": [
       "gpu               A100  A40  V100\n",
       "parameters_count                 \n",
       "3                    1    1     1\n",
       "7                   12   13    12\n",
       "12                   2    2     2\n",
       "13                   6    7     6"
      ]
     },
     "execution_count": 16,
     "metadata": {},
     "output_type": "execute_result"
    }
   ],
   "source": [
    "# ml_energy_df.groupby(['parameters_count', 'gpu']).size().unstack()\n",
    "ml_energy_df.groupby(['parameters_count', 'gpu']).model.nunique().unstack()"
   ]
  },
  {
   "cell_type": "markdown",
   "id": "91f648ef",
   "metadata": {
    "hidden": true
   },
   "source": [
    "A100 > V100 > A40\n",
    "\n",
    "Whatever the GPU, consumption is a growing function of the models size.\n",
    "\n",
    "Without surprise concise models generate less energy due to shorter responses, instruct-concise the lowest"
   ]
  },
  {
   "cell_type": "code",
   "execution_count": 194,
   "id": "8951dd80",
   "metadata": {
    "ExecuteTime": {
     "end_time": "2024-02-28T11:26:27.085514Z",
     "start_time": "2024-02-28T11:26:27.068710Z"
    },
    "hidden": true
   },
   "outputs": [
    {
     "data": {
      "text/html": [
       "<div>\n",
       "<style scoped>\n",
       "    .dataframe tbody tr th:only-of-type {\n",
       "        vertical-align: middle;\n",
       "    }\n",
       "\n",
       "    .dataframe tbody tr th {\n",
       "        vertical-align: top;\n",
       "    }\n",
       "\n",
       "    .dataframe thead th {\n",
       "        text-align: right;\n",
       "    }\n",
       "</style>\n",
       "<table border=\"1\" class=\"dataframe\">\n",
       "  <thead>\n",
       "    <tr style=\"text-align: right;\">\n",
       "      <th>task</th>\n",
       "      <th>chat</th>\n",
       "      <th>chat-concise</th>\n",
       "      <th>instruct</th>\n",
       "      <th>instruct-concise</th>\n",
       "    </tr>\n",
       "    <tr>\n",
       "      <th>gpu</th>\n",
       "      <th></th>\n",
       "      <th></th>\n",
       "      <th></th>\n",
       "      <th></th>\n",
       "    </tr>\n",
       "  </thead>\n",
       "  <tbody>\n",
       "    <tr>\n",
       "      <th>A100</th>\n",
       "      <td>1434.099724</td>\n",
       "      <td>1344.188430</td>\n",
       "      <td>1384.503047</td>\n",
       "      <td>1118.089412</td>\n",
       "    </tr>\n",
       "    <tr>\n",
       "      <th>A40</th>\n",
       "      <td>2580.923048</td>\n",
       "      <td>2481.574307</td>\n",
       "      <td>2509.738636</td>\n",
       "      <td>2039.381988</td>\n",
       "    </tr>\n",
       "    <tr>\n",
       "      <th>V100</th>\n",
       "      <td>1591.504919</td>\n",
       "      <td>1552.816582</td>\n",
       "      <td>1541.962225</td>\n",
       "      <td>1295.207577</td>\n",
       "    </tr>\n",
       "  </tbody>\n",
       "</table>\n",
       "</div>"
      ],
      "text/plain": [
       "task         chat  chat-concise     instruct  instruct-concise\n",
       "gpu                                                           \n",
       "A100  1434.099724   1344.188430  1384.503047       1118.089412\n",
       "A40   2580.923048   2481.574307  2509.738636       2039.381988\n",
       "V100  1591.504919   1552.816582  1541.962225       1295.207577"
      ]
     },
     "execution_count": 194,
     "metadata": {},
     "output_type": "execute_result"
    }
   ],
   "source": [
    "ml_energy_df.groupby(['gpu', 'task']).energy.mean().unstack()"
   ]
  },
  {
   "cell_type": "code",
   "execution_count": 114,
   "id": "91ae19d0",
   "metadata": {
    "ExecuteTime": {
     "end_time": "2024-02-28T10:17:42.951863Z",
     "start_time": "2024-02-28T10:17:42.936346Z"
    },
    "hidden": true
   },
   "outputs": [
    {
     "data": {
      "text/html": [
       "<div>\n",
       "<style scoped>\n",
       "    .dataframe tbody tr th:only-of-type {\n",
       "        vertical-align: middle;\n",
       "    }\n",
       "\n",
       "    .dataframe tbody tr th {\n",
       "        vertical-align: top;\n",
       "    }\n",
       "\n",
       "    .dataframe thead th {\n",
       "        text-align: right;\n",
       "    }\n",
       "</style>\n",
       "<table border=\"1\" class=\"dataframe\">\n",
       "  <thead>\n",
       "    <tr style=\"text-align: right;\">\n",
       "      <th>task</th>\n",
       "      <th>chat</th>\n",
       "      <th>chat-concise</th>\n",
       "      <th>instruct</th>\n",
       "      <th>instruct-concise</th>\n",
       "    </tr>\n",
       "    <tr>\n",
       "      <th>gpu</th>\n",
       "      <th></th>\n",
       "      <th></th>\n",
       "      <th></th>\n",
       "      <th></th>\n",
       "    </tr>\n",
       "  </thead>\n",
       "  <tbody>\n",
       "    <tr>\n",
       "      <th>A100</th>\n",
       "      <td>0.001718</td>\n",
       "      <td>0.001670</td>\n",
       "      <td>0.001706</td>\n",
       "      <td>0.001637</td>\n",
       "    </tr>\n",
       "    <tr>\n",
       "      <th>A40</th>\n",
       "      <td>0.002939</td>\n",
       "      <td>0.002952</td>\n",
       "      <td>0.002940</td>\n",
       "      <td>0.002907</td>\n",
       "    </tr>\n",
       "    <tr>\n",
       "      <th>V100</th>\n",
       "      <td>0.001913</td>\n",
       "      <td>0.001955</td>\n",
       "      <td>0.001911</td>\n",
       "      <td>0.001897</td>\n",
       "    </tr>\n",
       "  </tbody>\n",
       "</table>\n",
       "</div>"
      ],
      "text/plain": [
       "task      chat  chat-concise  instruct  instruct-concise\n",
       "gpu                                                     \n",
       "A100  0.001718      0.001670  0.001706          0.001637\n",
       "A40   0.002939      0.002952  0.002940          0.002907\n",
       "V100  0.001913      0.001955  0.001911          0.001897"
      ]
     },
     "execution_count": 114,
     "metadata": {},
     "output_type": "execute_result"
    }
   ],
   "source": [
    "ml_energy_df.groupby(['gpu', 'task']).energy_per_token.mean().unstack()"
   ]
  },
  {
   "cell_type": "code",
   "execution_count": 41,
   "id": "b0d91662",
   "metadata": {
    "ExecuteTime": {
     "end_time": "2024-02-28T09:31:27.078545Z",
     "start_time": "2024-02-28T09:31:27.062986Z"
    },
    "hidden": true
   },
   "outputs": [
    {
     "data": {
      "text/html": [
       "<div>\n",
       "<style scoped>\n",
       "    .dataframe tbody tr th:only-of-type {\n",
       "        vertical-align: middle;\n",
       "    }\n",
       "\n",
       "    .dataframe tbody tr th {\n",
       "        vertical-align: top;\n",
       "    }\n",
       "\n",
       "    .dataframe thead th {\n",
       "        text-align: right;\n",
       "    }\n",
       "</style>\n",
       "<table border=\"1\" class=\"dataframe\">\n",
       "  <thead>\n",
       "    <tr style=\"text-align: right;\">\n",
       "      <th>task</th>\n",
       "      <th>chat</th>\n",
       "      <th>chat-concise</th>\n",
       "      <th>instruct</th>\n",
       "      <th>instruct-concise</th>\n",
       "    </tr>\n",
       "    <tr>\n",
       "      <th>parameters_count</th>\n",
       "      <th></th>\n",
       "      <th></th>\n",
       "      <th></th>\n",
       "      <th></th>\n",
       "    </tr>\n",
       "  </thead>\n",
       "  <tbody>\n",
       "    <tr>\n",
       "      <th>3</th>\n",
       "      <td>313.373069</td>\n",
       "      <td>312.117529</td>\n",
       "      <td>357.157376</td>\n",
       "      <td>282.170920</td>\n",
       "    </tr>\n",
       "    <tr>\n",
       "      <th>7</th>\n",
       "      <td>230.754824</td>\n",
       "      <td>223.669414</td>\n",
       "      <td>228.848139</td>\n",
       "      <td>201.385521</td>\n",
       "    </tr>\n",
       "    <tr>\n",
       "      <th>12</th>\n",
       "      <td>203.917842</td>\n",
       "      <td>196.577905</td>\n",
       "      <td>205.564529</td>\n",
       "      <td>196.455395</td>\n",
       "    </tr>\n",
       "    <tr>\n",
       "      <th>13</th>\n",
       "      <td>249.665070</td>\n",
       "      <td>236.233767</td>\n",
       "      <td>236.006645</td>\n",
       "      <td>174.232866</td>\n",
       "    </tr>\n",
       "  </tbody>\n",
       "</table>\n",
       "</div>"
      ],
      "text/plain": [
       "task                    chat  chat-concise    instruct  instruct-concise\n",
       "parameters_count                                                        \n",
       "3                 313.373069    312.117529  357.157376        282.170920\n",
       "7                 230.754824    223.669414  228.848139        201.385521\n",
       "12                203.917842    196.577905  205.564529        196.455395\n",
       "13                249.665070    236.233767  236.006645        174.232866"
      ]
     },
     "execution_count": 41,
     "metadata": {},
     "output_type": "execute_result"
    }
   ],
   "source": [
    "ml_energy_df.groupby(['parameters_count', 'task']).response_length.mean().unstack()"
   ]
  },
  {
   "cell_type": "code",
   "execution_count": 19,
   "id": "2053fefe",
   "metadata": {
    "ExecuteTime": {
     "end_time": "2024-02-26T13:53:42.531535Z",
     "start_time": "2024-02-26T13:53:42.524174Z"
    },
    "code_folding": [
     0
    ],
    "hidden": true
   },
   "outputs": [],
   "source": [
    "# ml_energy_df_100 = ml_energy_df[ml_energy_df.gpu != \"A40\"]\n",
    "# ml_energy_df_100[[\"gpu\", \"energy\",\"model\"]]"
   ]
  },
  {
   "cell_type": "code",
   "execution_count": null,
   "id": "a8be993a",
   "metadata": {
    "ExecuteTime": {
     "end_time": "2024-02-26T13:45:45.292544Z",
     "start_time": "2024-02-26T13:45:45.284867Z"
    },
    "code_folding": [
     0
    ],
    "hidden": true,
    "scrolled": false
   },
   "outputs": [],
   "source": [
    "# for model in ml_energy_df.model.unique():\n",
    "#     print(model)\n",
    "#     model_df = ml_energy_df[ml_energy_df.model==model]\n",
    "#     print(model_df.groupby(\"gpu\").energy.mean())\n",
    "#     print()"
   ]
  },
  {
   "cell_type": "markdown",
   "id": "e75551ec",
   "metadata": {},
   "source": [
    "# LLM perf\n",
    "\n",
    " - Dataset size = 1944 rows.\n",
    " - 2 types of hardware : A100-SXM4-80GB\t, NVIDIA GeForce RTX 4090. Most tests on A100.\n",
    " - 1 task  : chat\n",
    " - 181 LLM models : 0.5-70B size models. Mostly 3B, 7B and 13B.\n",
    " -  energy_per_token : wh/token\n",
    "\n",
    "Filters to be on same conditions as ML energy : no quantization, no optimization, float16 only\n",
    "\n",
    "After filtering : 59 rows."
   ]
  },
  {
   "cell_type": "code",
   "execution_count": 29,
   "id": "855f1fa5",
   "metadata": {
    "ExecuteTime": {
     "end_time": "2024-02-28T09:14:39.186048Z",
     "start_time": "2024-02-28T09:14:39.173370Z"
    }
   },
   "outputs": [
    {
     "data": {
      "text/plain": [
       "(1944, 13)"
      ]
     },
     "execution_count": 29,
     "metadata": {},
     "output_type": "execute_result"
    }
   ],
   "source": [
    "llm_perf_df = pd.read_csv('./data/aggregated_llm_perf.csv', keep_default_na=False)\n",
    "llm_perf_df.shape"
   ]
  },
  {
   "cell_type": "code",
   "execution_count": 136,
   "id": "05499805",
   "metadata": {
    "ExecuteTime": {
     "end_time": "2024-02-28T10:52:00.148749Z",
     "start_time": "2024-02-28T10:52:00.133635Z"
    }
   },
   "outputs": [
    {
     "data": {
      "text/plain": [
       "181"
      ]
     },
     "execution_count": 136,
     "metadata": {},
     "output_type": "execute_result"
    }
   ],
   "source": [
    "llm_perf_df.model.nunique()"
   ]
  },
  {
   "cell_type": "code",
   "execution_count": 43,
   "id": "b8faf0f5",
   "metadata": {
    "ExecuteTime": {
     "end_time": "2024-02-28T09:33:16.064099Z",
     "start_time": "2024-02-28T09:33:16.051306Z"
    }
   },
   "outputs": [
    {
     "data": {
      "text/html": [
       "<div>\n",
       "<style scoped>\n",
       "    .dataframe tbody tr th:only-of-type {\n",
       "        vertical-align: middle;\n",
       "    }\n",
       "\n",
       "    .dataframe tbody tr th {\n",
       "        vertical-align: top;\n",
       "    }\n",
       "\n",
       "    .dataframe thead th {\n",
       "        text-align: right;\n",
       "    }\n",
       "</style>\n",
       "<table border=\"1\" class=\"dataframe\">\n",
       "  <thead>\n",
       "    <tr style=\"text-align: right;\">\n",
       "      <th></th>\n",
       "      <th>model</th>\n",
       "      <th>throughput</th>\n",
       "      <th>response_length</th>\n",
       "      <th>latency</th>\n",
       "      <th>energy</th>\n",
       "      <th>gpu</th>\n",
       "      <th>task</th>\n",
       "      <th>parameters_count</th>\n",
       "      <th>energy_per_token</th>\n",
       "      <th>dtype</th>\n",
       "      <th>optimization</th>\n",
       "      <th>quantization</th>\n",
       "      <th>cuda-fp16</th>\n",
       "    </tr>\n",
       "  </thead>\n",
       "  <tbody>\n",
       "    <tr>\n",
       "      <th>0</th>\n",
       "      <td>EleutherAI/gpt-neox-20b</td>\n",
       "      <td>27.4</td>\n",
       "      <td>256</td>\n",
       "      <td>9.34</td>\n",
       "      <td>3013.632</td>\n",
       "      <td>NVIDIA A100-SXM4-80GB</td>\n",
       "      <td>chat</td>\n",
       "      <td>20.0</td>\n",
       "      <td>0.00327</td>\n",
       "      <td>float16</td>\n",
       "      <td>None</td>\n",
       "      <td>gptq-4bit+exllama-v1</td>\n",
       "      <td>False</td>\n",
       "    </tr>\n",
       "    <tr>\n",
       "      <th>1</th>\n",
       "      <td>EleutherAI/pythia-6.9b-deduped</td>\n",
       "      <td>42.3</td>\n",
       "      <td>256</td>\n",
       "      <td>6.05</td>\n",
       "      <td>1649.664</td>\n",
       "      <td>NVIDIA A100-SXM4-80GB</td>\n",
       "      <td>chat</td>\n",
       "      <td>6.9</td>\n",
       "      <td>0.00179</td>\n",
       "      <td>float16</td>\n",
       "      <td>None</td>\n",
       "      <td>gptq-4bit+exllama-v1</td>\n",
       "      <td>False</td>\n",
       "    </tr>\n",
       "    <tr>\n",
       "      <th>2</th>\n",
       "      <td>EleutherAI/pythia-6.7b</td>\n",
       "      <td>39.9</td>\n",
       "      <td>256</td>\n",
       "      <td>6.41</td>\n",
       "      <td>1686.528</td>\n",
       "      <td>NVIDIA A100-SXM4-80GB</td>\n",
       "      <td>chat</td>\n",
       "      <td>6.7</td>\n",
       "      <td>0.00183</td>\n",
       "      <td>float16</td>\n",
       "      <td>None</td>\n",
       "      <td>gptq-4bit+exllama-v1</td>\n",
       "      <td>False</td>\n",
       "    </tr>\n",
       "    <tr>\n",
       "      <th>3</th>\n",
       "      <td>EleutherAI/pythia-1.4b-deduped</td>\n",
       "      <td>54.8</td>\n",
       "      <td>256</td>\n",
       "      <td>4.67</td>\n",
       "      <td>1115.136</td>\n",
       "      <td>NVIDIA A100-SXM4-80GB</td>\n",
       "      <td>chat</td>\n",
       "      <td>1.4</td>\n",
       "      <td>0.00121</td>\n",
       "      <td>float16</td>\n",
       "      <td>None</td>\n",
       "      <td>gptq-4bit+exllama-v1</td>\n",
       "      <td>False</td>\n",
       "    </tr>\n",
       "    <tr>\n",
       "      <th>4</th>\n",
       "      <td>EleutherAI/gpt-j-6b</td>\n",
       "      <td>30.8</td>\n",
       "      <td>256</td>\n",
       "      <td>8.31</td>\n",
       "      <td>2119.680</td>\n",
       "      <td>NVIDIA A100-SXM4-80GB</td>\n",
       "      <td>chat</td>\n",
       "      <td>6.0</td>\n",
       "      <td>0.00230</td>\n",
       "      <td>float16</td>\n",
       "      <td>None</td>\n",
       "      <td>gptq-4bit+exllama-v1</td>\n",
       "      <td>False</td>\n",
       "    </tr>\n",
       "  </tbody>\n",
       "</table>\n",
       "</div>"
      ],
      "text/plain": [
       "                            model  throughput  response_length  latency  \\\n",
       "0         EleutherAI/gpt-neox-20b        27.4              256     9.34   \n",
       "1  EleutherAI/pythia-6.9b-deduped        42.3              256     6.05   \n",
       "2          EleutherAI/pythia-6.7b        39.9              256     6.41   \n",
       "3  EleutherAI/pythia-1.4b-deduped        54.8              256     4.67   \n",
       "4             EleutherAI/gpt-j-6b        30.8              256     8.31   \n",
       "\n",
       "     energy                    gpu  task  parameters_count  energy_per_token  \\\n",
       "0  3013.632  NVIDIA A100-SXM4-80GB  chat              20.0           0.00327   \n",
       "1  1649.664  NVIDIA A100-SXM4-80GB  chat               6.9           0.00179   \n",
       "2  1686.528  NVIDIA A100-SXM4-80GB  chat               6.7           0.00183   \n",
       "3  1115.136  NVIDIA A100-SXM4-80GB  chat               1.4           0.00121   \n",
       "4  2119.680  NVIDIA A100-SXM4-80GB  chat               6.0           0.00230   \n",
       "\n",
       "     dtype optimization          quantization  cuda-fp16  \n",
       "0  float16         None  gptq-4bit+exllama-v1      False  \n",
       "1  float16         None  gptq-4bit+exllama-v1      False  \n",
       "2  float16         None  gptq-4bit+exllama-v1      False  \n",
       "3  float16         None  gptq-4bit+exllama-v1      False  \n",
       "4  float16         None  gptq-4bit+exllama-v1      False  "
      ]
     },
     "execution_count": 43,
     "metadata": {},
     "output_type": "execute_result"
    }
   ],
   "source": [
    "llm_perf_df.head()"
   ]
  },
  {
   "cell_type": "code",
   "execution_count": 35,
   "id": "c2852bb5",
   "metadata": {
    "ExecuteTime": {
     "end_time": "2024-02-28T09:20:40.496620Z",
     "start_time": "2024-02-28T09:20:40.488294Z"
    },
    "cell_style": "split"
   },
   "outputs": [
    {
     "data": {
      "text/plain": [
       "dtype\n",
       "float16     1545\n",
       "float32      238\n",
       "bfloat16     161\n",
       "Name: count, dtype: int64"
      ]
     },
     "execution_count": 35,
     "metadata": {},
     "output_type": "execute_result"
    }
   ],
   "source": [
    "llm_perf_df.dtype.value_counts()"
   ]
  },
  {
   "cell_type": "code",
   "execution_count": 48,
   "id": "86b5813a",
   "metadata": {
    "ExecuteTime": {
     "end_time": "2024-02-28T09:38:13.306210Z",
     "start_time": "2024-02-28T09:38:13.296048Z"
    },
    "cell_style": "split"
   },
   "outputs": [
    {
     "data": {
      "text/plain": [
       "gpu\n",
       "NVIDIA A100-SXM4-80GB      1768\n",
       "NVIDIA GeForce RTX 4090     176\n",
       "Name: count, dtype: int64"
      ]
     },
     "execution_count": 48,
     "metadata": {},
     "output_type": "execute_result"
    }
   ],
   "source": [
    "llm_perf_df.gpu.value_counts()"
   ]
  },
  {
   "cell_type": "code",
   "execution_count": 90,
   "id": "162874fd",
   "metadata": {
    "ExecuteTime": {
     "end_time": "2024-02-28T09:54:03.897705Z",
     "start_time": "2024-02-28T09:54:03.859633Z"
    },
    "code_folding": [
     0
    ]
   },
   "outputs": [
    {
     "data": {
      "application/vnd.plotly.v1+json": {
       "config": {
        "plotlyServerURL": "https://plot.ly"
       },
       "data": [
        {
         "alignmentgroup": "True",
         "bingroup": "x",
         "hovertemplate": "parameters_count=%{x}<br>count=%{y}<extra></extra>",
         "legendgroup": "",
         "marker": {
          "color": "#636efa",
          "pattern": {
           "shape": ""
          }
         },
         "name": "",
         "offsetgroup": "",
         "orientation": "v",
         "showlegend": false,
         "type": "histogram",
         "x": [
          20,
          6.9,
          6.7,
          1.4,
          6,
          12,
          1.3,
          12,
          1,
          0.125,
          12.8,
          0.41,
          1.3,
          0.16,
          0.41,
          0.16,
          2.7,
          2.8,
          0.07,
          2.7,
          1.1,
          0.46,
          3,
          3,
          0.248,
          7,
          0.031,
          0.031,
          0.031,
          0.031,
          0.031,
          1.1,
          1.1,
          1.1,
          7.67,
          0.345,
          7,
          13,
          70,
          3,
          7,
          4,
          4,
          10,
          1.3,
          7,
          0.126,
          6.7,
          40,
          20,
          6.7,
          1.3,
          0.356,
          7,
          34,
          34,
          6,
          6,
          7,
          13,
          6,
          16,
          6,
          5,
          20,
          7,
          67,
          0.124,
          0.4,
          7,
          7,
          0.111,
          13,
          6.7,
          2.7,
          1.3,
          7,
          7,
          0.031,
          1,
          40,
          7.5,
          0.564,
          4.5,
          34,
          26,
          7,
          3,
          0.218,
          0.22,
          0.081,
          0.058,
          0.101,
          10.7,
          0.881,
          0.186,
          13,
          7.24,
          6.74,
          1.3,
          7,
          7,
          3,
          3,
          65,
          13,
          22,
          0.033,
          0.003,
          0.028,
          0.008,
          1,
          7,
          7,
          13,
          7,
          13,
          7,
          0.164,
          1.12,
          7,
          3,
          7,
          22,
          20,
          11,
          4,
          4,
          10.7,
          7,
          65,
          30,
          13,
          1.3,
          0.137,
          6,
          7,
          7,
          13,
          20,
          6.7,
          1.4,
          6,
          12,
          1.3,
          12,
          1,
          0.125,
          12.8,
          0.41,
          1.3,
          0.16,
          0.41,
          0.16,
          2.7,
          2.8,
          0.07,
          2.7,
          1.1,
          0.46,
          3,
          3,
          0.248,
          0.248,
          7,
          0.031,
          0.031,
          0.031,
          0.031,
          0.031,
          1.1,
          1.1,
          1.1,
          7,
          7.67,
          0.345,
          0.136,
          8,
          7,
          13,
          70,
          1,
          3,
          7,
          4,
          4,
          10,
          1.3,
          7,
          0.126,
          6.7,
          40,
          20,
          6.7,
          1.3,
          0.356,
          7,
          34,
          34,
          6,
          6,
          7,
          13,
          30,
          7,
          6,
          16,
          6,
          5,
          20,
          7,
          8,
          0.124,
          0.4,
          7,
          7,
          0.111,
          13,
          6.7,
          2.7,
          0.256,
          1.3,
          1.3,
          7,
          7,
          0.031,
          1,
          40,
          7.5,
          0.564,
          4.5,
          34,
          26,
          7,
          3,
          0.218,
          0.22,
          0.081,
          0.058,
          0.101,
          10.7,
          0.881,
          0.186,
          13,
          7.24,
          1.61,
          6.74,
          1.3,
          7,
          7,
          3,
          7,
          13,
          22,
          1.54,
          0.033,
          0.003,
          0.028,
          0.008,
          1,
          7,
          7,
          13,
          7,
          13,
          7,
          0.164,
          1.12,
          7,
          3,
          7,
          22,
          20,
          11,
          4,
          4,
          10.7,
          7,
          30,
          13,
          1.3,
          0.137,
          6,
          7,
          7,
          13,
          34,
          20,
          6.9,
          6.7,
          1.4,
          6,
          12,
          1.3,
          12,
          1,
          0.125,
          12.8,
          0.41,
          1.3,
          0.16,
          0.41,
          0.16,
          2.7,
          2.8,
          0.07,
          2.7,
          1.1,
          0.46,
          3,
          3,
          0.248,
          7,
          0.031,
          0.031,
          0.031,
          0.031,
          0.031,
          1.1,
          1.1,
          1.1,
          7,
          7.67,
          7,
          13,
          70,
          3,
          7,
          7,
          4,
          4,
          10,
          7,
          7,
          34,
          34,
          6,
          6,
          7,
          13,
          6,
          16,
          6,
          7,
          67,
          0.4,
          7,
          7,
          7,
          7,
          7,
          0.031,
          34,
          26,
          7,
          3,
          0.218,
          0.4,
          0.22,
          0.081,
          0.058,
          0.101,
          10.7,
          0.881,
          0.186,
          13,
          7.24,
          6.74,
          1.3,
          7,
          7,
          3,
          65,
          13,
          22,
          13,
          0.033,
          0.001,
          0.003,
          0.028,
          0.008,
          1,
          3,
          7,
          7,
          3,
          13,
          7,
          13,
          7,
          0.164,
          1.12,
          7,
          3,
          7,
          22,
          11,
          4,
          4,
          10.7,
          7,
          65,
          30,
          13,
          1.3,
          6,
          7,
          7,
          13,
          7,
          7,
          6.9,
          6.7,
          1.4,
          6,
          12,
          1.3,
          12,
          1,
          0.125,
          12.8,
          0.41,
          1.3,
          0.16,
          0.41,
          0.16,
          2.7,
          2.8,
          0.07,
          2.7,
          1.1,
          0.46,
          3,
          3,
          0.248,
          0.248,
          7,
          0.031,
          0.031,
          0.031,
          0.031,
          0.031,
          1.1,
          1.1,
          1.1,
          7,
          7.67,
          0.345,
          0.136,
          8,
          7,
          13,
          1,
          3,
          7,
          4,
          4,
          10,
          7,
          0.126,
          6.7,
          20,
          6.7,
          1.3,
          0.356,
          7,
          6,
          6,
          7,
          13,
          6,
          16,
          6,
          5,
          20,
          7,
          8,
          0.124,
          0.4,
          7,
          7,
          0.111,
          13,
          6.7,
          2.7,
          0.256,
          1.3,
          1.3,
          2.78,
          7,
          7,
          0.031,
          1,
          7,
          7.5,
          0.564,
          4.5,
          0.101,
          0.101,
          7,
          3,
          0.218,
          0.4,
          0.22,
          0.081,
          0.058,
          0.101,
          10.7,
          0.881,
          0.186,
          13,
          7.24,
          1.61,
          6.74,
          1.3,
          7,
          7,
          3,
          7,
          3,
          13,
          1.54,
          13,
          0.033,
          0.001,
          0.003,
          0.028,
          0.008,
          1,
          3,
          7,
          7,
          3,
          13,
          7,
          13,
          3,
          0.43,
          0.169,
          7,
          14,
          14,
          1,
          7,
          0.164,
          1.12,
          13,
          7,
          3,
          7,
          20,
          11,
          4,
          4,
          10.7,
          7,
          13,
          1.3,
          0.137,
          6,
          6,
          7,
          7,
          13,
          11,
          7,
          6.9,
          6.7,
          1.4,
          6,
          1.3,
          1,
          0.125,
          0.41,
          1.3,
          0.16,
          0.41,
          0.16,
          2.7,
          2.8,
          0.07,
          2.7,
          1.1,
          0.46,
          3,
          3,
          0.248,
          7,
          0.031,
          0.031,
          0.031,
          0.031,
          0.031,
          1.1,
          1.1,
          1.1,
          0.345,
          7,
          13,
          3,
          4,
          4,
          10,
          1.3,
          7,
          0.126,
          1.3,
          0.356,
          7,
          6,
          6,
          13,
          6,
          6,
          5,
          7,
          0.124,
          0.4,
          7,
          7,
          0.111,
          13,
          6.7,
          2.7,
          1.3,
          7,
          0.031,
          1,
          0.564,
          4.5,
          3,
          0.218,
          0.22,
          0.081,
          0.058,
          0.101,
          0.881,
          0.186,
          6.74,
          1.3,
          3,
          3,
          0.033,
          0.003,
          0.028,
          0.008,
          1,
          7,
          7,
          13,
          13,
          7,
          0.164,
          1.12,
          7,
          3,
          7,
          4,
          4,
          7,
          13,
          1.3,
          0.137,
          6,
          7,
          7,
          20,
          6.9,
          6.7,
          1.4,
          6,
          12,
          1.3,
          12,
          1,
          0.125,
          12.8,
          0.41,
          1.3,
          0.16,
          0.41,
          0.16,
          2.7,
          2.8,
          0.07,
          2.7,
          1.1,
          0.46,
          3,
          3,
          0.248,
          0.248,
          7,
          0.031,
          0.031,
          0.031,
          0.031,
          0.031,
          1.1,
          1.1,
          1.1,
          7,
          7.67,
          0.345,
          0.136,
          8,
          7,
          13,
          1,
          3,
          7,
          4,
          4,
          10,
          1.3,
          7,
          0.126,
          6.7,
          20,
          6.7,
          1.3,
          0.356,
          7,
          6,
          6,
          7,
          13,
          6,
          16,
          6,
          5,
          20,
          7,
          8,
          0.124,
          0.4,
          7,
          7,
          0.111,
          13,
          6.7,
          2.7,
          0.256,
          1.3,
          1.3,
          2.78,
          7,
          7,
          0.031,
          1,
          7,
          7.5,
          0.564,
          4.5,
          0.101,
          26,
          0.101,
          7,
          3,
          0.218,
          0.4,
          0.22,
          0.081,
          0.058,
          0.101,
          10.7,
          0.881,
          0.186,
          13,
          7.24,
          1.61,
          6.74,
          1.3,
          7,
          7,
          3,
          7,
          3,
          13,
          22,
          1.54,
          13,
          0.033,
          0.001,
          0.003,
          0.028,
          0.008,
          1,
          3,
          7,
          7,
          3,
          13,
          7,
          13,
          3,
          0.43,
          0.169,
          7,
          14,
          14,
          1,
          7,
          0.164,
          1.12,
          13,
          7,
          3,
          7,
          22,
          20,
          11,
          4,
          4,
          10.7,
          13,
          1.3,
          0.137,
          6,
          6,
          7,
          7,
          13,
          7,
          11,
          7,
          7,
          6.9,
          6.7,
          1.4,
          6,
          1.3,
          1,
          0.125,
          0.41,
          1.3,
          0.16,
          0.16,
          2.7,
          2.8,
          0.07,
          2.7,
          1.1,
          0.46,
          3,
          3,
          0.248,
          0.248,
          7,
          0.031,
          0.031,
          0.031,
          0.031,
          0.031,
          1.1,
          1.1,
          1.1,
          7.67,
          0.345,
          0.136,
          7,
          1,
          3,
          4,
          4,
          1.3,
          0.126,
          1.3,
          0.356,
          6,
          6,
          7,
          6,
          6,
          5,
          20,
          7,
          8,
          0.124,
          0.4,
          7,
          0.111,
          6.7,
          2.7,
          0.256,
          1.3,
          1.3,
          2.78,
          0.031,
          1,
          0.564,
          4.5,
          0.101,
          0.101,
          3,
          0.218,
          0.4,
          0.22,
          0.081,
          0.058,
          0.101,
          0.881,
          0.186,
          1.61,
          6.74,
          1.3,
          7,
          3,
          7,
          3,
          1.54,
          0.033,
          0.001,
          0.003,
          0.028,
          0.008,
          1,
          3,
          7,
          7,
          3,
          3,
          0.43,
          0.169,
          7,
          1,
          7,
          0.164,
          1.12,
          7,
          3,
          7,
          4,
          4,
          7,
          1.3,
          0.137,
          6,
          6,
          7,
          7,
          20,
          6.9,
          6.7,
          1.4,
          6,
          12,
          1.3,
          12,
          1,
          0.125,
          12.8,
          0.41,
          1.3,
          0.16,
          0.41,
          0.16,
          2.7,
          2.8,
          0.07,
          2.7,
          1.1,
          0.46,
          3,
          3,
          0.248,
          7,
          0.031,
          0.031,
          0.031,
          0.031,
          0.031,
          1.1,
          1.1,
          1.1,
          7,
          7.67,
          1,
          3,
          7,
          7,
          4,
          4,
          10,
          7,
          7,
          34,
          34,
          6,
          6,
          7,
          13,
          30,
          7,
          6,
          16,
          6,
          7,
          67,
          0.4,
          7,
          7,
          7,
          7,
          7,
          0.031,
          1,
          7,
          40,
          7.5,
          0.564,
          4.5,
          34,
          26,
          7,
          3,
          0.218,
          0.4,
          0.22,
          0.081,
          0.058,
          0.101,
          10.7,
          0.881,
          0.186,
          13,
          7.24,
          6.74,
          1.3,
          7,
          7,
          3,
          7,
          65,
          13,
          22,
          13,
          0.033,
          0.001,
          0.003,
          0.028,
          0.008,
          1,
          3,
          7,
          7,
          3,
          13,
          7,
          13,
          3,
          0.43,
          0.169,
          7,
          14,
          14,
          1,
          7,
          0.164,
          1.12,
          7,
          3,
          7,
          22,
          20,
          11,
          4,
          4,
          10.7,
          1.3,
          6,
          6,
          7,
          7,
          13,
          7,
          7,
          7,
          20,
          6.9,
          6.7,
          1.4,
          6,
          12,
          1.3,
          12,
          1,
          0.125,
          12.8,
          0.41,
          1.3,
          0.16,
          0.41,
          0.16,
          2.7,
          2.8,
          0.07,
          2.7,
          1.1,
          0.46,
          3,
          3,
          0.248,
          7,
          0.031,
          0.031,
          0.031,
          0.031,
          0.031,
          1.1,
          1.1,
          1.1,
          7,
          7.67,
          3,
          7,
          7,
          4,
          4,
          10,
          7,
          7,
          34,
          34,
          6,
          6,
          7,
          13,
          6,
          16,
          6,
          7,
          67,
          0.4,
          7,
          7,
          7,
          7,
          7,
          0.031,
          34,
          26,
          7,
          3,
          0.218,
          0.4,
          0.22,
          0.081,
          0.058,
          0.101,
          10.7,
          0.881,
          0.186,
          13,
          7.24,
          6.74,
          1.3,
          7,
          7,
          3,
          65,
          13,
          22,
          13,
          0.033,
          0.001,
          0.003,
          0.028,
          0.008,
          1,
          3,
          7,
          7,
          3,
          13,
          7,
          13,
          7,
          0.164,
          1.12,
          7,
          3,
          7,
          22,
          11,
          4,
          4,
          10.7,
          1.3,
          6,
          7,
          7,
          13,
          7,
          7,
          7,
          20,
          6.9,
          6.7,
          1.4,
          6,
          12,
          1.3,
          12,
          1,
          0.125,
          12.8,
          0.41,
          1.3,
          0.16,
          0.41,
          0.16,
          2.7,
          2.8,
          0.07,
          2.7,
          1.1,
          0.46,
          3,
          3,
          0.248,
          7,
          0.031,
          0.031,
          0.031,
          0.031,
          0.031,
          1.1,
          1.1,
          1.1,
          7.67,
          0.136,
          7,
          13,
          70,
          3,
          7,
          4,
          4,
          10,
          7,
          7,
          34,
          34,
          6,
          6,
          7,
          13,
          6,
          16,
          6,
          7,
          67,
          8,
          0.4,
          7,
          7,
          7,
          7,
          0.031,
          7.5,
          0.564,
          4.5,
          34,
          26,
          7,
          3,
          0.218,
          0.22,
          0.081,
          0.058,
          0.101,
          10.7,
          0.881,
          0.186,
          13,
          7.24,
          6.74,
          1.3,
          7,
          7,
          3,
          65,
          13,
          22,
          1.54,
          0.033,
          0.028,
          0.008,
          1,
          7,
          7,
          13,
          7,
          13,
          7,
          0.164,
          1.12,
          7,
          3,
          7,
          22,
          11,
          4,
          4,
          10.7,
          7,
          65,
          30,
          13,
          1.3,
          6,
          7,
          7,
          13,
          20,
          6.9,
          6.7,
          1.4,
          6,
          12,
          1.3,
          12,
          1,
          0.125,
          12.8,
          0.41,
          1.3,
          0.16,
          0.41,
          0.16,
          2.7,
          2.8,
          0.07,
          2.7,
          1.1,
          0.46,
          3,
          3,
          0.248,
          7,
          0.031,
          0.031,
          0.031,
          0.031,
          0.031,
          1.1,
          1.1,
          1.1,
          7,
          7.67,
          1,
          3,
          7,
          7,
          4,
          4,
          10,
          7,
          7,
          34,
          34,
          6,
          6,
          7,
          13,
          30,
          7,
          6,
          16,
          6,
          7,
          67,
          0.4,
          7,
          7,
          7,
          7,
          7,
          0.031,
          1,
          7,
          40,
          7.5,
          0.564,
          4.5,
          34,
          26,
          7,
          3,
          0.218,
          0.4,
          0.22,
          0.081,
          0.058,
          0.101,
          10.7,
          0.881,
          0.186,
          13,
          7.24,
          6.74,
          1.3,
          7,
          7,
          3,
          7,
          65,
          13,
          22,
          13,
          0.033,
          0.001,
          0.003,
          0.028,
          0.008,
          1,
          3,
          7,
          7,
          3,
          13,
          7,
          13,
          3,
          0.43,
          0.169,
          7,
          14,
          14,
          1,
          7,
          0.164,
          1.12,
          7,
          3,
          7,
          22,
          20,
          11,
          4,
          4,
          10.7,
          1.3,
          6,
          6,
          7,
          7,
          13,
          7,
          7,
          7,
          20,
          6.9,
          6.7,
          1.4,
          6,
          12,
          1.3,
          12,
          1,
          0.125,
          12.8,
          0.41,
          1.3,
          0.16,
          0.41,
          0.16,
          2.7,
          2.8,
          0.07,
          2.7,
          1.1,
          0.46,
          3,
          3,
          0.248,
          0.248,
          7,
          0.031,
          0.031,
          0.031,
          0.031,
          0.031,
          1.1,
          1.1,
          1.1,
          7,
          7.67,
          0.345,
          8,
          7,
          13,
          70,
          1,
          3,
          7,
          4,
          4,
          10,
          1.3,
          7,
          0.126,
          6.7,
          40,
          20,
          6.7,
          1.3,
          0.356,
          7,
          34,
          34,
          6,
          6,
          13,
          30,
          7,
          6,
          16,
          6,
          5,
          20,
          7,
          67,
          8,
          0.124,
          0.4,
          7,
          7,
          0.111,
          13,
          6.7,
          2.7,
          0.256,
          1.3,
          1.3,
          7,
          7,
          0.031,
          1,
          40,
          7.5,
          0.564,
          4.5,
          34,
          26,
          7,
          3,
          0.218,
          0.22,
          0.081,
          0.058,
          0.101,
          10.7,
          0.881,
          0.186,
          13,
          7.24,
          1.61,
          6.74,
          1.3,
          7,
          7,
          3,
          7,
          3,
          65,
          13,
          22,
          1.54,
          0.033,
          0.003,
          0.028,
          0.008,
          1,
          7,
          7,
          13,
          7,
          13,
          7,
          0.164,
          1.12,
          7,
          3,
          7,
          22,
          20,
          11,
          4,
          4,
          10.7,
          7,
          65,
          30,
          13,
          1.3,
          0.137,
          6,
          7,
          7,
          13,
          34,
          20,
          6.9,
          6.7,
          1.4,
          12,
          1.3,
          12,
          1,
          0.125,
          12.8,
          0.41,
          1.3,
          0.16,
          0.41,
          0.16,
          2.7,
          2.8,
          0.07,
          2.7,
          1.1,
          0.46,
          3,
          3,
          0.248,
          7,
          0.031,
          0.031,
          0.031,
          0.031,
          0.031,
          1.1,
          1.1,
          1.1,
          7,
          7.67,
          3,
          7,
          4,
          4,
          10,
          7,
          7,
          34,
          34,
          6,
          6,
          7,
          13,
          7,
          0.4,
          7,
          7,
          7,
          7,
          0.031,
          34,
          26,
          0.218,
          0.4,
          0.22,
          0.081,
          0.058,
          0.101,
          10.7,
          7.24,
          6.74,
          1.3,
          7,
          7,
          3,
          13,
          22,
          13,
          0.033,
          0.001,
          0.003,
          0.028,
          0.008,
          1,
          3,
          7,
          7,
          3,
          13,
          7,
          13,
          7,
          0.164,
          1.12,
          13,
          7,
          3,
          7,
          22,
          11,
          4,
          4,
          10.7,
          1.3,
          6,
          7,
          7,
          13,
          7,
          7,
          7,
          6.9,
          6.7,
          1.4,
          6,
          1.3,
          1,
          0.125,
          0.41,
          1.3,
          0.16,
          0.41,
          0.16,
          2.7,
          2.8,
          0.07,
          2.7,
          0.031,
          0.031,
          0.031,
          0.031,
          0.031,
          7.67,
          0.345,
          4,
          4,
          1.3,
          0.126,
          1.3,
          0.356,
          6,
          6,
          5,
          20,
          0.124,
          0.4,
          0.111,
          6.7,
          2.7,
          0.256,
          1.3,
          0.031,
          3,
          0.881,
          0.186,
          1.61,
          7,
          3,
          0.033,
          0.001,
          0.003,
          0.028,
          0.008,
          7,
          3,
          7,
          4,
          4,
          1.3,
          0.137,
          0.881,
          1.3,
          0.881,
          0.881,
          1.3,
          0.881,
          3,
          3,
          1.3,
          0.058,
          0.4,
          0.22,
          0.081,
          0.101,
          0.218,
          1.54,
          1.3,
          7,
          7,
          1,
          7.24,
          1.3,
          7,
          7,
          3,
          7,
          0.07,
          2.7,
          0.16,
          6.7,
          1,
          6,
          12,
          6.9,
          1.3,
          12,
          0.41,
          1.4,
          2.8,
          0.16,
          0.41,
          7.24,
          0.248,
          0.248,
          5,
          0.001,
          7,
          0.4,
          10.7,
          10.7,
          0.031,
          1,
          0.101,
          0.101,
          7.67,
          0.136,
          1.1,
          1.1,
          1.1,
          1.3,
          7,
          3,
          7,
          3,
          6.7,
          0.111,
          1.3,
          0.256,
          2.7,
          0.186,
          0.881,
          0.164,
          7,
          7,
          7,
          1,
          1.1,
          0.345,
          0.031,
          0.031,
          0.031,
          0.031,
          0.031,
          7,
          1.3,
          7,
          3,
          7,
          7,
          3,
          7,
          6,
          3,
          3,
          2.78,
          1.3,
          0.058,
          0.4,
          0.22,
          0.081,
          0.101,
          0.218,
          1.54,
          1.3,
          7,
          1,
          0.126,
          1.3,
          0.356,
          4.5,
          3,
          3,
          1.61,
          0.43,
          0.169,
          2.7,
          0.07,
          2.7,
          0.16,
          1,
          1.3,
          1.3,
          0.125,
          0.41,
          1.4,
          2.8,
          0.16,
          0.41,
          4,
          4,
          0.248,
          0.248,
          5,
          0.003,
          0.033,
          0.001,
          0.028,
          0.008,
          0.4,
          0.031,
          1,
          0.101,
          0.101,
          0.136,
          1.1,
          1.1,
          1.1,
          1.3,
          3,
          3,
          0.124,
          0.111,
          1.3,
          0.256,
          2.7,
          0.137,
          0.186,
          0.881,
          0.164,
          1.12,
          1,
          1.1,
          0.345,
          0.031,
          0.031,
          0.031,
          0.031,
          0.031,
          4,
          4,
          6,
          1.3,
          3,
          3,
          0.46,
          1.3
         ],
         "xaxis": "x",
         "yaxis": "y"
        }
       ],
       "layout": {
        "barmode": "relative",
        "legend": {
         "tracegroupgap": 0
        },
        "margin": {
         "t": 60
        },
        "template": {
         "data": {
          "bar": [
           {
            "error_x": {
             "color": "#2a3f5f"
            },
            "error_y": {
             "color": "#2a3f5f"
            },
            "marker": {
             "line": {
              "color": "white",
              "width": 0.5
             },
             "pattern": {
              "fillmode": "overlay",
              "size": 10,
              "solidity": 0.2
             }
            },
            "type": "bar"
           }
          ],
          "barpolar": [
           {
            "marker": {
             "line": {
              "color": "white",
              "width": 0.5
             },
             "pattern": {
              "fillmode": "overlay",
              "size": 10,
              "solidity": 0.2
             }
            },
            "type": "barpolar"
           }
          ],
          "carpet": [
           {
            "aaxis": {
             "endlinecolor": "#2a3f5f",
             "gridcolor": "#C8D4E3",
             "linecolor": "#C8D4E3",
             "minorgridcolor": "#C8D4E3",
             "startlinecolor": "#2a3f5f"
            },
            "baxis": {
             "endlinecolor": "#2a3f5f",
             "gridcolor": "#C8D4E3",
             "linecolor": "#C8D4E3",
             "minorgridcolor": "#C8D4E3",
             "startlinecolor": "#2a3f5f"
            },
            "type": "carpet"
           }
          ],
          "choropleth": [
           {
            "colorbar": {
             "outlinewidth": 0,
             "ticks": ""
            },
            "type": "choropleth"
           }
          ],
          "contour": [
           {
            "colorbar": {
             "outlinewidth": 0,
             "ticks": ""
            },
            "colorscale": [
             [
              0,
              "#0d0887"
             ],
             [
              0.1111111111111111,
              "#46039f"
             ],
             [
              0.2222222222222222,
              "#7201a8"
             ],
             [
              0.3333333333333333,
              "#9c179e"
             ],
             [
              0.4444444444444444,
              "#bd3786"
             ],
             [
              0.5555555555555556,
              "#d8576b"
             ],
             [
              0.6666666666666666,
              "#ed7953"
             ],
             [
              0.7777777777777778,
              "#fb9f3a"
             ],
             [
              0.8888888888888888,
              "#fdca26"
             ],
             [
              1,
              "#f0f921"
             ]
            ],
            "type": "contour"
           }
          ],
          "contourcarpet": [
           {
            "colorbar": {
             "outlinewidth": 0,
             "ticks": ""
            },
            "type": "contourcarpet"
           }
          ],
          "heatmap": [
           {
            "colorbar": {
             "outlinewidth": 0,
             "ticks": ""
            },
            "colorscale": [
             [
              0,
              "#0d0887"
             ],
             [
              0.1111111111111111,
              "#46039f"
             ],
             [
              0.2222222222222222,
              "#7201a8"
             ],
             [
              0.3333333333333333,
              "#9c179e"
             ],
             [
              0.4444444444444444,
              "#bd3786"
             ],
             [
              0.5555555555555556,
              "#d8576b"
             ],
             [
              0.6666666666666666,
              "#ed7953"
             ],
             [
              0.7777777777777778,
              "#fb9f3a"
             ],
             [
              0.8888888888888888,
              "#fdca26"
             ],
             [
              1,
              "#f0f921"
             ]
            ],
            "type": "heatmap"
           }
          ],
          "heatmapgl": [
           {
            "colorbar": {
             "outlinewidth": 0,
             "ticks": ""
            },
            "colorscale": [
             [
              0,
              "#0d0887"
             ],
             [
              0.1111111111111111,
              "#46039f"
             ],
             [
              0.2222222222222222,
              "#7201a8"
             ],
             [
              0.3333333333333333,
              "#9c179e"
             ],
             [
              0.4444444444444444,
              "#bd3786"
             ],
             [
              0.5555555555555556,
              "#d8576b"
             ],
             [
              0.6666666666666666,
              "#ed7953"
             ],
             [
              0.7777777777777778,
              "#fb9f3a"
             ],
             [
              0.8888888888888888,
              "#fdca26"
             ],
             [
              1,
              "#f0f921"
             ]
            ],
            "type": "heatmapgl"
           }
          ],
          "histogram": [
           {
            "marker": {
             "pattern": {
              "fillmode": "overlay",
              "size": 10,
              "solidity": 0.2
             }
            },
            "type": "histogram"
           }
          ],
          "histogram2d": [
           {
            "colorbar": {
             "outlinewidth": 0,
             "ticks": ""
            },
            "colorscale": [
             [
              0,
              "#0d0887"
             ],
             [
              0.1111111111111111,
              "#46039f"
             ],
             [
              0.2222222222222222,
              "#7201a8"
             ],
             [
              0.3333333333333333,
              "#9c179e"
             ],
             [
              0.4444444444444444,
              "#bd3786"
             ],
             [
              0.5555555555555556,
              "#d8576b"
             ],
             [
              0.6666666666666666,
              "#ed7953"
             ],
             [
              0.7777777777777778,
              "#fb9f3a"
             ],
             [
              0.8888888888888888,
              "#fdca26"
             ],
             [
              1,
              "#f0f921"
             ]
            ],
            "type": "histogram2d"
           }
          ],
          "histogram2dcontour": [
           {
            "colorbar": {
             "outlinewidth": 0,
             "ticks": ""
            },
            "colorscale": [
             [
              0,
              "#0d0887"
             ],
             [
              0.1111111111111111,
              "#46039f"
             ],
             [
              0.2222222222222222,
              "#7201a8"
             ],
             [
              0.3333333333333333,
              "#9c179e"
             ],
             [
              0.4444444444444444,
              "#bd3786"
             ],
             [
              0.5555555555555556,
              "#d8576b"
             ],
             [
              0.6666666666666666,
              "#ed7953"
             ],
             [
              0.7777777777777778,
              "#fb9f3a"
             ],
             [
              0.8888888888888888,
              "#fdca26"
             ],
             [
              1,
              "#f0f921"
             ]
            ],
            "type": "histogram2dcontour"
           }
          ],
          "mesh3d": [
           {
            "colorbar": {
             "outlinewidth": 0,
             "ticks": ""
            },
            "type": "mesh3d"
           }
          ],
          "parcoords": [
           {
            "line": {
             "colorbar": {
              "outlinewidth": 0,
              "ticks": ""
             }
            },
            "type": "parcoords"
           }
          ],
          "pie": [
           {
            "automargin": true,
            "type": "pie"
           }
          ],
          "scatter": [
           {
            "fillpattern": {
             "fillmode": "overlay",
             "size": 10,
             "solidity": 0.2
            },
            "type": "scatter"
           }
          ],
          "scatter3d": [
           {
            "line": {
             "colorbar": {
              "outlinewidth": 0,
              "ticks": ""
             }
            },
            "marker": {
             "colorbar": {
              "outlinewidth": 0,
              "ticks": ""
             }
            },
            "type": "scatter3d"
           }
          ],
          "scattercarpet": [
           {
            "marker": {
             "colorbar": {
              "outlinewidth": 0,
              "ticks": ""
             }
            },
            "type": "scattercarpet"
           }
          ],
          "scattergeo": [
           {
            "marker": {
             "colorbar": {
              "outlinewidth": 0,
              "ticks": ""
             }
            },
            "type": "scattergeo"
           }
          ],
          "scattergl": [
           {
            "marker": {
             "colorbar": {
              "outlinewidth": 0,
              "ticks": ""
             }
            },
            "type": "scattergl"
           }
          ],
          "scattermapbox": [
           {
            "marker": {
             "colorbar": {
              "outlinewidth": 0,
              "ticks": ""
             }
            },
            "type": "scattermapbox"
           }
          ],
          "scatterpolar": [
           {
            "marker": {
             "colorbar": {
              "outlinewidth": 0,
              "ticks": ""
             }
            },
            "type": "scatterpolar"
           }
          ],
          "scatterpolargl": [
           {
            "marker": {
             "colorbar": {
              "outlinewidth": 0,
              "ticks": ""
             }
            },
            "type": "scatterpolargl"
           }
          ],
          "scatterternary": [
           {
            "marker": {
             "colorbar": {
              "outlinewidth": 0,
              "ticks": ""
             }
            },
            "type": "scatterternary"
           }
          ],
          "surface": [
           {
            "colorbar": {
             "outlinewidth": 0,
             "ticks": ""
            },
            "colorscale": [
             [
              0,
              "#0d0887"
             ],
             [
              0.1111111111111111,
              "#46039f"
             ],
             [
              0.2222222222222222,
              "#7201a8"
             ],
             [
              0.3333333333333333,
              "#9c179e"
             ],
             [
              0.4444444444444444,
              "#bd3786"
             ],
             [
              0.5555555555555556,
              "#d8576b"
             ],
             [
              0.6666666666666666,
              "#ed7953"
             ],
             [
              0.7777777777777778,
              "#fb9f3a"
             ],
             [
              0.8888888888888888,
              "#fdca26"
             ],
             [
              1,
              "#f0f921"
             ]
            ],
            "type": "surface"
           }
          ],
          "table": [
           {
            "cells": {
             "fill": {
              "color": "#EBF0F8"
             },
             "line": {
              "color": "white"
             }
            },
            "header": {
             "fill": {
              "color": "#C8D4E3"
             },
             "line": {
              "color": "white"
             }
            },
            "type": "table"
           }
          ]
         },
         "layout": {
          "annotationdefaults": {
           "arrowcolor": "#2a3f5f",
           "arrowhead": 0,
           "arrowwidth": 1
          },
          "autotypenumbers": "strict",
          "coloraxis": {
           "colorbar": {
            "outlinewidth": 0,
            "ticks": ""
           }
          },
          "colorscale": {
           "diverging": [
            [
             0,
             "#8e0152"
            ],
            [
             0.1,
             "#c51b7d"
            ],
            [
             0.2,
             "#de77ae"
            ],
            [
             0.3,
             "#f1b6da"
            ],
            [
             0.4,
             "#fde0ef"
            ],
            [
             0.5,
             "#f7f7f7"
            ],
            [
             0.6,
             "#e6f5d0"
            ],
            [
             0.7,
             "#b8e186"
            ],
            [
             0.8,
             "#7fbc41"
            ],
            [
             0.9,
             "#4d9221"
            ],
            [
             1,
             "#276419"
            ]
           ],
           "sequential": [
            [
             0,
             "#0d0887"
            ],
            [
             0.1111111111111111,
             "#46039f"
            ],
            [
             0.2222222222222222,
             "#7201a8"
            ],
            [
             0.3333333333333333,
             "#9c179e"
            ],
            [
             0.4444444444444444,
             "#bd3786"
            ],
            [
             0.5555555555555556,
             "#d8576b"
            ],
            [
             0.6666666666666666,
             "#ed7953"
            ],
            [
             0.7777777777777778,
             "#fb9f3a"
            ],
            [
             0.8888888888888888,
             "#fdca26"
            ],
            [
             1,
             "#f0f921"
            ]
           ],
           "sequentialminus": [
            [
             0,
             "#0d0887"
            ],
            [
             0.1111111111111111,
             "#46039f"
            ],
            [
             0.2222222222222222,
             "#7201a8"
            ],
            [
             0.3333333333333333,
             "#9c179e"
            ],
            [
             0.4444444444444444,
             "#bd3786"
            ],
            [
             0.5555555555555556,
             "#d8576b"
            ],
            [
             0.6666666666666666,
             "#ed7953"
            ],
            [
             0.7777777777777778,
             "#fb9f3a"
            ],
            [
             0.8888888888888888,
             "#fdca26"
            ],
            [
             1,
             "#f0f921"
            ]
           ]
          },
          "colorway": [
           "#636efa",
           "#EF553B",
           "#00cc96",
           "#ab63fa",
           "#FFA15A",
           "#19d3f3",
           "#FF6692",
           "#B6E880",
           "#FF97FF",
           "#FECB52"
          ],
          "font": {
           "color": "#2a3f5f"
          },
          "geo": {
           "bgcolor": "white",
           "lakecolor": "white",
           "landcolor": "white",
           "showlakes": true,
           "showland": true,
           "subunitcolor": "#C8D4E3"
          },
          "hoverlabel": {
           "align": "left"
          },
          "hovermode": "closest",
          "mapbox": {
           "style": "light"
          },
          "paper_bgcolor": "white",
          "plot_bgcolor": "white",
          "polar": {
           "angularaxis": {
            "gridcolor": "#EBF0F8",
            "linecolor": "#EBF0F8",
            "ticks": ""
           },
           "bgcolor": "white",
           "radialaxis": {
            "gridcolor": "#EBF0F8",
            "linecolor": "#EBF0F8",
            "ticks": ""
           }
          },
          "scene": {
           "xaxis": {
            "backgroundcolor": "white",
            "gridcolor": "#DFE8F3",
            "gridwidth": 2,
            "linecolor": "#EBF0F8",
            "showbackground": true,
            "ticks": "",
            "zerolinecolor": "#EBF0F8"
           },
           "yaxis": {
            "backgroundcolor": "white",
            "gridcolor": "#DFE8F3",
            "gridwidth": 2,
            "linecolor": "#EBF0F8",
            "showbackground": true,
            "ticks": "",
            "zerolinecolor": "#EBF0F8"
           },
           "zaxis": {
            "backgroundcolor": "white",
            "gridcolor": "#DFE8F3",
            "gridwidth": 2,
            "linecolor": "#EBF0F8",
            "showbackground": true,
            "ticks": "",
            "zerolinecolor": "#EBF0F8"
           }
          },
          "shapedefaults": {
           "line": {
            "color": "#2a3f5f"
           }
          },
          "ternary": {
           "aaxis": {
            "gridcolor": "#DFE8F3",
            "linecolor": "#A2B1C6",
            "ticks": ""
           },
           "baxis": {
            "gridcolor": "#DFE8F3",
            "linecolor": "#A2B1C6",
            "ticks": ""
           },
           "bgcolor": "white",
           "caxis": {
            "gridcolor": "#DFE8F3",
            "linecolor": "#A2B1C6",
            "ticks": ""
           }
          },
          "title": {
           "x": 0.05
          },
          "xaxis": {
           "automargin": true,
           "gridcolor": "#EBF0F8",
           "linecolor": "#EBF0F8",
           "ticks": "",
           "title": {
            "standoff": 15
           },
           "zerolinecolor": "#EBF0F8",
           "zerolinewidth": 2
          },
          "yaxis": {
           "automargin": true,
           "gridcolor": "#EBF0F8",
           "linecolor": "#EBF0F8",
           "ticks": "",
           "title": {
            "standoff": 15
           },
           "zerolinecolor": "#EBF0F8",
           "zerolinewidth": 2
          }
         }
        },
        "title": {
         "text": "Nb of models per parameters_count"
        },
        "xaxis": {
         "anchor": "y",
         "domain": [
          0,
          1
         ],
         "title": {
          "text": "parameters_count"
         }
        },
        "yaxis": {
         "anchor": "x",
         "domain": [
          0,
          1
         ],
         "title": {
          "text": "count"
         }
        }
       }
      },
      "text/html": [
       "<div>                            <div id=\"bf731f78-758e-4bc9-8606-fcac45c093ae\" class=\"plotly-graph-div\" style=\"height:525px; width:100%;\"></div>            <script type=\"text/javascript\">                require([\"plotly\"], function(Plotly) {                    window.PLOTLYENV=window.PLOTLYENV || {};                                    if (document.getElementById(\"bf731f78-758e-4bc9-8606-fcac45c093ae\")) {                    Plotly.newPlot(                        \"bf731f78-758e-4bc9-8606-fcac45c093ae\",                        [{\"alignmentgroup\":\"True\",\"bingroup\":\"x\",\"hovertemplate\":\"parameters_count=%{x}\\u003cbr\\u003ecount=%{y}\\u003cextra\\u003e\\u003c\\u002fextra\\u003e\",\"legendgroup\":\"\",\"marker\":{\"color\":\"#636efa\",\"pattern\":{\"shape\":\"\"}},\"name\":\"\",\"offsetgroup\":\"\",\"orientation\":\"v\",\"showlegend\":false,\"x\":[20.0,6.9,6.7,1.4,6.0,12.0,1.3,12.0,1.0,0.125,12.8,0.41,1.3,0.16,0.41,0.16,2.7,2.8,0.07,2.7,1.1,0.46,3.0,3.0,0.248,7.0,0.031,0.031,0.031,0.031,0.031,1.1,1.1,1.1,7.67,0.345,7.0,13.0,70.0,3.0,7.0,4.0,4.0,10.0,1.3,7.0,0.126,6.7,40.0,20.0,6.7,1.3,0.356,7.0,34.0,34.0,6.0,6.0,7.0,13.0,6.0,16.0,6.0,5.0,20.0,7.0,67.0,0.124,0.4,7.0,7.0,0.111,13.0,6.7,2.7,1.3,7.0,7.0,0.031,1.0,40.0,7.5,0.564,4.5,34.0,26.0,7.0,3.0,0.218,0.22,0.081,0.058,0.101,10.7,0.881,0.186,13.0,7.24,6.74,1.3,7.0,7.0,3.0,3.0,65.0,13.0,22.0,0.033,0.003,0.028,0.008,1.0,7.0,7.0,13.0,7.0,13.0,7.0,0.164,1.12,7.0,3.0,7.0,22.0,20.0,11.0,4.0,4.0,10.7,7.0,65.0,30.0,13.0,1.3,0.137,6.0,7.0,7.0,13.0,20.0,6.7,1.4,6.0,12.0,1.3,12.0,1.0,0.125,12.8,0.41,1.3,0.16,0.41,0.16,2.7,2.8,0.07,2.7,1.1,0.46,3.0,3.0,0.248,0.248,7.0,0.031,0.031,0.031,0.031,0.031,1.1,1.1,1.1,7.0,7.67,0.345,0.136,8.0,7.0,13.0,70.0,1.0,3.0,7.0,4.0,4.0,10.0,1.3,7.0,0.126,6.7,40.0,20.0,6.7,1.3,0.356,7.0,34.0,34.0,6.0,6.0,7.0,13.0,30.0,7.0,6.0,16.0,6.0,5.0,20.0,7.0,8.0,0.124,0.4,7.0,7.0,0.111,13.0,6.7,2.7,0.256,1.3,1.3,7.0,7.0,0.031,1.0,40.0,7.5,0.564,4.5,34.0,26.0,7.0,3.0,0.218,0.22,0.081,0.058,0.101,10.7,0.881,0.186,13.0,7.24,1.61,6.74,1.3,7.0,7.0,3.0,7.0,13.0,22.0,1.54,0.033,0.003,0.028,0.008,1.0,7.0,7.0,13.0,7.0,13.0,7.0,0.164,1.12,7.0,3.0,7.0,22.0,20.0,11.0,4.0,4.0,10.7,7.0,30.0,13.0,1.3,0.137,6.0,7.0,7.0,13.0,34.0,20.0,6.9,6.7,1.4,6.0,12.0,1.3,12.0,1.0,0.125,12.8,0.41,1.3,0.16,0.41,0.16,2.7,2.8,0.07,2.7,1.1,0.46,3.0,3.0,0.248,7.0,0.031,0.031,0.031,0.031,0.031,1.1,1.1,1.1,7.0,7.67,7.0,13.0,70.0,3.0,7.0,7.0,4.0,4.0,10.0,7.0,7.0,34.0,34.0,6.0,6.0,7.0,13.0,6.0,16.0,6.0,7.0,67.0,0.4,7.0,7.0,7.0,7.0,7.0,0.031,34.0,26.0,7.0,3.0,0.218,0.4,0.22,0.081,0.058,0.101,10.7,0.881,0.186,13.0,7.24,6.74,1.3,7.0,7.0,3.0,65.0,13.0,22.0,13.0,0.033,0.001,0.003,0.028,0.008,1.0,3.0,7.0,7.0,3.0,13.0,7.0,13.0,7.0,0.164,1.12,7.0,3.0,7.0,22.0,11.0,4.0,4.0,10.7,7.0,65.0,30.0,13.0,1.3,6.0,7.0,7.0,13.0,7.0,7.0,6.9,6.7,1.4,6.0,12.0,1.3,12.0,1.0,0.125,12.8,0.41,1.3,0.16,0.41,0.16,2.7,2.8,0.07,2.7,1.1,0.46,3.0,3.0,0.248,0.248,7.0,0.031,0.031,0.031,0.031,0.031,1.1,1.1,1.1,7.0,7.67,0.345,0.136,8.0,7.0,13.0,1.0,3.0,7.0,4.0,4.0,10.0,7.0,0.126,6.7,20.0,6.7,1.3,0.356,7.0,6.0,6.0,7.0,13.0,6.0,16.0,6.0,5.0,20.0,7.0,8.0,0.124,0.4,7.0,7.0,0.111,13.0,6.7,2.7,0.256,1.3,1.3,2.78,7.0,7.0,0.031,1.0,7.0,7.5,0.564,4.5,0.101,0.101,7.0,3.0,0.218,0.4,0.22,0.081,0.058,0.101,10.7,0.881,0.186,13.0,7.24,1.61,6.74,1.3,7.0,7.0,3.0,7.0,3.0,13.0,1.54,13.0,0.033,0.001,0.003,0.028,0.008,1.0,3.0,7.0,7.0,3.0,13.0,7.0,13.0,3.0,0.43,0.169,7.0,14.0,14.0,1.0,7.0,0.164,1.12,13.0,7.0,3.0,7.0,20.0,11.0,4.0,4.0,10.7,7.0,13.0,1.3,0.137,6.0,6.0,7.0,7.0,13.0,11.0,7.0,6.9,6.7,1.4,6.0,1.3,1.0,0.125,0.41,1.3,0.16,0.41,0.16,2.7,2.8,0.07,2.7,1.1,0.46,3.0,3.0,0.248,7.0,0.031,0.031,0.031,0.031,0.031,1.1,1.1,1.1,0.345,7.0,13.0,3.0,4.0,4.0,10.0,1.3,7.0,0.126,1.3,0.356,7.0,6.0,6.0,13.0,6.0,6.0,5.0,7.0,0.124,0.4,7.0,7.0,0.111,13.0,6.7,2.7,1.3,7.0,0.031,1.0,0.564,4.5,3.0,0.218,0.22,0.081,0.058,0.101,0.881,0.186,6.74,1.3,3.0,3.0,0.033,0.003,0.028,0.008,1.0,7.0,7.0,13.0,13.0,7.0,0.164,1.12,7.0,3.0,7.0,4.0,4.0,7.0,13.0,1.3,0.137,6.0,7.0,7.0,20.0,6.9,6.7,1.4,6.0,12.0,1.3,12.0,1.0,0.125,12.8,0.41,1.3,0.16,0.41,0.16,2.7,2.8,0.07,2.7,1.1,0.46,3.0,3.0,0.248,0.248,7.0,0.031,0.031,0.031,0.031,0.031,1.1,1.1,1.1,7.0,7.67,0.345,0.136,8.0,7.0,13.0,1.0,3.0,7.0,4.0,4.0,10.0,1.3,7.0,0.126,6.7,20.0,6.7,1.3,0.356,7.0,6.0,6.0,7.0,13.0,6.0,16.0,6.0,5.0,20.0,7.0,8.0,0.124,0.4,7.0,7.0,0.111,13.0,6.7,2.7,0.256,1.3,1.3,2.78,7.0,7.0,0.031,1.0,7.0,7.5,0.564,4.5,0.101,26.0,0.101,7.0,3.0,0.218,0.4,0.22,0.081,0.058,0.101,10.7,0.881,0.186,13.0,7.24,1.61,6.74,1.3,7.0,7.0,3.0,7.0,3.0,13.0,22.0,1.54,13.0,0.033,0.001,0.003,0.028,0.008,1.0,3.0,7.0,7.0,3.0,13.0,7.0,13.0,3.0,0.43,0.169,7.0,14.0,14.0,1.0,7.0,0.164,1.12,13.0,7.0,3.0,7.0,22.0,20.0,11.0,4.0,4.0,10.7,13.0,1.3,0.137,6.0,6.0,7.0,7.0,13.0,7.0,11.0,7.0,7.0,6.9,6.7,1.4,6.0,1.3,1.0,0.125,0.41,1.3,0.16,0.16,2.7,2.8,0.07,2.7,1.1,0.46,3.0,3.0,0.248,0.248,7.0,0.031,0.031,0.031,0.031,0.031,1.1,1.1,1.1,7.67,0.345,0.136,7.0,1.0,3.0,4.0,4.0,1.3,0.126,1.3,0.356,6.0,6.0,7.0,6.0,6.0,5.0,20.0,7.0,8.0,0.124,0.4,7.0,0.111,6.7,2.7,0.256,1.3,1.3,2.78,0.031,1.0,0.564,4.5,0.101,0.101,3.0,0.218,0.4,0.22,0.081,0.058,0.101,0.881,0.186,1.61,6.74,1.3,7.0,3.0,7.0,3.0,1.54,0.033,0.001,0.003,0.028,0.008,1.0,3.0,7.0,7.0,3.0,3.0,0.43,0.169,7.0,1.0,7.0,0.164,1.12,7.0,3.0,7.0,4.0,4.0,7.0,1.3,0.137,6.0,6.0,7.0,7.0,20.0,6.9,6.7,1.4,6.0,12.0,1.3,12.0,1.0,0.125,12.8,0.41,1.3,0.16,0.41,0.16,2.7,2.8,0.07,2.7,1.1,0.46,3.0,3.0,0.248,7.0,0.031,0.031,0.031,0.031,0.031,1.1,1.1,1.1,7.0,7.67,1.0,3.0,7.0,7.0,4.0,4.0,10.0,7.0,7.0,34.0,34.0,6.0,6.0,7.0,13.0,30.0,7.0,6.0,16.0,6.0,7.0,67.0,0.4,7.0,7.0,7.0,7.0,7.0,0.031,1.0,7.0,40.0,7.5,0.564,4.5,34.0,26.0,7.0,3.0,0.218,0.4,0.22,0.081,0.058,0.101,10.7,0.881,0.186,13.0,7.24,6.74,1.3,7.0,7.0,3.0,7.0,65.0,13.0,22.0,13.0,0.033,0.001,0.003,0.028,0.008,1.0,3.0,7.0,7.0,3.0,13.0,7.0,13.0,3.0,0.43,0.169,7.0,14.0,14.0,1.0,7.0,0.164,1.12,7.0,3.0,7.0,22.0,20.0,11.0,4.0,4.0,10.7,1.3,6.0,6.0,7.0,7.0,13.0,7.0,7.0,7.0,20.0,6.9,6.7,1.4,6.0,12.0,1.3,12.0,1.0,0.125,12.8,0.41,1.3,0.16,0.41,0.16,2.7,2.8,0.07,2.7,1.1,0.46,3.0,3.0,0.248,7.0,0.031,0.031,0.031,0.031,0.031,1.1,1.1,1.1,7.0,7.67,3.0,7.0,7.0,4.0,4.0,10.0,7.0,7.0,34.0,34.0,6.0,6.0,7.0,13.0,6.0,16.0,6.0,7.0,67.0,0.4,7.0,7.0,7.0,7.0,7.0,0.031,34.0,26.0,7.0,3.0,0.218,0.4,0.22,0.081,0.058,0.101,10.7,0.881,0.186,13.0,7.24,6.74,1.3,7.0,7.0,3.0,65.0,13.0,22.0,13.0,0.033,0.001,0.003,0.028,0.008,1.0,3.0,7.0,7.0,3.0,13.0,7.0,13.0,7.0,0.164,1.12,7.0,3.0,7.0,22.0,11.0,4.0,4.0,10.7,1.3,6.0,7.0,7.0,13.0,7.0,7.0,7.0,20.0,6.9,6.7,1.4,6.0,12.0,1.3,12.0,1.0,0.125,12.8,0.41,1.3,0.16,0.41,0.16,2.7,2.8,0.07,2.7,1.1,0.46,3.0,3.0,0.248,7.0,0.031,0.031,0.031,0.031,0.031,1.1,1.1,1.1,7.67,0.136,7.0,13.0,70.0,3.0,7.0,4.0,4.0,10.0,7.0,7.0,34.0,34.0,6.0,6.0,7.0,13.0,6.0,16.0,6.0,7.0,67.0,8.0,0.4,7.0,7.0,7.0,7.0,0.031,7.5,0.564,4.5,34.0,26.0,7.0,3.0,0.218,0.22,0.081,0.058,0.101,10.7,0.881,0.186,13.0,7.24,6.74,1.3,7.0,7.0,3.0,65.0,13.0,22.0,1.54,0.033,0.028,0.008,1.0,7.0,7.0,13.0,7.0,13.0,7.0,0.164,1.12,7.0,3.0,7.0,22.0,11.0,4.0,4.0,10.7,7.0,65.0,30.0,13.0,1.3,6.0,7.0,7.0,13.0,20.0,6.9,6.7,1.4,6.0,12.0,1.3,12.0,1.0,0.125,12.8,0.41,1.3,0.16,0.41,0.16,2.7,2.8,0.07,2.7,1.1,0.46,3.0,3.0,0.248,7.0,0.031,0.031,0.031,0.031,0.031,1.1,1.1,1.1,7.0,7.67,1.0,3.0,7.0,7.0,4.0,4.0,10.0,7.0,7.0,34.0,34.0,6.0,6.0,7.0,13.0,30.0,7.0,6.0,16.0,6.0,7.0,67.0,0.4,7.0,7.0,7.0,7.0,7.0,0.031,1.0,7.0,40.0,7.5,0.564,4.5,34.0,26.0,7.0,3.0,0.218,0.4,0.22,0.081,0.058,0.101,10.7,0.881,0.186,13.0,7.24,6.74,1.3,7.0,7.0,3.0,7.0,65.0,13.0,22.0,13.0,0.033,0.001,0.003,0.028,0.008,1.0,3.0,7.0,7.0,3.0,13.0,7.0,13.0,3.0,0.43,0.169,7.0,14.0,14.0,1.0,7.0,0.164,1.12,7.0,3.0,7.0,22.0,20.0,11.0,4.0,4.0,10.7,1.3,6.0,6.0,7.0,7.0,13.0,7.0,7.0,7.0,20.0,6.9,6.7,1.4,6.0,12.0,1.3,12.0,1.0,0.125,12.8,0.41,1.3,0.16,0.41,0.16,2.7,2.8,0.07,2.7,1.1,0.46,3.0,3.0,0.248,0.248,7.0,0.031,0.031,0.031,0.031,0.031,1.1,1.1,1.1,7.0,7.67,0.345,8.0,7.0,13.0,70.0,1.0,3.0,7.0,4.0,4.0,10.0,1.3,7.0,0.126,6.7,40.0,20.0,6.7,1.3,0.356,7.0,34.0,34.0,6.0,6.0,13.0,30.0,7.0,6.0,16.0,6.0,5.0,20.0,7.0,67.0,8.0,0.124,0.4,7.0,7.0,0.111,13.0,6.7,2.7,0.256,1.3,1.3,7.0,7.0,0.031,1.0,40.0,7.5,0.564,4.5,34.0,26.0,7.0,3.0,0.218,0.22,0.081,0.058,0.101,10.7,0.881,0.186,13.0,7.24,1.61,6.74,1.3,7.0,7.0,3.0,7.0,3.0,65.0,13.0,22.0,1.54,0.033,0.003,0.028,0.008,1.0,7.0,7.0,13.0,7.0,13.0,7.0,0.164,1.12,7.0,3.0,7.0,22.0,20.0,11.0,4.0,4.0,10.7,7.0,65.0,30.0,13.0,1.3,0.137,6.0,7.0,7.0,13.0,34.0,20.0,6.9,6.7,1.4,12.0,1.3,12.0,1.0,0.125,12.8,0.41,1.3,0.16,0.41,0.16,2.7,2.8,0.07,2.7,1.1,0.46,3.0,3.0,0.248,7.0,0.031,0.031,0.031,0.031,0.031,1.1,1.1,1.1,7.0,7.67,3.0,7.0,4.0,4.0,10.0,7.0,7.0,34.0,34.0,6.0,6.0,7.0,13.0,7.0,0.4,7.0,7.0,7.0,7.0,0.031,34.0,26.0,0.218,0.4,0.22,0.081,0.058,0.101,10.7,7.24,6.74,1.3,7.0,7.0,3.0,13.0,22.0,13.0,0.033,0.001,0.003,0.028,0.008,1.0,3.0,7.0,7.0,3.0,13.0,7.0,13.0,7.0,0.164,1.12,13.0,7.0,3.0,7.0,22.0,11.0,4.0,4.0,10.7,1.3,6.0,7.0,7.0,13.0,7.0,7.0,7.0,6.9,6.7,1.4,6.0,1.3,1.0,0.125,0.41,1.3,0.16,0.41,0.16,2.7,2.8,0.07,2.7,0.031,0.031,0.031,0.031,0.031,7.67,0.345,4.0,4.0,1.3,0.126,1.3,0.356,6.0,6.0,5.0,20.0,0.124,0.4,0.111,6.7,2.7,0.256,1.3,0.031,3.0,0.881,0.186,1.61,7.0,3.0,0.033,0.001,0.003,0.028,0.008,7.0,3.0,7.0,4.0,4.0,1.3,0.137,0.881,1.3,0.881,0.881,1.3,0.881,3.0,3.0,1.3,0.058,0.4,0.22,0.081,0.101,0.218,1.54,1.3,7.0,7.0,1.0,7.24,1.3,7.0,7.0,3.0,7.0,0.07,2.7,0.16,6.7,1.0,6.0,12.0,6.9,1.3,12.0,0.41,1.4,2.8,0.16,0.41,7.24,0.248,0.248,5.0,0.001,7.0,0.4,10.7,10.7,0.031,1.0,0.101,0.101,7.67,0.136,1.1,1.1,1.1,1.3,7.0,3.0,7.0,3.0,6.7,0.111,1.3,0.256,2.7,0.186,0.881,0.164,7.0,7.0,7.0,1.0,1.1,0.345,0.031,0.031,0.031,0.031,0.031,7.0,1.3,7.0,3.0,7.0,7.0,3.0,7.0,6.0,3.0,3.0,2.78,1.3,0.058,0.4,0.22,0.081,0.101,0.218,1.54,1.3,7.0,1.0,0.126,1.3,0.356,4.5,3.0,3.0,1.61,0.43,0.169,2.7,0.07,2.7,0.16,1.0,1.3,1.3,0.125,0.41,1.4,2.8,0.16,0.41,4.0,4.0,0.248,0.248,5.0,0.003,0.033,0.001,0.028,0.008,0.4,0.031,1.0,0.101,0.101,0.136,1.1,1.1,1.1,1.3,3.0,3.0,0.124,0.111,1.3,0.256,2.7,0.137,0.186,0.881,0.164,1.12,1.0,1.1,0.345,0.031,0.031,0.031,0.031,0.031,4.0,4.0,6.0,1.3,3.0,3.0,0.46,1.3],\"xaxis\":\"x\",\"yaxis\":\"y\",\"type\":\"histogram\"}],                        {\"template\":{\"data\":{\"barpolar\":[{\"marker\":{\"line\":{\"color\":\"white\",\"width\":0.5},\"pattern\":{\"fillmode\":\"overlay\",\"size\":10,\"solidity\":0.2}},\"type\":\"barpolar\"}],\"bar\":[{\"error_x\":{\"color\":\"#2a3f5f\"},\"error_y\":{\"color\":\"#2a3f5f\"},\"marker\":{\"line\":{\"color\":\"white\",\"width\":0.5},\"pattern\":{\"fillmode\":\"overlay\",\"size\":10,\"solidity\":0.2}},\"type\":\"bar\"}],\"carpet\":[{\"aaxis\":{\"endlinecolor\":\"#2a3f5f\",\"gridcolor\":\"#C8D4E3\",\"linecolor\":\"#C8D4E3\",\"minorgridcolor\":\"#C8D4E3\",\"startlinecolor\":\"#2a3f5f\"},\"baxis\":{\"endlinecolor\":\"#2a3f5f\",\"gridcolor\":\"#C8D4E3\",\"linecolor\":\"#C8D4E3\",\"minorgridcolor\":\"#C8D4E3\",\"startlinecolor\":\"#2a3f5f\"},\"type\":\"carpet\"}],\"choropleth\":[{\"colorbar\":{\"outlinewidth\":0,\"ticks\":\"\"},\"type\":\"choropleth\"}],\"contourcarpet\":[{\"colorbar\":{\"outlinewidth\":0,\"ticks\":\"\"},\"type\":\"contourcarpet\"}],\"contour\":[{\"colorbar\":{\"outlinewidth\":0,\"ticks\":\"\"},\"colorscale\":[[0.0,\"#0d0887\"],[0.1111111111111111,\"#46039f\"],[0.2222222222222222,\"#7201a8\"],[0.3333333333333333,\"#9c179e\"],[0.4444444444444444,\"#bd3786\"],[0.5555555555555556,\"#d8576b\"],[0.6666666666666666,\"#ed7953\"],[0.7777777777777778,\"#fb9f3a\"],[0.8888888888888888,\"#fdca26\"],[1.0,\"#f0f921\"]],\"type\":\"contour\"}],\"heatmapgl\":[{\"colorbar\":{\"outlinewidth\":0,\"ticks\":\"\"},\"colorscale\":[[0.0,\"#0d0887\"],[0.1111111111111111,\"#46039f\"],[0.2222222222222222,\"#7201a8\"],[0.3333333333333333,\"#9c179e\"],[0.4444444444444444,\"#bd3786\"],[0.5555555555555556,\"#d8576b\"],[0.6666666666666666,\"#ed7953\"],[0.7777777777777778,\"#fb9f3a\"],[0.8888888888888888,\"#fdca26\"],[1.0,\"#f0f921\"]],\"type\":\"heatmapgl\"}],\"heatmap\":[{\"colorbar\":{\"outlinewidth\":0,\"ticks\":\"\"},\"colorscale\":[[0.0,\"#0d0887\"],[0.1111111111111111,\"#46039f\"],[0.2222222222222222,\"#7201a8\"],[0.3333333333333333,\"#9c179e\"],[0.4444444444444444,\"#bd3786\"],[0.5555555555555556,\"#d8576b\"],[0.6666666666666666,\"#ed7953\"],[0.7777777777777778,\"#fb9f3a\"],[0.8888888888888888,\"#fdca26\"],[1.0,\"#f0f921\"]],\"type\":\"heatmap\"}],\"histogram2dcontour\":[{\"colorbar\":{\"outlinewidth\":0,\"ticks\":\"\"},\"colorscale\":[[0.0,\"#0d0887\"],[0.1111111111111111,\"#46039f\"],[0.2222222222222222,\"#7201a8\"],[0.3333333333333333,\"#9c179e\"],[0.4444444444444444,\"#bd3786\"],[0.5555555555555556,\"#d8576b\"],[0.6666666666666666,\"#ed7953\"],[0.7777777777777778,\"#fb9f3a\"],[0.8888888888888888,\"#fdca26\"],[1.0,\"#f0f921\"]],\"type\":\"histogram2dcontour\"}],\"histogram2d\":[{\"colorbar\":{\"outlinewidth\":0,\"ticks\":\"\"},\"colorscale\":[[0.0,\"#0d0887\"],[0.1111111111111111,\"#46039f\"],[0.2222222222222222,\"#7201a8\"],[0.3333333333333333,\"#9c179e\"],[0.4444444444444444,\"#bd3786\"],[0.5555555555555556,\"#d8576b\"],[0.6666666666666666,\"#ed7953\"],[0.7777777777777778,\"#fb9f3a\"],[0.8888888888888888,\"#fdca26\"],[1.0,\"#f0f921\"]],\"type\":\"histogram2d\"}],\"histogram\":[{\"marker\":{\"pattern\":{\"fillmode\":\"overlay\",\"size\":10,\"solidity\":0.2}},\"type\":\"histogram\"}],\"mesh3d\":[{\"colorbar\":{\"outlinewidth\":0,\"ticks\":\"\"},\"type\":\"mesh3d\"}],\"parcoords\":[{\"line\":{\"colorbar\":{\"outlinewidth\":0,\"ticks\":\"\"}},\"type\":\"parcoords\"}],\"pie\":[{\"automargin\":true,\"type\":\"pie\"}],\"scatter3d\":[{\"line\":{\"colorbar\":{\"outlinewidth\":0,\"ticks\":\"\"}},\"marker\":{\"colorbar\":{\"outlinewidth\":0,\"ticks\":\"\"}},\"type\":\"scatter3d\"}],\"scattercarpet\":[{\"marker\":{\"colorbar\":{\"outlinewidth\":0,\"ticks\":\"\"}},\"type\":\"scattercarpet\"}],\"scattergeo\":[{\"marker\":{\"colorbar\":{\"outlinewidth\":0,\"ticks\":\"\"}},\"type\":\"scattergeo\"}],\"scattergl\":[{\"marker\":{\"colorbar\":{\"outlinewidth\":0,\"ticks\":\"\"}},\"type\":\"scattergl\"}],\"scattermapbox\":[{\"marker\":{\"colorbar\":{\"outlinewidth\":0,\"ticks\":\"\"}},\"type\":\"scattermapbox\"}],\"scatterpolargl\":[{\"marker\":{\"colorbar\":{\"outlinewidth\":0,\"ticks\":\"\"}},\"type\":\"scatterpolargl\"}],\"scatterpolar\":[{\"marker\":{\"colorbar\":{\"outlinewidth\":0,\"ticks\":\"\"}},\"type\":\"scatterpolar\"}],\"scatter\":[{\"fillpattern\":{\"fillmode\":\"overlay\",\"size\":10,\"solidity\":0.2},\"type\":\"scatter\"}],\"scatterternary\":[{\"marker\":{\"colorbar\":{\"outlinewidth\":0,\"ticks\":\"\"}},\"type\":\"scatterternary\"}],\"surface\":[{\"colorbar\":{\"outlinewidth\":0,\"ticks\":\"\"},\"colorscale\":[[0.0,\"#0d0887\"],[0.1111111111111111,\"#46039f\"],[0.2222222222222222,\"#7201a8\"],[0.3333333333333333,\"#9c179e\"],[0.4444444444444444,\"#bd3786\"],[0.5555555555555556,\"#d8576b\"],[0.6666666666666666,\"#ed7953\"],[0.7777777777777778,\"#fb9f3a\"],[0.8888888888888888,\"#fdca26\"],[1.0,\"#f0f921\"]],\"type\":\"surface\"}],\"table\":[{\"cells\":{\"fill\":{\"color\":\"#EBF0F8\"},\"line\":{\"color\":\"white\"}},\"header\":{\"fill\":{\"color\":\"#C8D4E3\"},\"line\":{\"color\":\"white\"}},\"type\":\"table\"}]},\"layout\":{\"annotationdefaults\":{\"arrowcolor\":\"#2a3f5f\",\"arrowhead\":0,\"arrowwidth\":1},\"autotypenumbers\":\"strict\",\"coloraxis\":{\"colorbar\":{\"outlinewidth\":0,\"ticks\":\"\"}},\"colorscale\":{\"diverging\":[[0,\"#8e0152\"],[0.1,\"#c51b7d\"],[0.2,\"#de77ae\"],[0.3,\"#f1b6da\"],[0.4,\"#fde0ef\"],[0.5,\"#f7f7f7\"],[0.6,\"#e6f5d0\"],[0.7,\"#b8e186\"],[0.8,\"#7fbc41\"],[0.9,\"#4d9221\"],[1,\"#276419\"]],\"sequential\":[[0.0,\"#0d0887\"],[0.1111111111111111,\"#46039f\"],[0.2222222222222222,\"#7201a8\"],[0.3333333333333333,\"#9c179e\"],[0.4444444444444444,\"#bd3786\"],[0.5555555555555556,\"#d8576b\"],[0.6666666666666666,\"#ed7953\"],[0.7777777777777778,\"#fb9f3a\"],[0.8888888888888888,\"#fdca26\"],[1.0,\"#f0f921\"]],\"sequentialminus\":[[0.0,\"#0d0887\"],[0.1111111111111111,\"#46039f\"],[0.2222222222222222,\"#7201a8\"],[0.3333333333333333,\"#9c179e\"],[0.4444444444444444,\"#bd3786\"],[0.5555555555555556,\"#d8576b\"],[0.6666666666666666,\"#ed7953\"],[0.7777777777777778,\"#fb9f3a\"],[0.8888888888888888,\"#fdca26\"],[1.0,\"#f0f921\"]]},\"colorway\":[\"#636efa\",\"#EF553B\",\"#00cc96\",\"#ab63fa\",\"#FFA15A\",\"#19d3f3\",\"#FF6692\",\"#B6E880\",\"#FF97FF\",\"#FECB52\"],\"font\":{\"color\":\"#2a3f5f\"},\"geo\":{\"bgcolor\":\"white\",\"lakecolor\":\"white\",\"landcolor\":\"white\",\"showlakes\":true,\"showland\":true,\"subunitcolor\":\"#C8D4E3\"},\"hoverlabel\":{\"align\":\"left\"},\"hovermode\":\"closest\",\"mapbox\":{\"style\":\"light\"},\"paper_bgcolor\":\"white\",\"plot_bgcolor\":\"white\",\"polar\":{\"angularaxis\":{\"gridcolor\":\"#EBF0F8\",\"linecolor\":\"#EBF0F8\",\"ticks\":\"\"},\"bgcolor\":\"white\",\"radialaxis\":{\"gridcolor\":\"#EBF0F8\",\"linecolor\":\"#EBF0F8\",\"ticks\":\"\"}},\"scene\":{\"xaxis\":{\"backgroundcolor\":\"white\",\"gridcolor\":\"#DFE8F3\",\"gridwidth\":2,\"linecolor\":\"#EBF0F8\",\"showbackground\":true,\"ticks\":\"\",\"zerolinecolor\":\"#EBF0F8\"},\"yaxis\":{\"backgroundcolor\":\"white\",\"gridcolor\":\"#DFE8F3\",\"gridwidth\":2,\"linecolor\":\"#EBF0F8\",\"showbackground\":true,\"ticks\":\"\",\"zerolinecolor\":\"#EBF0F8\"},\"zaxis\":{\"backgroundcolor\":\"white\",\"gridcolor\":\"#DFE8F3\",\"gridwidth\":2,\"linecolor\":\"#EBF0F8\",\"showbackground\":true,\"ticks\":\"\",\"zerolinecolor\":\"#EBF0F8\"}},\"shapedefaults\":{\"line\":{\"color\":\"#2a3f5f\"}},\"ternary\":{\"aaxis\":{\"gridcolor\":\"#DFE8F3\",\"linecolor\":\"#A2B1C6\",\"ticks\":\"\"},\"baxis\":{\"gridcolor\":\"#DFE8F3\",\"linecolor\":\"#A2B1C6\",\"ticks\":\"\"},\"bgcolor\":\"white\",\"caxis\":{\"gridcolor\":\"#DFE8F3\",\"linecolor\":\"#A2B1C6\",\"ticks\":\"\"}},\"title\":{\"x\":0.05},\"xaxis\":{\"automargin\":true,\"gridcolor\":\"#EBF0F8\",\"linecolor\":\"#EBF0F8\",\"ticks\":\"\",\"title\":{\"standoff\":15},\"zerolinecolor\":\"#EBF0F8\",\"zerolinewidth\":2},\"yaxis\":{\"automargin\":true,\"gridcolor\":\"#EBF0F8\",\"linecolor\":\"#EBF0F8\",\"ticks\":\"\",\"title\":{\"standoff\":15},\"zerolinecolor\":\"#EBF0F8\",\"zerolinewidth\":2}}},\"xaxis\":{\"anchor\":\"y\",\"domain\":[0.0,1.0],\"title\":{\"text\":\"parameters_count\"}},\"yaxis\":{\"anchor\":\"x\",\"domain\":[0.0,1.0],\"title\":{\"text\":\"count\"}},\"legend\":{\"tracegroupgap\":0},\"margin\":{\"t\":60},\"barmode\":\"relative\",\"title\":{\"text\":\"Nb of models per parameters_count\"}},                        {\"responsive\": true}                    ).then(function(){\n",
       "                            \n",
       "var gd = document.getElementById('bf731f78-758e-4bc9-8606-fcac45c093ae');\n",
       "var x = new MutationObserver(function (mutations, observer) {{\n",
       "        var display = window.getComputedStyle(gd).display;\n",
       "        if (!display || display === 'none') {{\n",
       "            console.log([gd, 'removed!']);\n",
       "            Plotly.purge(gd);\n",
       "            observer.disconnect();\n",
       "        }}\n",
       "}});\n",
       "\n",
       "// Listen for the removal of the full notebook cells\n",
       "var notebookContainer = gd.closest('#notebook-container');\n",
       "if (notebookContainer) {{\n",
       "    x.observe(notebookContainer, {childList: true});\n",
       "}}\n",
       "\n",
       "// Listen for the clearing of the current output cell\n",
       "var outputEl = gd.closest('.output');\n",
       "if (outputEl) {{\n",
       "    x.observe(outputEl, {childList: true});\n",
       "}}\n",
       "\n",
       "                        })                };                });            </script>        </div>"
      ]
     },
     "metadata": {},
     "output_type": "display_data"
    }
   ],
   "source": [
    "#\n",
    "import plotly.express as px\n",
    "\n",
    "fig = px.histogram(llm_perf_df, x=\"parameters_count\")\n",
    "fig.update_layout(title = 'Nb of models per parameters_count', template='plotly_white')\n",
    "fig.show()"
   ]
  },
  {
   "cell_type": "code",
   "execution_count": 102,
   "id": "c473b960",
   "metadata": {
    "ExecuteTime": {
     "end_time": "2024-02-28T10:03:32.133839Z",
     "start_time": "2024-02-28T10:03:32.120268Z"
    }
   },
   "outputs": [
    {
     "data": {
      "text/plain": [
       "parameters_count\n",
       "7.000     347\n",
       "3.000     122\n",
       "1.300     101\n",
       "13.000    100\n",
       "0.031      96\n",
       "         ... \n",
       "1.610       7\n",
       "0.430       6\n",
       "0.169       6\n",
       "70.000      5\n",
       "2.780       4\n",
       "Name: count, Length: 72, dtype: int64"
      ]
     },
     "execution_count": 102,
     "metadata": {},
     "output_type": "execute_result"
    }
   ],
   "source": [
    "llm_perf_df.parameters_count.value_counts()#.head(10)"
   ]
  },
  {
   "cell_type": "code",
   "execution_count": 49,
   "id": "30d40270",
   "metadata": {
    "ExecuteTime": {
     "end_time": "2024-02-28T09:38:23.682019Z",
     "start_time": "2024-02-28T09:38:23.672196Z"
    },
    "cell_style": "split",
    "scrolled": true
   },
   "outputs": [
    {
     "data": {
      "text/plain": [
       "quantization\n",
       "None                    764\n",
       "bnb-8bit                262\n",
       "bnb-4bit                256\n",
       "awq-4bit+gemm           153\n",
       "awq-4bit+gemv           148\n",
       "gptq-4bit+exllama-v1    141\n",
       "gptq-4bit+exllama-v2    119\n",
       "gptq-4bit               101\n",
       "Name: count, dtype: int64"
      ]
     },
     "execution_count": 49,
     "metadata": {},
     "output_type": "execute_result"
    }
   ],
   "source": [
    "llm_perf_df.quantization.value_counts()"
   ]
  },
  {
   "cell_type": "code",
   "execution_count": 32,
   "id": "6fe0d929",
   "metadata": {
    "ExecuteTime": {
     "end_time": "2024-02-28T09:14:41.010734Z",
     "start_time": "2024-02-28T09:14:40.996030Z"
    },
    "cell_style": "split"
   },
   "outputs": [
    {
     "data": {
      "text/plain": [
       "optimization\n",
       "None                 1536\n",
       "BetterTransformer     302\n",
       "FlashAttentionV2      106\n",
       "Name: count, dtype: int64"
      ]
     },
     "execution_count": 32,
     "metadata": {},
     "output_type": "execute_result"
    }
   ],
   "source": [
    "llm_perf_df.optimization.value_counts()"
   ]
  },
  {
   "cell_type": "code",
   "execution_count": 155,
   "id": "cecb06d7",
   "metadata": {
    "ExecuteTime": {
     "end_time": "2024-02-28T11:11:34.756373Z",
     "start_time": "2024-02-28T11:11:34.739426Z"
    }
   },
   "outputs": [
    {
     "data": {
      "text/plain": [
       "(59, 260)"
      ]
     },
     "execution_count": 155,
     "metadata": {},
     "output_type": "execute_result"
    }
   ],
   "source": [
    "# Same setup as ML energy\n",
    "llm_perf_df_filtered = llm_perf_df[(llm_perf_df.optimization==\"None\") & (llm_perf_df.quantization==\"None\") & (llm_perf_df.dtype==\"float16\") \\\n",
    "                                   & (llm_perf_df.parameters_count.isin([3, 6.9, 6.7, 7, 7.2, 7.24, 12, 13]))\n",
    "                                  ]\n",
    "len(llm_perf_df_filtered), len(ml_energy_df)"
   ]
  },
  {
   "cell_type": "code",
   "execution_count": 156,
   "id": "4ecbe73f",
   "metadata": {
    "ExecuteTime": {
     "end_time": "2024-02-28T11:11:35.953056Z",
     "start_time": "2024-02-28T11:11:35.938277Z"
    }
   },
   "outputs": [
    {
     "data": {
      "text/html": [
       "<div>\n",
       "<style scoped>\n",
       "    .dataframe tbody tr th:only-of-type {\n",
       "        vertical-align: middle;\n",
       "    }\n",
       "\n",
       "    .dataframe tbody tr th {\n",
       "        vertical-align: top;\n",
       "    }\n",
       "\n",
       "    .dataframe thead th {\n",
       "        text-align: right;\n",
       "    }\n",
       "</style>\n",
       "<table border=\"1\" class=\"dataframe\">\n",
       "  <thead>\n",
       "    <tr style=\"text-align: right;\">\n",
       "      <th></th>\n",
       "      <th>model</th>\n",
       "      <th>throughput</th>\n",
       "      <th>response_length</th>\n",
       "      <th>latency</th>\n",
       "      <th>energy</th>\n",
       "      <th>gpu</th>\n",
       "      <th>task</th>\n",
       "      <th>parameters_count</th>\n",
       "      <th>energy_per_token</th>\n",
       "      <th>dtype</th>\n",
       "      <th>optimization</th>\n",
       "      <th>quantization</th>\n",
       "      <th>cuda-fp16</th>\n",
       "    </tr>\n",
       "  </thead>\n",
       "  <tbody>\n",
       "    <tr>\n",
       "      <th>827</th>\n",
       "      <td>EleutherAI/pythia-6.9b-deduped</td>\n",
       "      <td>40.4</td>\n",
       "      <td>256</td>\n",
       "      <td>6.34</td>\n",
       "      <td>2138.112</td>\n",
       "      <td>NVIDIA A100-SXM4-80GB</td>\n",
       "      <td>chat</td>\n",
       "      <td>6.9</td>\n",
       "      <td>0.00232</td>\n",
       "      <td>float16</td>\n",
       "      <td>None</td>\n",
       "      <td>None</td>\n",
       "      <td>False</td>\n",
       "    </tr>\n",
       "    <tr>\n",
       "      <th>828</th>\n",
       "      <td>EleutherAI/pythia-6.7b</td>\n",
       "      <td>40.4</td>\n",
       "      <td>256</td>\n",
       "      <td>6.34</td>\n",
       "      <td>2138.112</td>\n",
       "      <td>NVIDIA A100-SXM4-80GB</td>\n",
       "      <td>chat</td>\n",
       "      <td>6.7</td>\n",
       "      <td>0.00232</td>\n",
       "      <td>float16</td>\n",
       "      <td>None</td>\n",
       "      <td>None</td>\n",
       "      <td>False</td>\n",
       "    </tr>\n",
       "    <tr>\n",
       "      <th>844</th>\n",
       "      <td>GeneZC/MiniMA-3B</td>\n",
       "      <td>53.2</td>\n",
       "      <td>256</td>\n",
       "      <td>4.81</td>\n",
       "      <td>1345.536</td>\n",
       "      <td>NVIDIA A100-SXM4-80GB</td>\n",
       "      <td>chat</td>\n",
       "      <td>3.0</td>\n",
       "      <td>0.00146</td>\n",
       "      <td>float16</td>\n",
       "      <td>None</td>\n",
       "      <td>None</td>\n",
       "      <td>False</td>\n",
       "    </tr>\n",
       "    <tr>\n",
       "      <th>845</th>\n",
       "      <td>GeneZC/MiniMA-2-3B</td>\n",
       "      <td>54.9</td>\n",
       "      <td>256</td>\n",
       "      <td>4.66</td>\n",
       "      <td>1345.536</td>\n",
       "      <td>NVIDIA A100-SXM4-80GB</td>\n",
       "      <td>chat</td>\n",
       "      <td>3.0</td>\n",
       "      <td>0.00146</td>\n",
       "      <td>float16</td>\n",
       "      <td>None</td>\n",
       "      <td>None</td>\n",
       "      <td>False</td>\n",
       "    </tr>\n",
       "    <tr>\n",
       "      <th>848</th>\n",
       "      <td>DevaMalla/llama-base-7b</td>\n",
       "      <td>42.4</td>\n",
       "      <td>256</td>\n",
       "      <td>6.04</td>\n",
       "      <td>2082.816</td>\n",
       "      <td>NVIDIA A100-SXM4-80GB</td>\n",
       "      <td>chat</td>\n",
       "      <td>7.0</td>\n",
       "      <td>0.00226</td>\n",
       "      <td>float16</td>\n",
       "      <td>None</td>\n",
       "      <td>None</td>\n",
       "      <td>False</td>\n",
       "    </tr>\n",
       "  </tbody>\n",
       "</table>\n",
       "</div>"
      ],
      "text/plain": [
       "                              model  throughput  response_length  latency  \\\n",
       "827  EleutherAI/pythia-6.9b-deduped        40.4              256     6.34   \n",
       "828          EleutherAI/pythia-6.7b        40.4              256     6.34   \n",
       "844                GeneZC/MiniMA-3B        53.2              256     4.81   \n",
       "845              GeneZC/MiniMA-2-3B        54.9              256     4.66   \n",
       "848         DevaMalla/llama-base-7b        42.4              256     6.04   \n",
       "\n",
       "       energy                    gpu  task  parameters_count  \\\n",
       "827  2138.112  NVIDIA A100-SXM4-80GB  chat               6.9   \n",
       "828  2138.112  NVIDIA A100-SXM4-80GB  chat               6.7   \n",
       "844  1345.536  NVIDIA A100-SXM4-80GB  chat               3.0   \n",
       "845  1345.536  NVIDIA A100-SXM4-80GB  chat               3.0   \n",
       "848  2082.816  NVIDIA A100-SXM4-80GB  chat               7.0   \n",
       "\n",
       "     energy_per_token    dtype optimization quantization  cuda-fp16  \n",
       "827           0.00232  float16         None         None      False  \n",
       "828           0.00232  float16         None         None      False  \n",
       "844           0.00146  float16         None         None      False  \n",
       "845           0.00146  float16         None         None      False  \n",
       "848           0.00226  float16         None         None      False  "
      ]
     },
     "execution_count": 156,
     "metadata": {},
     "output_type": "execute_result"
    }
   ],
   "source": [
    "llm_perf_df_filtered.head()"
   ]
  },
  {
   "cell_type": "code",
   "execution_count": 157,
   "id": "c14e7903",
   "metadata": {
    "ExecuteTime": {
     "end_time": "2024-02-28T11:11:36.535681Z",
     "start_time": "2024-02-28T11:11:36.512850Z"
    }
   },
   "outputs": [
    {
     "data": {
      "text/html": [
       "<div>\n",
       "<style scoped>\n",
       "    .dataframe tbody tr th:only-of-type {\n",
       "        vertical-align: middle;\n",
       "    }\n",
       "\n",
       "    .dataframe tbody tr th {\n",
       "        vertical-align: top;\n",
       "    }\n",
       "\n",
       "    .dataframe thead th {\n",
       "        text-align: right;\n",
       "    }\n",
       "</style>\n",
       "<table border=\"1\" class=\"dataframe\">\n",
       "  <thead>\n",
       "    <tr style=\"text-align: right;\">\n",
       "      <th></th>\n",
       "      <th>model</th>\n",
       "      <th>throughput_x</th>\n",
       "      <th>response_length_x</th>\n",
       "      <th>latency_x</th>\n",
       "      <th>energy_x</th>\n",
       "      <th>gpu_x</th>\n",
       "      <th>task_x</th>\n",
       "      <th>parameters_count_x</th>\n",
       "      <th>energy_per_token_x</th>\n",
       "      <th>dtype_x</th>\n",
       "      <th>...</th>\n",
       "      <th>latency_y</th>\n",
       "      <th>energy_y</th>\n",
       "      <th>gpu_y</th>\n",
       "      <th>task_y</th>\n",
       "      <th>parameters_count_y</th>\n",
       "      <th>energy_per_token_y</th>\n",
       "      <th>dtype_y</th>\n",
       "      <th>optimization_y</th>\n",
       "      <th>quantization_y</th>\n",
       "      <th>cuda-fp16_y</th>\n",
       "    </tr>\n",
       "  </thead>\n",
       "  <tbody>\n",
       "  </tbody>\n",
       "</table>\n",
       "<p>0 rows × 25 columns</p>\n",
       "</div>"
      ],
      "text/plain": [
       "Empty DataFrame\n",
       "Columns: [model, throughput_x, response_length_x, latency_x, energy_x, gpu_x, task_x, parameters_count_x, energy_per_token_x, dtype_x, optimization_x, quantization_x, cuda-fp16_x, throughput_y, response_length_y, latency_y, energy_y, gpu_y, task_y, parameters_count_y, energy_per_token_y, dtype_y, optimization_y, quantization_y, cuda-fp16_y]\n",
       "Index: []\n",
       "\n",
       "[0 rows x 25 columns]"
      ]
     },
     "execution_count": 157,
     "metadata": {},
     "output_type": "execute_result"
    }
   ],
   "source": [
    "# No model in common\n",
    "ml_energy_df.merge(llm_perf_df_filtered, on='model', how='inner')"
   ]
  },
  {
   "cell_type": "code",
   "execution_count": 164,
   "id": "4a202fb4",
   "metadata": {
    "ExecuteTime": {
     "end_time": "2024-02-28T11:11:56.290562Z",
     "start_time": "2024-02-28T11:11:56.279653Z"
    }
   },
   "outputs": [],
   "source": [
    "llm_perf_df_filtered.parameters_count = llm_perf_df_filtered.parameters_count.apply(lambda x: round(x))"
   ]
  },
  {
   "cell_type": "code",
   "execution_count": 160,
   "id": "90fea991",
   "metadata": {
    "ExecuteTime": {
     "end_time": "2024-02-28T11:11:46.362441Z",
     "start_time": "2024-02-28T11:11:46.342861Z"
    },
    "cell_style": "split"
   },
   "outputs": [
    {
     "data": {
      "text/plain": [
       "parameters_count\n",
       "7     40\n",
       "3     17\n",
       "12     2\n",
       "Name: count, dtype: int64"
      ]
     },
     "execution_count": 160,
     "metadata": {},
     "output_type": "execute_result"
    }
   ],
   "source": [
    "llm_perf_df_filtered.parameters_count.value_counts()"
   ]
  },
  {
   "cell_type": "code",
   "execution_count": 161,
   "id": "c84908b0",
   "metadata": {
    "ExecuteTime": {
     "end_time": "2024-02-28T11:11:49.937896Z",
     "start_time": "2024-02-28T11:11:49.928079Z"
    },
    "cell_style": "split"
   },
   "outputs": [
    {
     "data": {
      "text/plain": [
       "parameters_count\n",
       "7     148\n",
       "13     76\n",
       "12     24\n",
       "3      12\n",
       "Name: count, dtype: int64"
      ]
     },
     "execution_count": 161,
     "metadata": {},
     "output_type": "execute_result"
    }
   ],
   "source": [
    "ml_energy_df.parameters_count.value_counts()"
   ]
  },
  {
   "cell_type": "code",
   "execution_count": 162,
   "id": "cba58cff",
   "metadata": {
    "ExecuteTime": {
     "end_time": "2024-02-28T11:11:50.319708Z",
     "start_time": "2024-02-28T11:11:50.305843Z"
    },
    "cell_style": "split"
   },
   "outputs": [
    {
     "data": {
      "text/html": [
       "<div>\n",
       "<style scoped>\n",
       "    .dataframe tbody tr th:only-of-type {\n",
       "        vertical-align: middle;\n",
       "    }\n",
       "\n",
       "    .dataframe tbody tr th {\n",
       "        vertical-align: top;\n",
       "    }\n",
       "\n",
       "    .dataframe thead th {\n",
       "        text-align: right;\n",
       "    }\n",
       "</style>\n",
       "<table border=\"1\" class=\"dataframe\">\n",
       "  <thead>\n",
       "    <tr style=\"text-align: right;\">\n",
       "      <th>gpu</th>\n",
       "      <th>NVIDIA A100-SXM4-80GB</th>\n",
       "      <th>NVIDIA GeForce RTX 4090</th>\n",
       "    </tr>\n",
       "    <tr>\n",
       "      <th>parameters_count</th>\n",
       "      <th></th>\n",
       "      <th></th>\n",
       "    </tr>\n",
       "  </thead>\n",
       "  <tbody>\n",
       "    <tr>\n",
       "      <th>3</th>\n",
       "      <td>0.001637</td>\n",
       "      <td>0.000719</td>\n",
       "    </tr>\n",
       "    <tr>\n",
       "      <th>7</th>\n",
       "      <td>0.002234</td>\n",
       "      <td>0.001451</td>\n",
       "    </tr>\n",
       "    <tr>\n",
       "      <th>12</th>\n",
       "      <td>NaN</td>\n",
       "      <td>0.002455</td>\n",
       "    </tr>\n",
       "  </tbody>\n",
       "</table>\n",
       "</div>"
      ],
      "text/plain": [
       "gpu               NVIDIA A100-SXM4-80GB  NVIDIA GeForce RTX 4090\n",
       "parameters_count                                                \n",
       "3                              0.001637                 0.000719\n",
       "7                              0.002234                 0.001451\n",
       "12                                  NaN                 0.002455"
      ]
     },
     "execution_count": 162,
     "metadata": {},
     "output_type": "execute_result"
    }
   ],
   "source": [
    "llm_perf_df_filtered.groupby(['parameters_count', 'gpu']).energy_per_token.mean().unstack()"
   ]
  },
  {
   "cell_type": "code",
   "execution_count": 163,
   "id": "ec60df9a",
   "metadata": {
    "ExecuteTime": {
     "end_time": "2024-02-28T11:11:50.808468Z",
     "start_time": "2024-02-28T11:11:50.792345Z"
    },
    "cell_style": "split"
   },
   "outputs": [
    {
     "data": {
      "text/html": [
       "<div>\n",
       "<style scoped>\n",
       "    .dataframe tbody tr th:only-of-type {\n",
       "        vertical-align: middle;\n",
       "    }\n",
       "\n",
       "    .dataframe tbody tr th {\n",
       "        vertical-align: top;\n",
       "    }\n",
       "\n",
       "    .dataframe thead th {\n",
       "        text-align: right;\n",
       "    }\n",
       "</style>\n",
       "<table border=\"1\" class=\"dataframe\">\n",
       "  <thead>\n",
       "    <tr style=\"text-align: right;\">\n",
       "      <th>gpu</th>\n",
       "      <th>A100</th>\n",
       "      <th>A40</th>\n",
       "      <th>V100</th>\n",
       "    </tr>\n",
       "    <tr>\n",
       "      <th>parameters_count</th>\n",
       "      <th></th>\n",
       "      <th></th>\n",
       "      <th></th>\n",
       "    </tr>\n",
       "  </thead>\n",
       "  <tbody>\n",
       "    <tr>\n",
       "      <th>3</th>\n",
       "      <td>0.001303</td>\n",
       "      <td>0.001413</td>\n",
       "      <td>0.000831</td>\n",
       "    </tr>\n",
       "    <tr>\n",
       "      <th>7</th>\n",
       "      <td>0.001340</td>\n",
       "      <td>0.002236</td>\n",
       "      <td>0.001484</td>\n",
       "    </tr>\n",
       "    <tr>\n",
       "      <th>12</th>\n",
       "      <td>0.002176</td>\n",
       "      <td>0.004248</td>\n",
       "      <td>0.002724</td>\n",
       "    </tr>\n",
       "    <tr>\n",
       "      <th>13</th>\n",
       "      <td>0.002268</td>\n",
       "      <td>0.004075</td>\n",
       "      <td>0.002702</td>\n",
       "    </tr>\n",
       "  </tbody>\n",
       "</table>\n",
       "</div>"
      ],
      "text/plain": [
       "gpu                   A100       A40      V100\n",
       "parameters_count                              \n",
       "3                 0.001303  0.001413  0.000831\n",
       "7                 0.001340  0.002236  0.001484\n",
       "12                0.002176  0.004248  0.002724\n",
       "13                0.002268  0.004075  0.002702"
      ]
     },
     "execution_count": 163,
     "metadata": {},
     "output_type": "execute_result"
    }
   ],
   "source": [
    "ml_energy_df.groupby(['parameters_count', 'gpu']).energy_per_token.mean().unstack()"
   ]
  },
  {
   "cell_type": "markdown",
   "id": "314234cf",
   "metadata": {},
   "source": [
    "# Methodology v0\n",
    "\n",
    "        E(model_size, output_tokens) = A * model_size * output_tokens ; A=1.17e-4 Wh\n",
    "\n",
    "| GPU   |      A |\n",
    "|----------|:-------------:|\n",
    "| V100 |    2.15e-4 |\n",
    "| RTX 4090 | 2.15e-4 |\n",
    "| A100 |  2.49e-4 |\n",
    "| A40 | 3.26e-4 |"
   ]
  },
  {
   "cell_type": "code",
   "execution_count": 165,
   "id": "68076bb7",
   "metadata": {
    "ExecuteTime": {
     "end_time": "2024-02-28T11:12:33.990729Z",
     "start_time": "2024-02-28T11:12:33.981547Z"
    }
   },
   "outputs": [],
   "source": [
    "a_ml_energy = ml_energy_df[\"energy_per_token\"]/ml_energy_df[\"parameters_count\"]\n",
    "a_llm_perf_df_filtered = llm_perf_df_filtered[\"energy_per_token\"]/llm_perf_df_filtered[\"parameters_count\"]"
   ]
  },
  {
   "cell_type": "code",
   "execution_count": 166,
   "id": "79408f18",
   "metadata": {
    "ExecuteTime": {
     "end_time": "2024-02-28T11:12:34.274699Z",
     "start_time": "2024-02-28T11:12:34.262917Z"
    }
   },
   "outputs": [
    {
     "data": {
      "text/plain": [
       "(0.00024904050230992696, 0.00030439911218724567)"
      ]
     },
     "execution_count": 166,
     "metadata": {},
     "output_type": "execute_result"
    }
   ],
   "source": [
    "a_ml_energy.mean(), a_llm_perf_df_filtered.mean() "
   ]
  },
  {
   "cell_type": "code",
   "execution_count": 169,
   "id": "dcd8808a",
   "metadata": {
    "ExecuteTime": {
     "end_time": "2024-02-28T11:13:35.866559Z",
     "start_time": "2024-02-28T11:13:35.849779Z"
    }
   },
   "outputs": [
    {
     "data": {
      "text/plain": [
       "319"
      ]
     },
     "execution_count": 169,
     "metadata": {},
     "output_type": "execute_result"
    }
   ],
   "source": [
    "final_df = pd.concat([ml_energy_df, llm_perf_df_filtered])\n",
    "len(final_df)"
   ]
  },
  {
   "cell_type": "code",
   "execution_count": 180,
   "id": "1b3b8728",
   "metadata": {
    "ExecuteTime": {
     "end_time": "2024-02-28T11:17:52.059115Z",
     "start_time": "2024-02-28T11:17:52.045650Z"
    }
   },
   "outputs": [],
   "source": [
    "final_df.gpu = final_df.gpu.replace({\"NVIDIA A100-SXM4-80GB\":\"A100\"})\n",
    "final_df.to_csv(\"ml_energy_llmperf_filtered_2024-02-28.csv\")"
   ]
  },
  {
   "cell_type": "code",
   "execution_count": 181,
   "id": "be41ba3d",
   "metadata": {
    "ExecuteTime": {
     "end_time": "2024-02-28T11:17:53.336361Z",
     "start_time": "2024-02-28T11:17:53.324658Z"
    },
    "cell_style": "split"
   },
   "outputs": [
    {
     "data": {
      "text/html": [
       "<div>\n",
       "<style scoped>\n",
       "    .dataframe tbody tr th:only-of-type {\n",
       "        vertical-align: middle;\n",
       "    }\n",
       "\n",
       "    .dataframe tbody tr th {\n",
       "        vertical-align: top;\n",
       "    }\n",
       "\n",
       "    .dataframe thead th {\n",
       "        text-align: right;\n",
       "    }\n",
       "</style>\n",
       "<table border=\"1\" class=\"dataframe\">\n",
       "  <thead>\n",
       "    <tr style=\"text-align: right;\">\n",
       "      <th></th>\n",
       "      <th>count</th>\n",
       "    </tr>\n",
       "    <tr>\n",
       "      <th>gpu</th>\n",
       "      <th></th>\n",
       "    </tr>\n",
       "  </thead>\n",
       "  <tbody>\n",
       "    <tr>\n",
       "      <th>A100</th>\n",
       "      <td>113</td>\n",
       "    </tr>\n",
       "    <tr>\n",
       "      <th>A40</th>\n",
       "      <td>92</td>\n",
       "    </tr>\n",
       "    <tr>\n",
       "      <th>V100</th>\n",
       "      <td>84</td>\n",
       "    </tr>\n",
       "    <tr>\n",
       "      <th>NVIDIA GeForce RTX 4090</th>\n",
       "      <td>30</td>\n",
       "    </tr>\n",
       "  </tbody>\n",
       "</table>\n",
       "</div>"
      ],
      "text/plain": [
       "                         count\n",
       "gpu                           \n",
       "A100                       113\n",
       "A40                         92\n",
       "V100                        84\n",
       "NVIDIA GeForce RTX 4090     30"
      ]
     },
     "execution_count": 181,
     "metadata": {},
     "output_type": "execute_result"
    }
   ],
   "source": [
    "pd.DataFrame(final_df.gpu.value_counts())"
   ]
  },
  {
   "cell_type": "code",
   "execution_count": 182,
   "id": "6bce111c",
   "metadata": {
    "ExecuteTime": {
     "end_time": "2024-02-28T11:17:53.701058Z",
     "start_time": "2024-02-28T11:17:53.686906Z"
    },
    "cell_style": "split"
   },
   "outputs": [
    {
     "data": {
      "text/html": [
       "<div>\n",
       "<style scoped>\n",
       "    .dataframe tbody tr th:only-of-type {\n",
       "        vertical-align: middle;\n",
       "    }\n",
       "\n",
       "    .dataframe tbody tr th {\n",
       "        vertical-align: top;\n",
       "    }\n",
       "\n",
       "    .dataframe thead th {\n",
       "        text-align: right;\n",
       "    }\n",
       "</style>\n",
       "<table border=\"1\" class=\"dataframe\">\n",
       "  <thead>\n",
       "    <tr style=\"text-align: right;\">\n",
       "      <th></th>\n",
       "      <th>count</th>\n",
       "    </tr>\n",
       "    <tr>\n",
       "      <th>parameters_count</th>\n",
       "      <th></th>\n",
       "    </tr>\n",
       "  </thead>\n",
       "  <tbody>\n",
       "    <tr>\n",
       "      <th>7</th>\n",
       "      <td>188</td>\n",
       "    </tr>\n",
       "    <tr>\n",
       "      <th>13</th>\n",
       "      <td>76</td>\n",
       "    </tr>\n",
       "    <tr>\n",
       "      <th>3</th>\n",
       "      <td>29</td>\n",
       "    </tr>\n",
       "    <tr>\n",
       "      <th>12</th>\n",
       "      <td>26</td>\n",
       "    </tr>\n",
       "  </tbody>\n",
       "</table>\n",
       "</div>"
      ],
      "text/plain": [
       "                  count\n",
       "parameters_count       \n",
       "7                   188\n",
       "13                   76\n",
       "3                    29\n",
       "12                   26"
      ]
     },
     "execution_count": 182,
     "metadata": {},
     "output_type": "execute_result"
    }
   ],
   "source": [
    "pd.DataFrame(final_df.parameters_count.value_counts())"
   ]
  },
  {
   "cell_type": "code",
   "execution_count": 197,
   "id": "4cfb2286",
   "metadata": {
    "ExecuteTime": {
     "end_time": "2024-02-28T11:31:11.822147Z",
     "start_time": "2024-02-28T11:31:11.812781Z"
    }
   },
   "outputs": [],
   "source": [
    "# final_df.groupby([\"parameters_count\", \"gpu\"]).size().unstack()"
   ]
  },
  {
   "cell_type": "code",
   "execution_count": 205,
   "id": "954a1c35",
   "metadata": {
    "ExecuteTime": {
     "end_time": "2024-02-28T13:03:17.849839Z",
     "start_time": "2024-02-28T13:03:17.827858Z"
    }
   },
   "outputs": [
    {
     "data": {
      "text/html": [
       "<div>\n",
       "<style scoped>\n",
       "    .dataframe tbody tr th:only-of-type {\n",
       "        vertical-align: middle;\n",
       "    }\n",
       "\n",
       "    .dataframe tbody tr th {\n",
       "        vertical-align: top;\n",
       "    }\n",
       "\n",
       "    .dataframe thead th {\n",
       "        text-align: right;\n",
       "    }\n",
       "</style>\n",
       "<table border=\"1\" class=\"dataframe\">\n",
       "  <thead>\n",
       "    <tr style=\"text-align: right;\">\n",
       "      <th>gpu</th>\n",
       "      <th>A100</th>\n",
       "      <th>A40</th>\n",
       "      <th>NVIDIA GeForce RTX 4090</th>\n",
       "      <th>V100</th>\n",
       "    </tr>\n",
       "    <tr>\n",
       "      <th>parameters_count</th>\n",
       "      <th></th>\n",
       "      <th></th>\n",
       "      <th></th>\n",
       "      <th></th>\n",
       "    </tr>\n",
       "  </thead>\n",
       "  <tbody>\n",
       "    <tr>\n",
       "      <th>3</th>\n",
       "      <td>0.001542</td>\n",
       "      <td>0.001413</td>\n",
       "      <td>0.000719</td>\n",
       "      <td>0.000831</td>\n",
       "    </tr>\n",
       "    <tr>\n",
       "      <th>7</th>\n",
       "      <td>0.001593</td>\n",
       "      <td>0.002236</td>\n",
       "      <td>0.001451</td>\n",
       "      <td>0.001484</td>\n",
       "    </tr>\n",
       "    <tr>\n",
       "      <th>12</th>\n",
       "      <td>0.002176</td>\n",
       "      <td>0.004248</td>\n",
       "      <td>0.002455</td>\n",
       "      <td>0.002724</td>\n",
       "    </tr>\n",
       "    <tr>\n",
       "      <th>13</th>\n",
       "      <td>0.002268</td>\n",
       "      <td>0.004075</td>\n",
       "      <td>NaN</td>\n",
       "      <td>0.002702</td>\n",
       "    </tr>\n",
       "  </tbody>\n",
       "</table>\n",
       "</div>"
      ],
      "text/plain": [
       "gpu                   A100       A40  NVIDIA GeForce RTX 4090      V100\n",
       "parameters_count                                                       \n",
       "3                 0.001542  0.001413                 0.000719  0.000831\n",
       "7                 0.001593  0.002236                 0.001451  0.001484\n",
       "12                0.002176  0.004248                 0.002455  0.002724\n",
       "13                0.002268  0.004075                      NaN  0.002702"
      ]
     },
     "execution_count": 205,
     "metadata": {},
     "output_type": "execute_result"
    }
   ],
   "source": [
    "final_df.groupby([\"parameters_count\", \"gpu\"]).energy_per_token.mean().unstack()"
   ]
  },
  {
   "cell_type": "markdown",
   "id": "7d39660d",
   "metadata": {
    "ExecuteTime": {
     "end_time": "2024-02-28T11:12:35.001297Z",
     "start_time": "2024-02-28T11:12:34.986139Z"
    }
   },
   "source": [
    "- estimate A per GPU"
   ]
  },
  {
   "cell_type": "code",
   "execution_count": 202,
   "id": "e6011151",
   "metadata": {
    "ExecuteTime": {
     "end_time": "2024-02-28T11:35:26.873190Z",
     "start_time": "2024-02-28T11:35:26.854760Z"
    }
   },
   "outputs": [
    {
     "data": {
      "text/html": [
       "<div>\n",
       "<style scoped>\n",
       "    .dataframe tbody tr th:only-of-type {\n",
       "        vertical-align: middle;\n",
       "    }\n",
       "\n",
       "    .dataframe tbody tr th {\n",
       "        vertical-align: top;\n",
       "    }\n",
       "\n",
       "    .dataframe thead th {\n",
       "        text-align: right;\n",
       "    }\n",
       "</style>\n",
       "<table border=\"1\" class=\"dataframe\">\n",
       "  <thead>\n",
       "    <tr style=\"text-align: right;\">\n",
       "      <th></th>\n",
       "      <th>A</th>\n",
       "    </tr>\n",
       "    <tr>\n",
       "      <th>gpu</th>\n",
       "      <th></th>\n",
       "    </tr>\n",
       "  </thead>\n",
       "  <tbody>\n",
       "    <tr>\n",
       "      <th>A100</th>\n",
       "      <td>0.000249</td>\n",
       "    </tr>\n",
       "    <tr>\n",
       "      <th>A40</th>\n",
       "      <td>0.000327</td>\n",
       "    </tr>\n",
       "    <tr>\n",
       "      <th>NVIDIA GeForce RTX 4090</th>\n",
       "      <td>0.000215</td>\n",
       "    </tr>\n",
       "    <tr>\n",
       "      <th>V100</th>\n",
       "      <td>0.000215</td>\n",
       "    </tr>\n",
       "  </tbody>\n",
       "</table>\n",
       "</div>"
      ],
      "text/plain": [
       "                                A\n",
       "gpu                              \n",
       "A100                     0.000249\n",
       "A40                      0.000327\n",
       "NVIDIA GeForce RTX 4090  0.000215\n",
       "V100                     0.000215"
      ]
     },
     "execution_count": 202,
     "metadata": {},
     "output_type": "execute_result"
    }
   ],
   "source": [
    "final_df.loc[:, \"A\"] = final_df[\"energy_per_token\"]/final_df[\"parameters_count\"]\n",
    "a_v0 = pd.DataFrame(final_df.groupby(\"gpu\").A.mean())\n",
    "a_v0"
   ]
  },
  {
   "cell_type": "code",
   "execution_count": null,
   "id": "26101f47",
   "metadata": {},
   "outputs": [],
   "source": []
  }
 ],
 "metadata": {
  "kernelspec": {
   "display_name": "Python 3 (ipykernel)",
   "language": "python",
   "name": "python3"
  },
  "language_info": {
   "codemirror_mode": {
    "name": "ipython",
    "version": 3
   },
   "file_extension": ".py",
   "mimetype": "text/x-python",
   "name": "python",
   "nbconvert_exporter": "python",
   "pygments_lexer": "ipython3",
   "version": "3.10.12"
  },
  "toc": {
   "base_numbering": 1,
   "nav_menu": {},
   "number_sections": true,
   "sideBar": true,
   "skip_h1_title": false,
   "title_cell": "Table of Contents",
   "title_sidebar": "Contents",
   "toc_cell": false,
   "toc_position": {},
   "toc_section_display": true,
   "toc_window_display": false
  },
  "varInspector": {
   "cols": {
    "lenName": 16,
    "lenType": 16,
    "lenVar": 40
   },
   "kernels_config": {
    "python": {
     "delete_cmd_postfix": "",
     "delete_cmd_prefix": "del ",
     "library": "var_list.py",
     "varRefreshCmd": "print(var_dic_list())"
    },
    "r": {
     "delete_cmd_postfix": ") ",
     "delete_cmd_prefix": "rm(",
     "library": "var_list.r",
     "varRefreshCmd": "cat(var_dic_list()) "
    }
   },
   "types_to_exclude": [
    "module",
    "function",
    "builtin_function_or_method",
    "instance",
    "_Feature"
   ],
   "window_display": false
  }
 },
 "nbformat": 4,
 "nbformat_minor": 5
}
