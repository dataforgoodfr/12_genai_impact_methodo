{
 "cells": [
  {
   "cell_type": "code",
   "execution_count": 1,
   "id": "initial_id",
   "metadata": {
    "ExecuteTime": {
     "end_time": "2024-02-09T14:03:59.641713Z",
     "start_time": "2024-02-09T14:03:59.634844Z"
    }
   },
   "outputs": [],
   "source": [
    "import json\n",
    "import re\n",
    "from typing import Optional\n",
    "\n",
    "import pandas as pd"
   ]
  },
  {
   "cell_type": "code",
   "execution_count": 2,
   "id": "cd5bfc118d08f8a3",
   "metadata": {
    "ExecuteTime": {
     "end_time": "2024-02-09T14:15:17.670764Z",
     "start_time": "2024-02-09T14:15:17.619998Z"
    }
   },
   "outputs": [],
   "source": [
    "df = pd.concat([\n",
    "    pd.read_csv('./data/llm_perf/hf-dgx-01_perf-report.csv'),\n",
    "    pd.read_csv('./data/llm_perf/audace_perf-report.csv')\n",
    "])"
   ]
  },
  {
   "cell_type": "code",
   "execution_count": 3,
   "id": "b906eefa3694df9",
   "metadata": {
    "ExecuteTime": {
     "end_time": "2024-02-09T14:15:20.223968Z",
     "start_time": "2024-02-09T14:15:20.217783Z"
    }
   },
   "outputs": [],
   "source": [
    "df['gpu'] = df['environment.gpus'].apply(lambda x: json.loads(x.replace('\\'', '\"'))[0])"
   ]
  },
  {
   "cell_type": "code",
   "execution_count": 4,
   "id": "9dbfdacc6f770498",
   "metadata": {
    "ExecuteTime": {
     "end_time": "2024-02-09T14:15:20.574738Z",
     "start_time": "2024-02-09T14:15:20.566107Z"
    }
   },
   "outputs": [],
   "source": [
    "def parse_model_parameters_count(model_name: str) -> Optional[tuple[float, str]]:\n",
    "    match = re.search(r'([0-9.]+)(b|m)', model_name, re.IGNORECASE)\n",
    "    if match is not None:\n",
    "        count, unit = float(match[1]), match[2].lower()\n",
    "        if unit == 'm':\n",
    "            count /= 1000\n",
    "        return count"
   ]
  },
  {
   "cell_type": "markdown",
   "id": "3235231c568050b3",
   "metadata": {},
   "source": []
  },
  {
   "cell_type": "code",
   "execution_count": 5,
   "id": "8780aa0e",
   "metadata": {
    "scrolled": false
   },
   "outputs": [
    {
     "name": "stdout",
     "output_type": "stream",
     "text": [
      "<class 'pandas.core.frame.DataFrame'>\n",
      "Index: 1944 entries, 0 to 175\n",
      "Columns: 102 entries, forward.latency(s) to gpu\n",
      "dtypes: bool(19), float64(27), int64(25), object(31)\n",
      "memory usage: 1.3+ MB\n"
     ]
    }
   ],
   "source": [
    "df.info()"
   ]
  },
  {
   "cell_type": "code",
   "execution_count": 6,
   "id": "4906f39ce29d0c0",
   "metadata": {
    "ExecuteTime": {
     "end_time": "2024-02-09T14:15:21.561763Z",
     "start_time": "2024-02-09T14:15:21.554652Z"
    }
   },
   "outputs": [],
   "source": [
    "df['parameters_count'] = df['model'].apply(parse_model_parameters_count)"
   ]
  },
  {
   "cell_type": "code",
   "execution_count": 7,
   "id": "18e6a57947e0e0bd",
   "metadata": {
    "ExecuteTime": {
     "end_time": "2024-02-09T14:15:21.926720Z",
     "start_time": "2024-02-09T14:15:21.923706Z"
    }
   },
   "outputs": [],
   "source": [
    "df['energy_per_token'] = df['generate.energy_consumption(kWh/token)'] * 1000"
   ]
  },
  {
   "cell_type": "code",
   "execution_count": 8,
   "id": "4c583942",
   "metadata": {},
   "outputs": [],
   "source": [
    "df.rename(columns={'generate.throughput(tokens/s)':'throughput', 'generate.latency(s)':'latency'}, inplace=True)"
   ]
  },
  {
   "cell_type": "code",
   "execution_count": 9,
   "id": "57914452fbc57eb0",
   "metadata": {
    "ExecuteTime": {
     "end_time": "2024-02-09T14:15:22.287949Z",
     "start_time": "2024-02-09T14:15:22.283656Z"
    }
   },
   "outputs": [],
   "source": [
    "sub = df[[\n",
    "    'model',\n",
    "    'parameters_count',\n",
    "    'gpu',\n",
    "    'energy_per_token',\n",
    "    'throughput',\n",
    "    'latency',\n",
    "    'experiment_name'\n",
    "]].dropna()\n",
    "\n"
   ]
  },
  {
   "cell_type": "code",
   "execution_count": 10,
   "id": "8f61105d3df97aed",
   "metadata": {
    "ExecuteTime": {
     "end_time": "2024-02-09T14:15:22.936440Z",
     "start_time": "2024-02-09T14:15:22.927960Z"
    }
   },
   "outputs": [
    {
     "data": {
      "text/plain": [
       "1692"
      ]
     },
     "execution_count": 10,
     "metadata": {},
     "output_type": "execute_result"
    }
   ],
   "source": [
    "len(sub)"
   ]
  },
  {
   "cell_type": "code",
   "execution_count": 11,
   "id": "426fd0a48aacd01c",
   "metadata": {
    "ExecuteTime": {
     "end_time": "2024-02-09T14:18:25.281311Z",
     "start_time": "2024-02-09T14:18:25.266141Z"
    }
   },
   "outputs": [],
   "source": [
    "sub.to_csv('./data/aggregated_llm_perf.csv', index=False)"
   ]
  },
  {
   "cell_type": "code",
   "execution_count": null,
   "id": "ba9dcdbb512c96d0",
   "metadata": {},
   "outputs": [],
   "source": []
  }
 ],
 "metadata": {
  "kernelspec": {
   "display_name": "Python 3 (ipykernel)",
   "language": "python",
   "name": "python3"
  },
  "language_info": {
   "codemirror_mode": {
    "name": "ipython",
    "version": 3
   },
   "file_extension": ".py",
   "mimetype": "text/x-python",
   "name": "python",
   "nbconvert_exporter": "python",
   "pygments_lexer": "ipython3",
   "version": "3.11.5"
  }
 },
 "nbformat": 4,
 "nbformat_minor": 5
}
