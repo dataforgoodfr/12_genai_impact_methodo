{
 "cells": [
  {
   "cell_type": "code",
   "execution_count": 35,
   "id": "initial_id",
   "metadata": {
    "collapsed": true,
    "ExecuteTime": {
     "end_time": "2024-02-09T14:03:59.641713Z",
     "start_time": "2024-02-09T14:03:59.634844Z"
    }
   },
   "outputs": [],
   "source": [
    "import json\n",
    "import re\n",
    "from typing import Optional\n",
    "\n",
    "import pandas as pd"
   ]
  },
  {
   "cell_type": "code",
   "outputs": [],
   "source": [
    "df = pd.concat([\n",
    "    pd.read_csv('./data/llm_perf/hf-dgx-01_perf-report.csv'),\n",
    "    pd.read_csv('./data/llm_perf/audace_perf-report.csv')\n",
    "])"
   ],
   "metadata": {
    "collapsed": false,
    "ExecuteTime": {
     "end_time": "2024-02-09T14:15:17.670764Z",
     "start_time": "2024-02-09T14:15:17.619998Z"
    }
   },
   "id": "cd5bfc118d08f8a3",
   "execution_count": 52
  },
  {
   "cell_type": "code",
   "outputs": [],
   "source": [],
   "metadata": {
    "collapsed": false,
    "ExecuteTime": {
     "end_time": "2024-02-09T14:15:19.871906Z",
     "start_time": "2024-02-09T14:15:19.864010Z"
    }
   },
   "id": "618a622a963318fa",
   "execution_count": 52
  },
  {
   "cell_type": "code",
   "outputs": [],
   "source": [
    "df['gpu'] = df['environment.gpus'].apply(lambda x: json.loads(x.replace('\\'', '\"'))[0])"
   ],
   "metadata": {
    "collapsed": false,
    "ExecuteTime": {
     "end_time": "2024-02-09T14:15:20.223968Z",
     "start_time": "2024-02-09T14:15:20.217783Z"
    }
   },
   "id": "b906eefa3694df9",
   "execution_count": 53
  },
  {
   "cell_type": "code",
   "outputs": [],
   "source": [
    "def parse_model_parameters_count(model_name: str) -> Optional[tuple[float, str]]:\n",
    "    match = re.search(r'([0-9.]+)(b|m)', model_name, re.IGNORECASE)\n",
    "    if match is not None:\n",
    "        count, unit = float(match[1]), match[2].lower()\n",
    "        if unit == 'm':\n",
    "            count /= 1000\n",
    "        return count"
   ],
   "metadata": {
    "collapsed": false,
    "ExecuteTime": {
     "end_time": "2024-02-09T14:15:20.574738Z",
     "start_time": "2024-02-09T14:15:20.566107Z"
    }
   },
   "id": "9dbfdacc6f770498",
   "execution_count": 54
  },
  {
   "cell_type": "markdown",
   "source": [],
   "metadata": {
    "collapsed": false
   },
   "id": "3235231c568050b3"
  },
  {
   "cell_type": "code",
   "outputs": [],
   "source": [
    "df['parameters_count'] = df['model'].apply(parse_model_parameters_count)"
   ],
   "metadata": {
    "collapsed": false,
    "ExecuteTime": {
     "end_time": "2024-02-09T14:15:21.561763Z",
     "start_time": "2024-02-09T14:15:21.554652Z"
    }
   },
   "id": "4906f39ce29d0c0",
   "execution_count": 55
  },
  {
   "cell_type": "code",
   "outputs": [],
   "source": [
    "df['energy_per_token'] = df['generate.energy_consumption(kWh/token)'] * 1000"
   ],
   "metadata": {
    "collapsed": false,
    "ExecuteTime": {
     "end_time": "2024-02-09T14:15:21.926720Z",
     "start_time": "2024-02-09T14:15:21.923706Z"
    }
   },
   "id": "18e6a57947e0e0bd",
   "execution_count": 56
  },
  {
   "cell_type": "code",
   "outputs": [],
   "source": [
    "sub = df[[\n",
    "    'model',\n",
    "    'parameters_count',\n",
    "    'gpu',\n",
    "    'energy_per_token'\n",
    "]].dropna()\n",
    "\n"
   ],
   "metadata": {
    "collapsed": false,
    "ExecuteTime": {
     "end_time": "2024-02-09T14:15:22.287949Z",
     "start_time": "2024-02-09T14:15:22.283656Z"
    }
   },
   "id": "57914452fbc57eb0",
   "execution_count": 57
  },
  {
   "cell_type": "code",
   "outputs": [
    {
     "data": {
      "text/plain": "1692"
     },
     "execution_count": 58,
     "metadata": {},
     "output_type": "execute_result"
    }
   ],
   "source": [
    "len(sub)"
   ],
   "metadata": {
    "collapsed": false,
    "ExecuteTime": {
     "end_time": "2024-02-09T14:15:22.936440Z",
     "start_time": "2024-02-09T14:15:22.927960Z"
    }
   },
   "id": "8f61105d3df97aed",
   "execution_count": 58
  },
  {
   "cell_type": "code",
   "outputs": [],
   "source": [
    "sub.to_csv('./data/aggregated_llm_perf.csv', index=False)"
   ],
   "metadata": {
    "collapsed": false,
    "ExecuteTime": {
     "end_time": "2024-02-09T14:18:25.281311Z",
     "start_time": "2024-02-09T14:18:25.266141Z"
    }
   },
   "id": "426fd0a48aacd01c",
   "execution_count": 60
  },
  {
   "cell_type": "code",
   "outputs": [],
   "source": [],
   "metadata": {
    "collapsed": false
   },
   "id": "ba9dcdbb512c96d0"
  }
 ],
 "metadata": {
  "kernelspec": {
   "display_name": "Python 3",
   "language": "python",
   "name": "python3"
  },
  "language_info": {
   "codemirror_mode": {
    "name": "ipython",
    "version": 2
   },
   "file_extension": ".py",
   "mimetype": "text/x-python",
   "name": "python",
   "nbconvert_exporter": "python",
   "pygments_lexer": "ipython2",
   "version": "2.7.6"
  }
 },
 "nbformat": 4,
 "nbformat_minor": 5
}
