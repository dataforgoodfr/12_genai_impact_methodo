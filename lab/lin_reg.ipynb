{
 "cells": [
  {
   "cell_type": "code",
   "id": "dff34b00",
   "metadata": {
    "ExecuteTime": {
     "end_time": "2024-06-18T14:47:40.704460Z",
     "start_time": "2024-06-18T14:47:38.302540Z"
    }
   },
   "source": [
    "import numpy as np\n",
    "import pandas as pd\n",
    "\n",
    "import plotly.graph_objects as go\n",
    "\n",
    "from sklearn.linear_model import LinearRegression\n",
    "from sklearn.preprocessing import PolynomialFeatures"
   ],
   "outputs": [
    {
     "name": "stderr",
     "output_type": "stream",
     "text": [
      "/var/folders/xg/5ns375k927gfzbg4c143d4zr0000gn/T/ipykernel_89921/1402149193.py:2: DeprecationWarning: \n",
      "Pyarrow will become a required dependency of pandas in the next major release of pandas (pandas 3.0),\n",
      "(to allow more performant data types, such as the Arrow string type, and better interoperability with other libraries)\n",
      "but was not found to be installed on your system.\n",
      "If this would cause problems for you,\n",
      "please provide us feedback at https://github.com/pandas-dev/pandas/issues/54466\n",
      "        \n",
      "  import pandas as pd\n"
     ]
    }
   ],
   "execution_count": 1
  },
  {
   "cell_type": "code",
   "id": "1a74d1b3",
   "metadata": {
    "ExecuteTime": {
     "end_time": "2024-06-18T14:47:40.748257Z",
     "start_time": "2024-06-18T14:47:40.710846Z"
    }
   },
   "source": [
    "llm_perf_filtered_df = pd.read_csv('./data/llm_perf_filtered.csv', index_col=0).reset_index(drop=True)"
   ],
   "outputs": [],
   "execution_count": 2
  },
  {
   "cell_type": "code",
   "id": "f34c3ee6",
   "metadata": {
    "ExecuteTime": {
     "end_time": "2024-06-18T14:47:40.801080Z",
     "start_time": "2024-06-18T14:47:40.751287Z"
    }
   },
   "source": [
    "llm_perf_filtered_df.head()"
   ],
   "outputs": [
    {
     "data": {
      "text/plain": [
       "                           model  throughput  response_length  latency  \\\n",
       "0        EleutherAI/gpt-neox-20b        27.4              256     9.34   \n",
       "1          EleutherAI/pythia-12b        36.6              256     6.99   \n",
       "2  EleutherAI/pythia-12b-deduped        36.6              256     7.00   \n",
       "3   EleutherAI/polyglot-ko-12.8b        33.4              256     7.67   \n",
       "4        DevaMalla/llama-base-7b        39.1              256     6.54   \n",
       "\n",
       "     energy                    gpu  task  parameters_count  energy_per_token  \\\n",
       "0  3013.632  NVIDIA A100-SXM4-80GB  chat              20.0           0.00327   \n",
       "1  2101.248  NVIDIA A100-SXM4-80GB  chat              12.0           0.00228   \n",
       "2  2082.816  NVIDIA A100-SXM4-80GB  chat              12.0           0.00226   \n",
       "3  2313.216  NVIDIA A100-SXM4-80GB  chat              12.8           0.00251   \n",
       "4  1815.552  NVIDIA A100-SXM4-80GB  chat               7.0           0.00197   \n",
       "\n",
       "     dtype  optimization          quantization  cuda-fp16  \n",
       "0  float16           NaN  gptq-4bit+exllama-v1      False  \n",
       "1  float16           NaN  gptq-4bit+exllama-v1      False  \n",
       "2  float16           NaN  gptq-4bit+exllama-v1      False  \n",
       "3  float16           NaN  gptq-4bit+exllama-v1      False  \n",
       "4  float16           NaN  gptq-4bit+exllama-v1      False  "
      ],
      "text/html": [
       "<div>\n",
       "<style scoped>\n",
       "    .dataframe tbody tr th:only-of-type {\n",
       "        vertical-align: middle;\n",
       "    }\n",
       "\n",
       "    .dataframe tbody tr th {\n",
       "        vertical-align: top;\n",
       "    }\n",
       "\n",
       "    .dataframe thead th {\n",
       "        text-align: right;\n",
       "    }\n",
       "</style>\n",
       "<table border=\"1\" class=\"dataframe\">\n",
       "  <thead>\n",
       "    <tr style=\"text-align: right;\">\n",
       "      <th></th>\n",
       "      <th>model</th>\n",
       "      <th>throughput</th>\n",
       "      <th>response_length</th>\n",
       "      <th>latency</th>\n",
       "      <th>energy</th>\n",
       "      <th>gpu</th>\n",
       "      <th>task</th>\n",
       "      <th>parameters_count</th>\n",
       "      <th>energy_per_token</th>\n",
       "      <th>dtype</th>\n",
       "      <th>optimization</th>\n",
       "      <th>quantization</th>\n",
       "      <th>cuda-fp16</th>\n",
       "    </tr>\n",
       "  </thead>\n",
       "  <tbody>\n",
       "    <tr>\n",
       "      <th>0</th>\n",
       "      <td>EleutherAI/gpt-neox-20b</td>\n",
       "      <td>27.4</td>\n",
       "      <td>256</td>\n",
       "      <td>9.34</td>\n",
       "      <td>3013.632</td>\n",
       "      <td>NVIDIA A100-SXM4-80GB</td>\n",
       "      <td>chat</td>\n",
       "      <td>20.0</td>\n",
       "      <td>0.00327</td>\n",
       "      <td>float16</td>\n",
       "      <td>NaN</td>\n",
       "      <td>gptq-4bit+exllama-v1</td>\n",
       "      <td>False</td>\n",
       "    </tr>\n",
       "    <tr>\n",
       "      <th>1</th>\n",
       "      <td>EleutherAI/pythia-12b</td>\n",
       "      <td>36.6</td>\n",
       "      <td>256</td>\n",
       "      <td>6.99</td>\n",
       "      <td>2101.248</td>\n",
       "      <td>NVIDIA A100-SXM4-80GB</td>\n",
       "      <td>chat</td>\n",
       "      <td>12.0</td>\n",
       "      <td>0.00228</td>\n",
       "      <td>float16</td>\n",
       "      <td>NaN</td>\n",
       "      <td>gptq-4bit+exllama-v1</td>\n",
       "      <td>False</td>\n",
       "    </tr>\n",
       "    <tr>\n",
       "      <th>2</th>\n",
       "      <td>EleutherAI/pythia-12b-deduped</td>\n",
       "      <td>36.6</td>\n",
       "      <td>256</td>\n",
       "      <td>7.00</td>\n",
       "      <td>2082.816</td>\n",
       "      <td>NVIDIA A100-SXM4-80GB</td>\n",
       "      <td>chat</td>\n",
       "      <td>12.0</td>\n",
       "      <td>0.00226</td>\n",
       "      <td>float16</td>\n",
       "      <td>NaN</td>\n",
       "      <td>gptq-4bit+exllama-v1</td>\n",
       "      <td>False</td>\n",
       "    </tr>\n",
       "    <tr>\n",
       "      <th>3</th>\n",
       "      <td>EleutherAI/polyglot-ko-12.8b</td>\n",
       "      <td>33.4</td>\n",
       "      <td>256</td>\n",
       "      <td>7.67</td>\n",
       "      <td>2313.216</td>\n",
       "      <td>NVIDIA A100-SXM4-80GB</td>\n",
       "      <td>chat</td>\n",
       "      <td>12.8</td>\n",
       "      <td>0.00251</td>\n",
       "      <td>float16</td>\n",
       "      <td>NaN</td>\n",
       "      <td>gptq-4bit+exllama-v1</td>\n",
       "      <td>False</td>\n",
       "    </tr>\n",
       "    <tr>\n",
       "      <th>4</th>\n",
       "      <td>DevaMalla/llama-base-7b</td>\n",
       "      <td>39.1</td>\n",
       "      <td>256</td>\n",
       "      <td>6.54</td>\n",
       "      <td>1815.552</td>\n",
       "      <td>NVIDIA A100-SXM4-80GB</td>\n",
       "      <td>chat</td>\n",
       "      <td>7.0</td>\n",
       "      <td>0.00197</td>\n",
       "      <td>float16</td>\n",
       "      <td>NaN</td>\n",
       "      <td>gptq-4bit+exllama-v1</td>\n",
       "      <td>False</td>\n",
       "    </tr>\n",
       "  </tbody>\n",
       "</table>\n",
       "</div>"
      ]
     },
     "execution_count": 3,
     "metadata": {},
     "output_type": "execute_result"
    }
   ],
   "execution_count": 3
  },
  {
   "cell_type": "code",
   "id": "74cec939",
   "metadata": {
    "ExecuteTime": {
     "end_time": "2024-06-18T14:47:40.852535Z",
     "start_time": "2024-06-18T14:47:40.803676Z"
    }
   },
   "source": [
    "x_range = np.array([\n",
    "    llm_perf_filtered_df['parameters_count'].min(),\n",
    "    llm_perf_filtered_df['parameters_count'].max()\n",
    "]).reshape(-1, 1)\n",
    "\n",
    "x = llm_perf_filtered_df['parameters_count']\n",
    "y = llm_perf_filtered_df['energy_per_token']\n",
    "\n",
    "poly = PolynomialFeatures(degree=1)\n",
    "X = np.array(x).reshape(-1, 1)\n",
    "poly.fit(X)\n",
    "X_poly = poly.transform(X)\n",
    "x_range_poly = poly.transform(x_range)\n",
    "model = LinearRegression(fit_intercept=True)\n",
    "model.fit(X_poly, y)\n",
    "y_range_poly = model.predict(x_range_poly)\n",
    "\n",
    "print(f'Coef and intercept for A100: {model.coef_[1]}, {model.intercept_}')"
   ],
   "outputs": [
    {
     "name": "stdout",
     "output_type": "stream",
     "text": [
      "Coef and intercept for A100: 8.910917097396765e-05, 0.0014387038181038398\n"
     ]
    }
   ],
   "execution_count": 4
  },
  {
   "metadata": {
    "ExecuteTime": {
     "end_time": "2024-06-18T14:53:02.816558Z",
     "start_time": "2024-06-18T14:53:02.788401Z"
    }
   },
   "cell_type": "code",
   "source": [
    "fig = go.Figure()\n",
    "\n",
    "fig.add_trace(go.Scatter(\n",
    "    x=x,\n",
    "    y=y,\n",
    "    mode='markers',\n",
    "    name=f'Models',\n",
    "    marker=dict(color='#0b3b36', opacity=0.5)\n",
    "))\n",
    "\n",
    "fig.add_trace(go.Scatter(\n",
    "    x=x_range.squeeze(),\n",
    "    y=y_range_poly,\n",
    "    mode='lines',\n",
    "    name=f'Linear Regression',\n",
    "    line=dict(color='#00bf63', width=3)\n",
    "))\n",
    "\n",
    "fig.update_layout(\n",
    "    title='Energy/token per model parameters count<br><span style=\"font-size: 12px\">Data from LLM-Perf Leaderboard</span>',\n",
    "    xaxis=dict(title='#B Parameters'),\n",
    "    yaxis=dict(title='Energy/token [Wh]', range=[0, 0.01]),\n",
    "    template='plotly',\n",
    "    plot_bgcolor='#edf4f3',\n",
    "    width=800, height=600,\n",
    "    images=[\n",
    "        dict(\n",
    "            source=\"https://ecologits.ai/assets/logo_light.png\",\n",
    "            xref=\"paper\", yref=\"paper\",\n",
    "            x=1, y=1,\n",
    "            sizex=0.28, sizey=0.15,\n",
    "            xanchor=\"right\", yanchor=\"bottom\"\n",
    "        )\n",
    "    ]\n",
    ")\n",
    "\n",
    "fig.show()"
   ],
   "id": "a32216f7fe1c880a",
   "outputs": [
    {
     "data": {
      "application/vnd.plotly.v1+json": {
       "data": [
        {
         "marker": {
          "color": "#0b3b36",
          "opacity": 0.5
         },
         "mode": "markers",
         "name": "Models",
         "x": [
          20.0,
          12.0,
          12.0,
          12.8,
          7.0,
          7.67,
          7.0,
          13.0,
          70.0,
          7.0,
          10.0,
          7.0,
          40.0,
          20.0,
          7.0,
          34.0,
          34.0,
          7.0,
          13.0,
          16.0,
          20.0,
          7.0,
          67.0,
          7.0,
          7.0,
          13.0,
          7.0,
          7.0,
          40.0,
          7.5,
          34.0,
          26.0,
          7.0,
          10.7,
          13.0,
          7.24,
          7.0,
          7.0,
          65.0,
          13.0,
          22.0,
          7.0,
          7.0,
          13.0,
          7.0,
          13.0,
          7.0,
          7.0,
          7.0,
          22.0,
          20.0,
          11.0,
          10.7,
          7.0,
          65.0,
          30.0,
          13.0,
          7.0,
          7.0,
          13.0,
          20.0,
          12.0,
          12.0,
          12.8,
          7.0,
          7.0,
          7.67,
          8.0,
          7.0,
          13.0,
          70.0,
          7.0,
          10.0,
          7.0,
          40.0,
          20.0,
          7.0,
          34.0,
          34.0,
          7.0,
          13.0,
          30.0,
          7.0,
          16.0,
          20.0,
          7.0,
          8.0,
          7.0,
          7.0,
          13.0,
          7.0,
          7.0,
          40.0,
          7.5,
          34.0,
          26.0,
          7.0,
          10.7,
          13.0,
          7.24,
          7.0,
          7.0,
          7.0,
          13.0,
          22.0,
          7.0,
          7.0,
          13.0,
          7.0,
          13.0,
          7.0,
          7.0,
          7.0,
          22.0,
          20.0,
          11.0,
          10.7,
          7.0,
          30.0,
          13.0,
          7.0,
          7.0,
          13.0,
          34.0,
          7.0,
          7.0,
          13.0,
          10.0,
          7.0,
          7.0,
          13.0,
          7.0,
          7.0,
          7.0,
          13.0,
          7.0,
          7.0,
          7.0,
          13.0,
          13.0,
          7.0,
          7.0,
          7.0,
          7.0,
          13.0,
          7.0,
          7.0,
          20.0,
          12.0,
          12.0,
          12.8,
          7.0,
          7.67,
          7.0,
          13.0,
          70.0,
          7.0,
          10.0,
          7.0,
          7.0,
          34.0,
          34.0,
          7.0,
          13.0,
          16.0,
          7.0,
          67.0,
          8.0,
          7.0,
          7.0,
          7.0,
          7.0,
          7.5,
          34.0,
          26.0,
          7.0,
          10.7,
          13.0,
          7.24,
          7.0,
          7.0,
          65.0,
          13.0,
          22.0,
          7.0,
          7.0,
          13.0,
          7.0,
          13.0,
          7.0,
          7.0,
          7.0,
          22.0,
          11.0,
          10.7,
          7.0,
          65.0,
          30.0,
          13.0,
          7.0,
          7.0,
          13.0,
          20.0,
          12.0,
          12.0,
          12.8,
          7.0,
          7.0,
          7.67,
          8.0,
          7.0,
          13.0,
          70.0,
          7.0,
          10.0,
          7.0,
          40.0,
          20.0,
          7.0,
          34.0,
          34.0,
          13.0,
          30.0,
          7.0,
          16.0,
          20.0,
          7.0,
          67.0,
          8.0,
          7.0,
          7.0,
          13.0,
          7.0,
          7.0,
          40.0,
          7.5,
          34.0,
          26.0,
          7.0,
          10.7,
          13.0,
          7.24,
          7.0,
          7.0,
          7.0,
          65.0,
          13.0,
          22.0,
          7.0,
          7.0,
          13.0,
          7.0,
          13.0,
          7.0,
          7.0,
          7.0,
          22.0,
          20.0,
          11.0,
          10.7,
          7.0,
          65.0,
          30.0,
          13.0,
          7.0,
          7.0,
          13.0,
          34.0
         ],
         "y": [
          0.00327,
          0.00228,
          0.00226,
          0.00251,
          0.00197,
          0.00187,
          0.0019,
          0.00266,
          0.00812,
          0.00234,
          0.00217,
          0.00231,
          0.00452,
          0.00273,
          0.00191,
          0.00503,
          0.00505,
          0.00231,
          0.00263,
          0.00318,
          0.00273,
          0.0019,
          0.0085,
          0.0019199999999999,
          0.00203,
          0.00203,
          0.0019,
          0.00195,
          0.00617,
          0.0015799999999999,
          0.00502,
          0.00528,
          0.0015,
          0.00314,
          0.00218,
          0.0023,
          0.00227,
          0.00114,
          0.00776,
          0.0027199999999999,
          0.00307,
          0.00195,
          0.00191,
          0.00265,
          0.00195,
          0.00265,
          0.00195,
          0.00181,
          0.0018,
          0.0030199999999999,
          0.00477,
          0.00358,
          0.00315,
          0.00191,
          0.00773,
          0.00463,
          0.00264,
          0.00188,
          0.0019,
          0.00262,
          0.00325,
          0.00226,
          0.00231,
          0.00257,
          0.00177,
          0.0019,
          0.00194,
          0.00226,
          0.0018599999999999,
          0.00248,
          0.00714,
          0.00217,
          0.00227,
          0.00218,
          0.00575,
          0.00331,
          0.00184,
          0.00471,
          0.00465,
          0.00218,
          0.00249,
          0.0028899999999999,
          0.00131,
          0.00312,
          0.00324,
          0.00191,
          0.00131,
          0.00191,
          0.00195,
          0.00239,
          0.00185,
          0.00182,
          0.00524,
          0.00162,
          0.00471,
          0.00502,
          0.00154,
          0.00296,
          0.00219,
          0.00219,
          0.00215,
          0.0011799999999999,
          0.00181,
          0.00249,
          0.00294,
          0.00179,
          0.00184,
          0.00252,
          0.0018599999999999,
          0.00249,
          0.00184,
          0.00198,
          0.0019,
          0.0028799999999999,
          0.0045499999999999,
          0.0033799999999999,
          0.00296,
          0.0018599999999999,
          0.00434,
          0.00248,
          0.00183,
          0.00184,
          0.00248,
          0.00406,
          0.00257,
          0.00264,
          0.00344,
          0.00274,
          0.00314,
          0.00258,
          0.00354,
          0.00264,
          0.0026,
          0.00274,
          0.00257,
          0.00262,
          0.00258,
          0.00257,
          0.00349,
          0.0035,
          0.00258,
          0.00227,
          0.00225,
          0.00263,
          0.00348,
          0.00259,
          0.0025399999999999,
          0.00282,
          0.00195,
          0.00196,
          0.00216,
          0.00177,
          0.00176,
          0.00173,
          0.0023,
          0.0061,
          0.00212,
          0.0020099999999999,
          0.00216,
          0.00176,
          0.00412,
          0.00418,
          0.00215,
          0.00232,
          0.00275,
          0.00175,
          0.00681,
          0.0012699999999999,
          0.0018,
          0.00185,
          0.00174,
          0.00178,
          0.00141,
          0.00414,
          0.00456,
          0.0013599999999999,
          0.00293,
          0.00188,
          0.00215,
          0.0021,
          9.84E-4,
          0.00552,
          0.0023,
          0.00255,
          0.00179,
          0.00179,
          0.00232,
          0.00179,
          0.00229,
          0.00178,
          0.00166,
          0.00166,
          0.00251,
          0.00334,
          0.0029,
          0.00177,
          0.0055899999999999,
          0.00385,
          0.0023599999999999,
          0.00175,
          0.00174,
          0.00232,
          0.00349,
          0.00241,
          0.00239,
          0.0027199999999999,
          0.00196,
          0.00212,
          0.00203,
          0.00248,
          0.00199,
          0.0027099999999999,
          0.0072699999999999,
          0.00232,
          0.00235,
          0.00238,
          0.0057799999999999,
          0.00333,
          0.00202,
          0.0048899999999999,
          0.00498,
          0.00274,
          0.00304,
          0.00143,
          0.00319,
          0.00328,
          0.0021,
          0.00813,
          0.00146,
          0.00204,
          0.00216,
          0.00238,
          0.0021,
          0.0020099999999999,
          0.00539,
          0.00181,
          0.0049,
          0.00545,
          0.00166,
          0.00326,
          0.00233,
          0.00234,
          0.00237,
          0.00119,
          0.00193,
          0.00688,
          0.0027,
          0.00306,
          0.00203,
          0.002,
          0.00275,
          0.00202,
          0.0027199999999999,
          0.00203,
          0.002,
          0.00196,
          0.00309,
          0.0048899999999999,
          0.00367,
          0.0031599999999999,
          0.00206,
          0.00683,
          0.00462,
          0.00275,
          0.00199,
          0.00203,
          0.00273,
          0.0041899999999999
         ],
         "type": "scatter"
        },
        {
         "line": {
          "color": "#00bf63",
          "width": 3
         },
         "mode": "lines",
         "name": "Linear Regression",
         "x": [
          7.0,
          70.0
         ],
         "y": [
          0.0020624680149216135,
          0.007676345786281576
         ],
         "type": "scatter"
        }
       ],
       "layout": {
        "template": {
         "data": {
          "barpolar": [
           {
            "marker": {
             "line": {
              "color": "#E5ECF6",
              "width": 0.5
             },
             "pattern": {
              "fillmode": "overlay",
              "size": 10,
              "solidity": 0.2
             }
            },
            "type": "barpolar"
           }
          ],
          "bar": [
           {
            "error_x": {
             "color": "#2a3f5f"
            },
            "error_y": {
             "color": "#2a3f5f"
            },
            "marker": {
             "line": {
              "color": "#E5ECF6",
              "width": 0.5
             },
             "pattern": {
              "fillmode": "overlay",
              "size": 10,
              "solidity": 0.2
             }
            },
            "type": "bar"
           }
          ],
          "carpet": [
           {
            "aaxis": {
             "endlinecolor": "#2a3f5f",
             "gridcolor": "white",
             "linecolor": "white",
             "minorgridcolor": "white",
             "startlinecolor": "#2a3f5f"
            },
            "baxis": {
             "endlinecolor": "#2a3f5f",
             "gridcolor": "white",
             "linecolor": "white",
             "minorgridcolor": "white",
             "startlinecolor": "#2a3f5f"
            },
            "type": "carpet"
           }
          ],
          "choropleth": [
           {
            "colorbar": {
             "outlinewidth": 0,
             "ticks": ""
            },
            "type": "choropleth"
           }
          ],
          "contourcarpet": [
           {
            "colorbar": {
             "outlinewidth": 0,
             "ticks": ""
            },
            "type": "contourcarpet"
           }
          ],
          "contour": [
           {
            "colorbar": {
             "outlinewidth": 0,
             "ticks": ""
            },
            "colorscale": [
             [
              0.0,
              "#0d0887"
             ],
             [
              0.1111111111111111,
              "#46039f"
             ],
             [
              0.2222222222222222,
              "#7201a8"
             ],
             [
              0.3333333333333333,
              "#9c179e"
             ],
             [
              0.4444444444444444,
              "#bd3786"
             ],
             [
              0.5555555555555556,
              "#d8576b"
             ],
             [
              0.6666666666666666,
              "#ed7953"
             ],
             [
              0.7777777777777778,
              "#fb9f3a"
             ],
             [
              0.8888888888888888,
              "#fdca26"
             ],
             [
              1.0,
              "#f0f921"
             ]
            ],
            "type": "contour"
           }
          ],
          "heatmapgl": [
           {
            "colorbar": {
             "outlinewidth": 0,
             "ticks": ""
            },
            "colorscale": [
             [
              0.0,
              "#0d0887"
             ],
             [
              0.1111111111111111,
              "#46039f"
             ],
             [
              0.2222222222222222,
              "#7201a8"
             ],
             [
              0.3333333333333333,
              "#9c179e"
             ],
             [
              0.4444444444444444,
              "#bd3786"
             ],
             [
              0.5555555555555556,
              "#d8576b"
             ],
             [
              0.6666666666666666,
              "#ed7953"
             ],
             [
              0.7777777777777778,
              "#fb9f3a"
             ],
             [
              0.8888888888888888,
              "#fdca26"
             ],
             [
              1.0,
              "#f0f921"
             ]
            ],
            "type": "heatmapgl"
           }
          ],
          "heatmap": [
           {
            "colorbar": {
             "outlinewidth": 0,
             "ticks": ""
            },
            "colorscale": [
             [
              0.0,
              "#0d0887"
             ],
             [
              0.1111111111111111,
              "#46039f"
             ],
             [
              0.2222222222222222,
              "#7201a8"
             ],
             [
              0.3333333333333333,
              "#9c179e"
             ],
             [
              0.4444444444444444,
              "#bd3786"
             ],
             [
              0.5555555555555556,
              "#d8576b"
             ],
             [
              0.6666666666666666,
              "#ed7953"
             ],
             [
              0.7777777777777778,
              "#fb9f3a"
             ],
             [
              0.8888888888888888,
              "#fdca26"
             ],
             [
              1.0,
              "#f0f921"
             ]
            ],
            "type": "heatmap"
           }
          ],
          "histogram2dcontour": [
           {
            "colorbar": {
             "outlinewidth": 0,
             "ticks": ""
            },
            "colorscale": [
             [
              0.0,
              "#0d0887"
             ],
             [
              0.1111111111111111,
              "#46039f"
             ],
             [
              0.2222222222222222,
              "#7201a8"
             ],
             [
              0.3333333333333333,
              "#9c179e"
             ],
             [
              0.4444444444444444,
              "#bd3786"
             ],
             [
              0.5555555555555556,
              "#d8576b"
             ],
             [
              0.6666666666666666,
              "#ed7953"
             ],
             [
              0.7777777777777778,
              "#fb9f3a"
             ],
             [
              0.8888888888888888,
              "#fdca26"
             ],
             [
              1.0,
              "#f0f921"
             ]
            ],
            "type": "histogram2dcontour"
           }
          ],
          "histogram2d": [
           {
            "colorbar": {
             "outlinewidth": 0,
             "ticks": ""
            },
            "colorscale": [
             [
              0.0,
              "#0d0887"
             ],
             [
              0.1111111111111111,
              "#46039f"
             ],
             [
              0.2222222222222222,
              "#7201a8"
             ],
             [
              0.3333333333333333,
              "#9c179e"
             ],
             [
              0.4444444444444444,
              "#bd3786"
             ],
             [
              0.5555555555555556,
              "#d8576b"
             ],
             [
              0.6666666666666666,
              "#ed7953"
             ],
             [
              0.7777777777777778,
              "#fb9f3a"
             ],
             [
              0.8888888888888888,
              "#fdca26"
             ],
             [
              1.0,
              "#f0f921"
             ]
            ],
            "type": "histogram2d"
           }
          ],
          "histogram": [
           {
            "marker": {
             "pattern": {
              "fillmode": "overlay",
              "size": 10,
              "solidity": 0.2
             }
            },
            "type": "histogram"
           }
          ],
          "mesh3d": [
           {
            "colorbar": {
             "outlinewidth": 0,
             "ticks": ""
            },
            "type": "mesh3d"
           }
          ],
          "parcoords": [
           {
            "line": {
             "colorbar": {
              "outlinewidth": 0,
              "ticks": ""
             }
            },
            "type": "parcoords"
           }
          ],
          "pie": [
           {
            "automargin": true,
            "type": "pie"
           }
          ],
          "scatter3d": [
           {
            "line": {
             "colorbar": {
              "outlinewidth": 0,
              "ticks": ""
             }
            },
            "marker": {
             "colorbar": {
              "outlinewidth": 0,
              "ticks": ""
             }
            },
            "type": "scatter3d"
           }
          ],
          "scattercarpet": [
           {
            "marker": {
             "colorbar": {
              "outlinewidth": 0,
              "ticks": ""
             }
            },
            "type": "scattercarpet"
           }
          ],
          "scattergeo": [
           {
            "marker": {
             "colorbar": {
              "outlinewidth": 0,
              "ticks": ""
             }
            },
            "type": "scattergeo"
           }
          ],
          "scattergl": [
           {
            "marker": {
             "colorbar": {
              "outlinewidth": 0,
              "ticks": ""
             }
            },
            "type": "scattergl"
           }
          ],
          "scattermapbox": [
           {
            "marker": {
             "colorbar": {
              "outlinewidth": 0,
              "ticks": ""
             }
            },
            "type": "scattermapbox"
           }
          ],
          "scatterpolargl": [
           {
            "marker": {
             "colorbar": {
              "outlinewidth": 0,
              "ticks": ""
             }
            },
            "type": "scatterpolargl"
           }
          ],
          "scatterpolar": [
           {
            "marker": {
             "colorbar": {
              "outlinewidth": 0,
              "ticks": ""
             }
            },
            "type": "scatterpolar"
           }
          ],
          "scatter": [
           {
            "fillpattern": {
             "fillmode": "overlay",
             "size": 10,
             "solidity": 0.2
            },
            "type": "scatter"
           }
          ],
          "scatterternary": [
           {
            "marker": {
             "colorbar": {
              "outlinewidth": 0,
              "ticks": ""
             }
            },
            "type": "scatterternary"
           }
          ],
          "surface": [
           {
            "colorbar": {
             "outlinewidth": 0,
             "ticks": ""
            },
            "colorscale": [
             [
              0.0,
              "#0d0887"
             ],
             [
              0.1111111111111111,
              "#46039f"
             ],
             [
              0.2222222222222222,
              "#7201a8"
             ],
             [
              0.3333333333333333,
              "#9c179e"
             ],
             [
              0.4444444444444444,
              "#bd3786"
             ],
             [
              0.5555555555555556,
              "#d8576b"
             ],
             [
              0.6666666666666666,
              "#ed7953"
             ],
             [
              0.7777777777777778,
              "#fb9f3a"
             ],
             [
              0.8888888888888888,
              "#fdca26"
             ],
             [
              1.0,
              "#f0f921"
             ]
            ],
            "type": "surface"
           }
          ],
          "table": [
           {
            "cells": {
             "fill": {
              "color": "#EBF0F8"
             },
             "line": {
              "color": "white"
             }
            },
            "header": {
             "fill": {
              "color": "#C8D4E3"
             },
             "line": {
              "color": "white"
             }
            },
            "type": "table"
           }
          ]
         },
         "layout": {
          "annotationdefaults": {
           "arrowcolor": "#2a3f5f",
           "arrowhead": 0,
           "arrowwidth": 1
          },
          "autotypenumbers": "strict",
          "coloraxis": {
           "colorbar": {
            "outlinewidth": 0,
            "ticks": ""
           }
          },
          "colorscale": {
           "diverging": [
            [
             0,
             "#8e0152"
            ],
            [
             0.1,
             "#c51b7d"
            ],
            [
             0.2,
             "#de77ae"
            ],
            [
             0.3,
             "#f1b6da"
            ],
            [
             0.4,
             "#fde0ef"
            ],
            [
             0.5,
             "#f7f7f7"
            ],
            [
             0.6,
             "#e6f5d0"
            ],
            [
             0.7,
             "#b8e186"
            ],
            [
             0.8,
             "#7fbc41"
            ],
            [
             0.9,
             "#4d9221"
            ],
            [
             1,
             "#276419"
            ]
           ],
           "sequential": [
            [
             0.0,
             "#0d0887"
            ],
            [
             0.1111111111111111,
             "#46039f"
            ],
            [
             0.2222222222222222,
             "#7201a8"
            ],
            [
             0.3333333333333333,
             "#9c179e"
            ],
            [
             0.4444444444444444,
             "#bd3786"
            ],
            [
             0.5555555555555556,
             "#d8576b"
            ],
            [
             0.6666666666666666,
             "#ed7953"
            ],
            [
             0.7777777777777778,
             "#fb9f3a"
            ],
            [
             0.8888888888888888,
             "#fdca26"
            ],
            [
             1.0,
             "#f0f921"
            ]
           ],
           "sequentialminus": [
            [
             0.0,
             "#0d0887"
            ],
            [
             0.1111111111111111,
             "#46039f"
            ],
            [
             0.2222222222222222,
             "#7201a8"
            ],
            [
             0.3333333333333333,
             "#9c179e"
            ],
            [
             0.4444444444444444,
             "#bd3786"
            ],
            [
             0.5555555555555556,
             "#d8576b"
            ],
            [
             0.6666666666666666,
             "#ed7953"
            ],
            [
             0.7777777777777778,
             "#fb9f3a"
            ],
            [
             0.8888888888888888,
             "#fdca26"
            ],
            [
             1.0,
             "#f0f921"
            ]
           ]
          },
          "colorway": [
           "#636efa",
           "#EF553B",
           "#00cc96",
           "#ab63fa",
           "#FFA15A",
           "#19d3f3",
           "#FF6692",
           "#B6E880",
           "#FF97FF",
           "#FECB52"
          ],
          "font": {
           "color": "#2a3f5f"
          },
          "geo": {
           "bgcolor": "white",
           "lakecolor": "white",
           "landcolor": "#E5ECF6",
           "showlakes": true,
           "showland": true,
           "subunitcolor": "white"
          },
          "hoverlabel": {
           "align": "left"
          },
          "hovermode": "closest",
          "mapbox": {
           "style": "light"
          },
          "paper_bgcolor": "white",
          "plot_bgcolor": "#E5ECF6",
          "polar": {
           "angularaxis": {
            "gridcolor": "white",
            "linecolor": "white",
            "ticks": ""
           },
           "bgcolor": "#E5ECF6",
           "radialaxis": {
            "gridcolor": "white",
            "linecolor": "white",
            "ticks": ""
           }
          },
          "scene": {
           "xaxis": {
            "backgroundcolor": "#E5ECF6",
            "gridcolor": "white",
            "gridwidth": 2,
            "linecolor": "white",
            "showbackground": true,
            "ticks": "",
            "zerolinecolor": "white"
           },
           "yaxis": {
            "backgroundcolor": "#E5ECF6",
            "gridcolor": "white",
            "gridwidth": 2,
            "linecolor": "white",
            "showbackground": true,
            "ticks": "",
            "zerolinecolor": "white"
           },
           "zaxis": {
            "backgroundcolor": "#E5ECF6",
            "gridcolor": "white",
            "gridwidth": 2,
            "linecolor": "white",
            "showbackground": true,
            "ticks": "",
            "zerolinecolor": "white"
           }
          },
          "shapedefaults": {
           "line": {
            "color": "#2a3f5f"
           }
          },
          "ternary": {
           "aaxis": {
            "gridcolor": "white",
            "linecolor": "white",
            "ticks": ""
           },
           "baxis": {
            "gridcolor": "white",
            "linecolor": "white",
            "ticks": ""
           },
           "bgcolor": "#E5ECF6",
           "caxis": {
            "gridcolor": "white",
            "linecolor": "white",
            "ticks": ""
           }
          },
          "title": {
           "x": 0.05
          },
          "xaxis": {
           "automargin": true,
           "gridcolor": "white",
           "linecolor": "white",
           "ticks": "",
           "title": {
            "standoff": 15
           },
           "zerolinecolor": "white",
           "zerolinewidth": 2
          },
          "yaxis": {
           "automargin": true,
           "gridcolor": "white",
           "linecolor": "white",
           "ticks": "",
           "title": {
            "standoff": 15
           },
           "zerolinecolor": "white",
           "zerolinewidth": 2
          }
         }
        },
        "yaxis": {
         "title": {
          "text": "Energy/token [Wh]"
         },
         "range": [
          0,
          0.01
         ]
        },
        "title": {
         "text": "Energy/token per model parameters count<br><span style=\"font-size: 12px\">Data from LLM-Perf Leaderboard</span>"
        },
        "xaxis": {
         "title": {
          "text": "#B Parameters"
         }
        },
        "plot_bgcolor": "#edf4f3",
        "width": 800,
        "height": 600,
        "images": [
         {
          "sizex": 0.28,
          "sizey": 0.15,
          "source": "https://ecologits.ai/assets/logo_light.png",
          "x": 1,
          "xanchor": "right",
          "xref": "paper",
          "y": 1,
          "yanchor": "bottom",
          "yref": "paper"
         }
        ]
       },
       "config": {
        "plotlyServerURL": "https://plot.ly"
       }
      },
      "text/html": [
       "<div>                            <div id=\"009b8f19-50b3-42ed-b3c7-a145f4f76452\" class=\"plotly-graph-div\" style=\"height:600px; width:800px;\"></div>            <script type=\"text/javascript\">                require([\"plotly\"], function(Plotly) {                    window.PLOTLYENV=window.PLOTLYENV || {};                                    if (document.getElementById(\"009b8f19-50b3-42ed-b3c7-a145f4f76452\")) {                    Plotly.newPlot(                        \"009b8f19-50b3-42ed-b3c7-a145f4f76452\",                        [{\"marker\":{\"color\":\"#0b3b36\",\"opacity\":0.5},\"mode\":\"markers\",\"name\":\"Models\",\"x\":[20.0,12.0,12.0,12.8,7.0,7.67,7.0,13.0,70.0,7.0,10.0,7.0,40.0,20.0,7.0,34.0,34.0,7.0,13.0,16.0,20.0,7.0,67.0,7.0,7.0,13.0,7.0,7.0,40.0,7.5,34.0,26.0,7.0,10.7,13.0,7.24,7.0,7.0,65.0,13.0,22.0,7.0,7.0,13.0,7.0,13.0,7.0,7.0,7.0,22.0,20.0,11.0,10.7,7.0,65.0,30.0,13.0,7.0,7.0,13.0,20.0,12.0,12.0,12.8,7.0,7.0,7.67,8.0,7.0,13.0,70.0,7.0,10.0,7.0,40.0,20.0,7.0,34.0,34.0,7.0,13.0,30.0,7.0,16.0,20.0,7.0,8.0,7.0,7.0,13.0,7.0,7.0,40.0,7.5,34.0,26.0,7.0,10.7,13.0,7.24,7.0,7.0,7.0,13.0,22.0,7.0,7.0,13.0,7.0,13.0,7.0,7.0,7.0,22.0,20.0,11.0,10.7,7.0,30.0,13.0,7.0,7.0,13.0,34.0,7.0,7.0,13.0,10.0,7.0,7.0,13.0,7.0,7.0,7.0,13.0,7.0,7.0,7.0,13.0,13.0,7.0,7.0,7.0,7.0,13.0,7.0,7.0,20.0,12.0,12.0,12.8,7.0,7.67,7.0,13.0,70.0,7.0,10.0,7.0,7.0,34.0,34.0,7.0,13.0,16.0,7.0,67.0,8.0,7.0,7.0,7.0,7.0,7.5,34.0,26.0,7.0,10.7,13.0,7.24,7.0,7.0,65.0,13.0,22.0,7.0,7.0,13.0,7.0,13.0,7.0,7.0,7.0,22.0,11.0,10.7,7.0,65.0,30.0,13.0,7.0,7.0,13.0,20.0,12.0,12.0,12.8,7.0,7.0,7.67,8.0,7.0,13.0,70.0,7.0,10.0,7.0,40.0,20.0,7.0,34.0,34.0,13.0,30.0,7.0,16.0,20.0,7.0,67.0,8.0,7.0,7.0,13.0,7.0,7.0,40.0,7.5,34.0,26.0,7.0,10.7,13.0,7.24,7.0,7.0,7.0,65.0,13.0,22.0,7.0,7.0,13.0,7.0,13.0,7.0,7.0,7.0,22.0,20.0,11.0,10.7,7.0,65.0,30.0,13.0,7.0,7.0,13.0,34.0],\"y\":[0.00327,0.00228,0.00226,0.00251,0.00197,0.00187,0.0019,0.00266,0.00812,0.00234,0.00217,0.00231,0.00452,0.00273,0.00191,0.00503,0.00505,0.00231,0.00263,0.00318,0.00273,0.0019,0.0085,0.0019199999999999,0.00203,0.00203,0.0019,0.00195,0.00617,0.0015799999999999,0.00502,0.00528,0.0015,0.00314,0.00218,0.0023,0.00227,0.00114,0.00776,0.0027199999999999,0.00307,0.00195,0.00191,0.00265,0.00195,0.00265,0.00195,0.00181,0.0018,0.0030199999999999,0.00477,0.00358,0.00315,0.00191,0.00773,0.00463,0.00264,0.00188,0.0019,0.00262,0.00325,0.00226,0.00231,0.00257,0.00177,0.0019,0.00194,0.00226,0.0018599999999999,0.00248,0.00714,0.00217,0.00227,0.00218,0.00575,0.00331,0.00184,0.00471,0.00465,0.00218,0.00249,0.0028899999999999,0.00131,0.00312,0.00324,0.00191,0.00131,0.00191,0.00195,0.00239,0.00185,0.00182,0.00524,0.00162,0.00471,0.00502,0.00154,0.00296,0.00219,0.00219,0.00215,0.0011799999999999,0.00181,0.00249,0.00294,0.00179,0.00184,0.00252,0.0018599999999999,0.00249,0.00184,0.00198,0.0019,0.0028799999999999,0.0045499999999999,0.0033799999999999,0.00296,0.0018599999999999,0.00434,0.00248,0.00183,0.00184,0.00248,0.00406,0.00257,0.00264,0.00344,0.00274,0.00314,0.00258,0.00354,0.00264,0.0026,0.00274,0.00257,0.00262,0.00258,0.00257,0.00349,0.0035,0.00258,0.00227,0.00225,0.00263,0.00348,0.00259,0.0025399999999999,0.00282,0.00195,0.00196,0.00216,0.00177,0.00176,0.00173,0.0023,0.0061,0.00212,0.0020099999999999,0.00216,0.00176,0.00412,0.00418,0.00215,0.00232,0.00275,0.00175,0.00681,0.0012699999999999,0.0018,0.00185,0.00174,0.00178,0.00141,0.00414,0.00456,0.0013599999999999,0.00293,0.00188,0.00215,0.0021,0.000984,0.00552,0.0023,0.00255,0.00179,0.00179,0.00232,0.00179,0.00229,0.00178,0.00166,0.00166,0.00251,0.00334,0.0029,0.00177,0.0055899999999999,0.00385,0.0023599999999999,0.00175,0.00174,0.00232,0.00349,0.00241,0.00239,0.0027199999999999,0.00196,0.00212,0.00203,0.00248,0.00199,0.0027099999999999,0.0072699999999999,0.00232,0.00235,0.00238,0.0057799999999999,0.00333,0.00202,0.0048899999999999,0.00498,0.00274,0.00304,0.00143,0.00319,0.00328,0.0021,0.00813,0.00146,0.00204,0.00216,0.00238,0.0021,0.0020099999999999,0.00539,0.00181,0.0049,0.00545,0.00166,0.00326,0.00233,0.00234,0.00237,0.00119,0.00193,0.00688,0.0027,0.00306,0.00203,0.002,0.00275,0.00202,0.0027199999999999,0.00203,0.002,0.00196,0.00309,0.0048899999999999,0.00367,0.0031599999999999,0.00206,0.00683,0.00462,0.00275,0.00199,0.00203,0.00273,0.0041899999999999],\"type\":\"scatter\"},{\"line\":{\"color\":\"#00bf63\",\"width\":3},\"mode\":\"lines\",\"name\":\"Linear Regression\",\"x\":[7.0,70.0],\"y\":[0.0020624680149216135,0.007676345786281576],\"type\":\"scatter\"}],                        {\"template\":{\"data\":{\"barpolar\":[{\"marker\":{\"line\":{\"color\":\"#E5ECF6\",\"width\":0.5},\"pattern\":{\"fillmode\":\"overlay\",\"size\":10,\"solidity\":0.2}},\"type\":\"barpolar\"}],\"bar\":[{\"error_x\":{\"color\":\"#2a3f5f\"},\"error_y\":{\"color\":\"#2a3f5f\"},\"marker\":{\"line\":{\"color\":\"#E5ECF6\",\"width\":0.5},\"pattern\":{\"fillmode\":\"overlay\",\"size\":10,\"solidity\":0.2}},\"type\":\"bar\"}],\"carpet\":[{\"aaxis\":{\"endlinecolor\":\"#2a3f5f\",\"gridcolor\":\"white\",\"linecolor\":\"white\",\"minorgridcolor\":\"white\",\"startlinecolor\":\"#2a3f5f\"},\"baxis\":{\"endlinecolor\":\"#2a3f5f\",\"gridcolor\":\"white\",\"linecolor\":\"white\",\"minorgridcolor\":\"white\",\"startlinecolor\":\"#2a3f5f\"},\"type\":\"carpet\"}],\"choropleth\":[{\"colorbar\":{\"outlinewidth\":0,\"ticks\":\"\"},\"type\":\"choropleth\"}],\"contourcarpet\":[{\"colorbar\":{\"outlinewidth\":0,\"ticks\":\"\"},\"type\":\"contourcarpet\"}],\"contour\":[{\"colorbar\":{\"outlinewidth\":0,\"ticks\":\"\"},\"colorscale\":[[0.0,\"#0d0887\"],[0.1111111111111111,\"#46039f\"],[0.2222222222222222,\"#7201a8\"],[0.3333333333333333,\"#9c179e\"],[0.4444444444444444,\"#bd3786\"],[0.5555555555555556,\"#d8576b\"],[0.6666666666666666,\"#ed7953\"],[0.7777777777777778,\"#fb9f3a\"],[0.8888888888888888,\"#fdca26\"],[1.0,\"#f0f921\"]],\"type\":\"contour\"}],\"heatmapgl\":[{\"colorbar\":{\"outlinewidth\":0,\"ticks\":\"\"},\"colorscale\":[[0.0,\"#0d0887\"],[0.1111111111111111,\"#46039f\"],[0.2222222222222222,\"#7201a8\"],[0.3333333333333333,\"#9c179e\"],[0.4444444444444444,\"#bd3786\"],[0.5555555555555556,\"#d8576b\"],[0.6666666666666666,\"#ed7953\"],[0.7777777777777778,\"#fb9f3a\"],[0.8888888888888888,\"#fdca26\"],[1.0,\"#f0f921\"]],\"type\":\"heatmapgl\"}],\"heatmap\":[{\"colorbar\":{\"outlinewidth\":0,\"ticks\":\"\"},\"colorscale\":[[0.0,\"#0d0887\"],[0.1111111111111111,\"#46039f\"],[0.2222222222222222,\"#7201a8\"],[0.3333333333333333,\"#9c179e\"],[0.4444444444444444,\"#bd3786\"],[0.5555555555555556,\"#d8576b\"],[0.6666666666666666,\"#ed7953\"],[0.7777777777777778,\"#fb9f3a\"],[0.8888888888888888,\"#fdca26\"],[1.0,\"#f0f921\"]],\"type\":\"heatmap\"}],\"histogram2dcontour\":[{\"colorbar\":{\"outlinewidth\":0,\"ticks\":\"\"},\"colorscale\":[[0.0,\"#0d0887\"],[0.1111111111111111,\"#46039f\"],[0.2222222222222222,\"#7201a8\"],[0.3333333333333333,\"#9c179e\"],[0.4444444444444444,\"#bd3786\"],[0.5555555555555556,\"#d8576b\"],[0.6666666666666666,\"#ed7953\"],[0.7777777777777778,\"#fb9f3a\"],[0.8888888888888888,\"#fdca26\"],[1.0,\"#f0f921\"]],\"type\":\"histogram2dcontour\"}],\"histogram2d\":[{\"colorbar\":{\"outlinewidth\":0,\"ticks\":\"\"},\"colorscale\":[[0.0,\"#0d0887\"],[0.1111111111111111,\"#46039f\"],[0.2222222222222222,\"#7201a8\"],[0.3333333333333333,\"#9c179e\"],[0.4444444444444444,\"#bd3786\"],[0.5555555555555556,\"#d8576b\"],[0.6666666666666666,\"#ed7953\"],[0.7777777777777778,\"#fb9f3a\"],[0.8888888888888888,\"#fdca26\"],[1.0,\"#f0f921\"]],\"type\":\"histogram2d\"}],\"histogram\":[{\"marker\":{\"pattern\":{\"fillmode\":\"overlay\",\"size\":10,\"solidity\":0.2}},\"type\":\"histogram\"}],\"mesh3d\":[{\"colorbar\":{\"outlinewidth\":0,\"ticks\":\"\"},\"type\":\"mesh3d\"}],\"parcoords\":[{\"line\":{\"colorbar\":{\"outlinewidth\":0,\"ticks\":\"\"}},\"type\":\"parcoords\"}],\"pie\":[{\"automargin\":true,\"type\":\"pie\"}],\"scatter3d\":[{\"line\":{\"colorbar\":{\"outlinewidth\":0,\"ticks\":\"\"}},\"marker\":{\"colorbar\":{\"outlinewidth\":0,\"ticks\":\"\"}},\"type\":\"scatter3d\"}],\"scattercarpet\":[{\"marker\":{\"colorbar\":{\"outlinewidth\":0,\"ticks\":\"\"}},\"type\":\"scattercarpet\"}],\"scattergeo\":[{\"marker\":{\"colorbar\":{\"outlinewidth\":0,\"ticks\":\"\"}},\"type\":\"scattergeo\"}],\"scattergl\":[{\"marker\":{\"colorbar\":{\"outlinewidth\":0,\"ticks\":\"\"}},\"type\":\"scattergl\"}],\"scattermapbox\":[{\"marker\":{\"colorbar\":{\"outlinewidth\":0,\"ticks\":\"\"}},\"type\":\"scattermapbox\"}],\"scatterpolargl\":[{\"marker\":{\"colorbar\":{\"outlinewidth\":0,\"ticks\":\"\"}},\"type\":\"scatterpolargl\"}],\"scatterpolar\":[{\"marker\":{\"colorbar\":{\"outlinewidth\":0,\"ticks\":\"\"}},\"type\":\"scatterpolar\"}],\"scatter\":[{\"fillpattern\":{\"fillmode\":\"overlay\",\"size\":10,\"solidity\":0.2},\"type\":\"scatter\"}],\"scatterternary\":[{\"marker\":{\"colorbar\":{\"outlinewidth\":0,\"ticks\":\"\"}},\"type\":\"scatterternary\"}],\"surface\":[{\"colorbar\":{\"outlinewidth\":0,\"ticks\":\"\"},\"colorscale\":[[0.0,\"#0d0887\"],[0.1111111111111111,\"#46039f\"],[0.2222222222222222,\"#7201a8\"],[0.3333333333333333,\"#9c179e\"],[0.4444444444444444,\"#bd3786\"],[0.5555555555555556,\"#d8576b\"],[0.6666666666666666,\"#ed7953\"],[0.7777777777777778,\"#fb9f3a\"],[0.8888888888888888,\"#fdca26\"],[1.0,\"#f0f921\"]],\"type\":\"surface\"}],\"table\":[{\"cells\":{\"fill\":{\"color\":\"#EBF0F8\"},\"line\":{\"color\":\"white\"}},\"header\":{\"fill\":{\"color\":\"#C8D4E3\"},\"line\":{\"color\":\"white\"}},\"type\":\"table\"}]},\"layout\":{\"annotationdefaults\":{\"arrowcolor\":\"#2a3f5f\",\"arrowhead\":0,\"arrowwidth\":1},\"autotypenumbers\":\"strict\",\"coloraxis\":{\"colorbar\":{\"outlinewidth\":0,\"ticks\":\"\"}},\"colorscale\":{\"diverging\":[[0,\"#8e0152\"],[0.1,\"#c51b7d\"],[0.2,\"#de77ae\"],[0.3,\"#f1b6da\"],[0.4,\"#fde0ef\"],[0.5,\"#f7f7f7\"],[0.6,\"#e6f5d0\"],[0.7,\"#b8e186\"],[0.8,\"#7fbc41\"],[0.9,\"#4d9221\"],[1,\"#276419\"]],\"sequential\":[[0.0,\"#0d0887\"],[0.1111111111111111,\"#46039f\"],[0.2222222222222222,\"#7201a8\"],[0.3333333333333333,\"#9c179e\"],[0.4444444444444444,\"#bd3786\"],[0.5555555555555556,\"#d8576b\"],[0.6666666666666666,\"#ed7953\"],[0.7777777777777778,\"#fb9f3a\"],[0.8888888888888888,\"#fdca26\"],[1.0,\"#f0f921\"]],\"sequentialminus\":[[0.0,\"#0d0887\"],[0.1111111111111111,\"#46039f\"],[0.2222222222222222,\"#7201a8\"],[0.3333333333333333,\"#9c179e\"],[0.4444444444444444,\"#bd3786\"],[0.5555555555555556,\"#d8576b\"],[0.6666666666666666,\"#ed7953\"],[0.7777777777777778,\"#fb9f3a\"],[0.8888888888888888,\"#fdca26\"],[1.0,\"#f0f921\"]]},\"colorway\":[\"#636efa\",\"#EF553B\",\"#00cc96\",\"#ab63fa\",\"#FFA15A\",\"#19d3f3\",\"#FF6692\",\"#B6E880\",\"#FF97FF\",\"#FECB52\"],\"font\":{\"color\":\"#2a3f5f\"},\"geo\":{\"bgcolor\":\"white\",\"lakecolor\":\"white\",\"landcolor\":\"#E5ECF6\",\"showlakes\":true,\"showland\":true,\"subunitcolor\":\"white\"},\"hoverlabel\":{\"align\":\"left\"},\"hovermode\":\"closest\",\"mapbox\":{\"style\":\"light\"},\"paper_bgcolor\":\"white\",\"plot_bgcolor\":\"#E5ECF6\",\"polar\":{\"angularaxis\":{\"gridcolor\":\"white\",\"linecolor\":\"white\",\"ticks\":\"\"},\"bgcolor\":\"#E5ECF6\",\"radialaxis\":{\"gridcolor\":\"white\",\"linecolor\":\"white\",\"ticks\":\"\"}},\"scene\":{\"xaxis\":{\"backgroundcolor\":\"#E5ECF6\",\"gridcolor\":\"white\",\"gridwidth\":2,\"linecolor\":\"white\",\"showbackground\":true,\"ticks\":\"\",\"zerolinecolor\":\"white\"},\"yaxis\":{\"backgroundcolor\":\"#E5ECF6\",\"gridcolor\":\"white\",\"gridwidth\":2,\"linecolor\":\"white\",\"showbackground\":true,\"ticks\":\"\",\"zerolinecolor\":\"white\"},\"zaxis\":{\"backgroundcolor\":\"#E5ECF6\",\"gridcolor\":\"white\",\"gridwidth\":2,\"linecolor\":\"white\",\"showbackground\":true,\"ticks\":\"\",\"zerolinecolor\":\"white\"}},\"shapedefaults\":{\"line\":{\"color\":\"#2a3f5f\"}},\"ternary\":{\"aaxis\":{\"gridcolor\":\"white\",\"linecolor\":\"white\",\"ticks\":\"\"},\"baxis\":{\"gridcolor\":\"white\",\"linecolor\":\"white\",\"ticks\":\"\"},\"bgcolor\":\"#E5ECF6\",\"caxis\":{\"gridcolor\":\"white\",\"linecolor\":\"white\",\"ticks\":\"\"}},\"title\":{\"x\":0.05},\"xaxis\":{\"automargin\":true,\"gridcolor\":\"white\",\"linecolor\":\"white\",\"ticks\":\"\",\"title\":{\"standoff\":15},\"zerolinecolor\":\"white\",\"zerolinewidth\":2},\"yaxis\":{\"automargin\":true,\"gridcolor\":\"white\",\"linecolor\":\"white\",\"ticks\":\"\",\"title\":{\"standoff\":15},\"zerolinecolor\":\"white\",\"zerolinewidth\":2}}},\"yaxis\":{\"title\":{\"text\":\"Energy\\u002ftoken [Wh]\"},\"range\":[0,0.01]},\"title\":{\"text\":\"Energy\\u002ftoken per model parameters count\\u003cbr\\u003e\\u003cspan style=\\\"font-size: 12px\\\"\\u003eData from LLM-Perf Leaderboard\\u003c\\u002fspan\\u003e\"},\"xaxis\":{\"title\":{\"text\":\"#B Parameters\"}},\"plot_bgcolor\":\"#edf4f3\",\"width\":800,\"height\":600,\"images\":[{\"sizex\":0.28,\"sizey\":0.15,\"source\":\"https:\\u002f\\u002fecologits.ai\\u002fassets\\u002flogo_light.png\",\"x\":1,\"xanchor\":\"right\",\"xref\":\"paper\",\"y\":1,\"yanchor\":\"bottom\",\"yref\":\"paper\"}]},                        {\"responsive\": true}                    ).then(function(){\n",
       "                            \n",
       "var gd = document.getElementById('009b8f19-50b3-42ed-b3c7-a145f4f76452');\n",
       "var x = new MutationObserver(function (mutations, observer) {{\n",
       "        var display = window.getComputedStyle(gd).display;\n",
       "        if (!display || display === 'none') {{\n",
       "            console.log([gd, 'removed!']);\n",
       "            Plotly.purge(gd);\n",
       "            observer.disconnect();\n",
       "        }}\n",
       "}});\n",
       "\n",
       "// Listen for the removal of the full notebook cells\n",
       "var notebookContainer = gd.closest('#notebook-container');\n",
       "if (notebookContainer) {{\n",
       "    x.observe(notebookContainer, {childList: true});\n",
       "}}\n",
       "\n",
       "// Listen for the clearing of the current output cell\n",
       "var outputEl = gd.closest('.output');\n",
       "if (outputEl) {{\n",
       "    x.observe(outputEl, {childList: true});\n",
       "}}\n",
       "\n",
       "                        })                };                });            </script>        </div>"
      ]
     },
     "metadata": {},
     "output_type": "display_data"
    }
   ],
   "execution_count": 28
  },
  {
   "metadata": {},
   "cell_type": "code",
   "outputs": [],
   "execution_count": null,
   "source": "",
   "id": "538f2a0a26754bae"
  },
  {
   "metadata": {
    "ExecuteTime": {
     "end_time": "2024-06-18T14:53:09.206940Z",
     "start_time": "2024-06-18T14:53:09.197481Z"
    }
   },
   "cell_type": "code",
   "source": [
    "x_range = np.array([\n",
    "    llm_perf_filtered_df['parameters_count'].min(),\n",
    "    llm_perf_filtered_df['parameters_count'].max()\n",
    "]).reshape(-1, 1)\n",
    "\n",
    "x = llm_perf_filtered_df['parameters_count']\n",
    "y = llm_perf_filtered_df['latency'] / llm_perf_filtered_df['response_length']\n",
    "\n",
    "poly = PolynomialFeatures(degree=1)\n",
    "X = np.array(x).reshape(-1, 1)\n",
    "poly.fit(X)\n",
    "X_poly = poly.transform(X)\n",
    "x_range_poly = poly.transform(x_range)\n",
    "model = LinearRegression(fit_intercept=True)\n",
    "model.fit(X_poly, y)\n",
    "y_range_poly = model.predict(x_range_poly)\n",
    "\n",
    "print(f'Coef and intercept for A100: {model.coef_[1]}, {model.intercept_}')"
   ],
   "id": "acc00718509bb079",
   "outputs": [
    {
     "name": "stdout",
     "output_type": "stream",
     "text": [
      "Coef and intercept for A100: 0.0008017124410366496, 0.02234163886672691\n"
     ]
    }
   ],
   "execution_count": 29
  },
  {
   "metadata": {
    "ExecuteTime": {
     "end_time": "2024-06-18T14:53:10.022924Z",
     "start_time": "2024-06-18T14:53:09.993706Z"
    }
   },
   "cell_type": "code",
   "source": [
    "fig = go.Figure()\n",
    "\n",
    "fig.add_trace(go.Scatter(\n",
    "    x=x,\n",
    "    y=y,\n",
    "    mode='markers',\n",
    "    name=f'Models',\n",
    "    marker=dict(color='#0b3b36', opacity=0.5)\n",
    "))\n",
    "\n",
    "fig.add_trace(go.Scatter(\n",
    "    x=x_range.squeeze(),\n",
    "    y=y_range_poly,\n",
    "    mode='lines',\n",
    "    name=f'Linear Regression',\n",
    "    line=dict(color='#00bf63', width=3)\n",
    "))\n",
    "\n",
    "fig.update_layout(\n",
    "    title='Latency/token per model parameters count<br><span style=\"font-size: 12px\">Data from LLM-Perf Leaderboard</span>',\n",
    "    xaxis=dict(title='#B Parameters'),\n",
    "    yaxis=dict(title='Latency/token [s]', range=[0, 0.1]),\n",
    "    template='plotly',\n",
    "    plot_bgcolor='#edf4f3',\n",
    "    width=800, height=600,\n",
    "    images=[\n",
    "        dict(\n",
    "            source=\"https://ecologits.ai/assets/logo_light.png\",\n",
    "            xref=\"paper\", yref=\"paper\",\n",
    "            x=1, y=1,\n",
    "            sizex=0.28, sizey=0.15,\n",
    "            xanchor=\"right\", yanchor=\"bottom\"\n",
    "        )\n",
    "    ]\n",
    ")\n",
    "\n",
    "fig.show()\n"
   ],
   "id": "c604678902bbc6f0",
   "outputs": [
    {
     "data": {
      "application/vnd.plotly.v1+json": {
       "data": [
        {
         "marker": {
          "color": "#0b3b36",
          "opacity": 0.5
         },
         "mode": "markers",
         "name": "Models",
         "x": [
          20.0,
          12.0,
          12.0,
          12.8,
          7.0,
          7.67,
          7.0,
          13.0,
          70.0,
          7.0,
          10.0,
          7.0,
          40.0,
          20.0,
          7.0,
          34.0,
          34.0,
          7.0,
          13.0,
          16.0,
          20.0,
          7.0,
          67.0,
          7.0,
          7.0,
          13.0,
          7.0,
          7.0,
          40.0,
          7.5,
          34.0,
          26.0,
          7.0,
          10.7,
          13.0,
          7.24,
          7.0,
          7.0,
          65.0,
          13.0,
          22.0,
          7.0,
          7.0,
          13.0,
          7.0,
          13.0,
          7.0,
          7.0,
          7.0,
          22.0,
          20.0,
          11.0,
          10.7,
          7.0,
          65.0,
          30.0,
          13.0,
          7.0,
          7.0,
          13.0,
          20.0,
          12.0,
          12.0,
          12.8,
          7.0,
          7.0,
          7.67,
          8.0,
          7.0,
          13.0,
          70.0,
          7.0,
          10.0,
          7.0,
          40.0,
          20.0,
          7.0,
          34.0,
          34.0,
          7.0,
          13.0,
          30.0,
          7.0,
          16.0,
          20.0,
          7.0,
          8.0,
          7.0,
          7.0,
          13.0,
          7.0,
          7.0,
          40.0,
          7.5,
          34.0,
          26.0,
          7.0,
          10.7,
          13.0,
          7.24,
          7.0,
          7.0,
          7.0,
          13.0,
          22.0,
          7.0,
          7.0,
          13.0,
          7.0,
          13.0,
          7.0,
          7.0,
          7.0,
          22.0,
          20.0,
          11.0,
          10.7,
          7.0,
          30.0,
          13.0,
          7.0,
          7.0,
          13.0,
          34.0,
          7.0,
          7.0,
          13.0,
          10.0,
          7.0,
          7.0,
          13.0,
          7.0,
          7.0,
          7.0,
          13.0,
          7.0,
          7.0,
          7.0,
          13.0,
          13.0,
          7.0,
          7.0,
          7.0,
          7.0,
          13.0,
          7.0,
          7.0,
          20.0,
          12.0,
          12.0,
          12.8,
          7.0,
          7.67,
          7.0,
          13.0,
          70.0,
          7.0,
          10.0,
          7.0,
          7.0,
          34.0,
          34.0,
          7.0,
          13.0,
          16.0,
          7.0,
          67.0,
          8.0,
          7.0,
          7.0,
          7.0,
          7.0,
          7.5,
          34.0,
          26.0,
          7.0,
          10.7,
          13.0,
          7.24,
          7.0,
          7.0,
          65.0,
          13.0,
          22.0,
          7.0,
          7.0,
          13.0,
          7.0,
          13.0,
          7.0,
          7.0,
          7.0,
          22.0,
          11.0,
          10.7,
          7.0,
          65.0,
          30.0,
          13.0,
          7.0,
          7.0,
          13.0,
          20.0,
          12.0,
          12.0,
          12.8,
          7.0,
          7.0,
          7.67,
          8.0,
          7.0,
          13.0,
          70.0,
          7.0,
          10.0,
          7.0,
          40.0,
          20.0,
          7.0,
          34.0,
          34.0,
          13.0,
          30.0,
          7.0,
          16.0,
          20.0,
          7.0,
          67.0,
          8.0,
          7.0,
          7.0,
          13.0,
          7.0,
          7.0,
          40.0,
          7.5,
          34.0,
          26.0,
          7.0,
          10.7,
          13.0,
          7.24,
          7.0,
          7.0,
          7.0,
          65.0,
          13.0,
          22.0,
          7.0,
          7.0,
          13.0,
          7.0,
          13.0,
          7.0,
          7.0,
          7.0,
          22.0,
          20.0,
          11.0,
          10.7,
          7.0,
          65.0,
          30.0,
          13.0,
          7.0,
          7.0,
          13.0,
          34.0
         ],
         "y": [
          0.036484375,
          0.0273046875,
          0.02734375,
          0.0299609375,
          0.025546875,
          0.0244140625,
          0.024921875,
          0.031484375,
          0.0765625,
          0.0315625,
          0.0275,
          0.0308984375,
          0.043359375,
          0.0287890625,
          0.0249609375,
          0.05234375,
          0.0515625,
          0.03125,
          0.031640625,
          0.038125,
          0.028671875,
          0.02546875,
          0.083203125,
          0.0254296875,
          0.026953125,
          0.022421875,
          0.0252734375,
          0.0256640625,
          0.066015625,
          0.0192578125,
          0.0515625,
          0.063671875,
          0.0184765625,
          0.04140625,
          0.024296875,
          0.031171875,
          0.031171875,
          0.0126171875,
          0.073828125,
          0.031953125,
          0.031875,
          0.0267578125,
          0.025078125,
          0.032109375,
          0.0252734375,
          0.0318359375,
          0.0255859375,
          0.02359375,
          0.023828125,
          0.0327734375,
          0.0578125,
          0.04765625,
          0.041015625,
          0.0262890625,
          0.073828125,
          0.046875,
          0.0319921875,
          0.024765625,
          0.025625,
          0.0309375,
          0.0390625,
          0.0283203125,
          0.028046875,
          0.031875,
          0.02421875,
          0.026171875,
          0.025625,
          0.02984375,
          0.025,
          0.0309765625,
          0.066796875,
          0.0305859375,
          0.0285546875,
          0.029296875,
          0.0609375,
          0.0370703125,
          0.025078125,
          0.04921875,
          0.050390625,
          0.02953125,
          0.030234375,
          0.0259765625,
          0.01625,
          0.0390625,
          0.036796875,
          0.024453125,
          0.0197265625,
          0.0244921875,
          0.02703125,
          0.027578125,
          0.0244140625,
          0.025390625,
          0.057421875,
          0.02015625,
          0.050390625,
          0.06171875,
          0.01953125,
          0.03984375,
          0.0253515625,
          0.03,
          0.03,
          0.0134765625,
          0.0241015625,
          0.0314453125,
          0.03109375,
          0.0251953125,
          0.02421875,
          0.0306640625,
          0.024453125,
          0.0306640625,
          0.0258984375,
          0.0256640625,
          0.0249609375,
          0.0311328125,
          0.05625,
          0.046875,
          0.03984375,
          0.0250390625,
          0.04609375,
          0.0305859375,
          0.024375,
          0.025078125,
          0.0304296875,
          0.041015625,
          0.035234375,
          0.0351171875,
          0.04296875,
          0.035703125,
          0.04140625,
          0.0358984375,
          0.04453125,
          0.035234375,
          0.035,
          0.0378125,
          0.0299609375,
          0.0353125,
          0.0353125,
          0.035390625,
          0.044140625,
          0.043359375,
          0.0347265625,
          0.030234375,
          0.0305859375,
          0.035546875,
          0.04375,
          0.0352734375,
          0.0344921875,
          0.03640625,
          0.0265234375,
          0.0265625,
          0.0295703125,
          0.025234375,
          0.0246484375,
          0.0251953125,
          0.031328125,
          0.06953125,
          0.030546875,
          0.026796875,
          0.0308203125,
          0.024921875,
          0.0515625,
          0.052734375,
          0.031015625,
          0.0316796875,
          0.0382421875,
          0.0253515625,
          0.082421875,
          0.018984375,
          0.0256640625,
          0.0273046875,
          0.0263671875,
          0.025234375,
          0.0189453125,
          0.0515625,
          0.0625,
          0.018515625,
          0.040625,
          0.024140625,
          0.0309375,
          0.030390625,
          0.0126171875,
          0.062109375,
          0.031171875,
          0.0315625,
          0.02546875,
          0.025703125,
          0.031875,
          0.025390625,
          0.0312890625,
          0.0257421875,
          0.024609375,
          0.02390625,
          0.0314453125,
          0.048046875,
          0.04140625,
          0.025390625,
          0.0640625,
          0.046875,
          0.03109375,
          0.025234375,
          0.0253125,
          0.0315234375,
          0.042578125,
          0.0304296875,
          0.0303125,
          0.0340625,
          0.0269921875,
          0.028984375,
          0.027265625,
          0.0342578125,
          0.0275390625,
          0.035078125,
          0.07421875,
          0.0323828125,
          0.030625,
          0.0339453125,
          0.060546875,
          0.036953125,
          0.0273828125,
          0.055859375,
          0.05625,
          0.034609375,
          0.0294921875,
          0.0180078125,
          0.041015625,
          0.036796875,
          0.0282421875,
          0.0890625,
          0.0218359375,
          0.0275,
          0.02953125,
          0.0271875,
          0.02828125,
          0.0272265625,
          0.062109375,
          0.0231640625,
          0.05546875,
          0.06796875,
          0.02109375,
          0.04453125,
          0.0272265625,
          0.0330859375,
          0.0332421875,
          0.0138671875,
          0.0258984375,
          0.06796875,
          0.034453125,
          0.0344921875,
          0.027109375,
          0.0272265625,
          0.0347265625,
          0.0285546875,
          0.0340625,
          0.0274609375,
          0.02734375,
          0.026875,
          0.03515625,
          0.06328125,
          0.05078125,
          0.044921875,
          0.0276953125,
          0.069140625,
          0.0515625,
          0.0350390625,
          0.0279296875,
          0.0272265625,
          0.034453125,
          0.044140625
         ],
         "type": "scatter"
        },
        {
         "line": {
          "color": "#00bf63",
          "width": 3
         },
         "mode": "lines",
         "name": "Linear Regression",
         "x": [
          7.0,
          70.0
         ],
         "y": [
          0.027953625953983458,
          0.07846150973929239
         ],
         "type": "scatter"
        }
       ],
       "layout": {
        "template": {
         "data": {
          "barpolar": [
           {
            "marker": {
             "line": {
              "color": "#E5ECF6",
              "width": 0.5
             },
             "pattern": {
              "fillmode": "overlay",
              "size": 10,
              "solidity": 0.2
             }
            },
            "type": "barpolar"
           }
          ],
          "bar": [
           {
            "error_x": {
             "color": "#2a3f5f"
            },
            "error_y": {
             "color": "#2a3f5f"
            },
            "marker": {
             "line": {
              "color": "#E5ECF6",
              "width": 0.5
             },
             "pattern": {
              "fillmode": "overlay",
              "size": 10,
              "solidity": 0.2
             }
            },
            "type": "bar"
           }
          ],
          "carpet": [
           {
            "aaxis": {
             "endlinecolor": "#2a3f5f",
             "gridcolor": "white",
             "linecolor": "white",
             "minorgridcolor": "white",
             "startlinecolor": "#2a3f5f"
            },
            "baxis": {
             "endlinecolor": "#2a3f5f",
             "gridcolor": "white",
             "linecolor": "white",
             "minorgridcolor": "white",
             "startlinecolor": "#2a3f5f"
            },
            "type": "carpet"
           }
          ],
          "choropleth": [
           {
            "colorbar": {
             "outlinewidth": 0,
             "ticks": ""
            },
            "type": "choropleth"
           }
          ],
          "contourcarpet": [
           {
            "colorbar": {
             "outlinewidth": 0,
             "ticks": ""
            },
            "type": "contourcarpet"
           }
          ],
          "contour": [
           {
            "colorbar": {
             "outlinewidth": 0,
             "ticks": ""
            },
            "colorscale": [
             [
              0.0,
              "#0d0887"
             ],
             [
              0.1111111111111111,
              "#46039f"
             ],
             [
              0.2222222222222222,
              "#7201a8"
             ],
             [
              0.3333333333333333,
              "#9c179e"
             ],
             [
              0.4444444444444444,
              "#bd3786"
             ],
             [
              0.5555555555555556,
              "#d8576b"
             ],
             [
              0.6666666666666666,
              "#ed7953"
             ],
             [
              0.7777777777777778,
              "#fb9f3a"
             ],
             [
              0.8888888888888888,
              "#fdca26"
             ],
             [
              1.0,
              "#f0f921"
             ]
            ],
            "type": "contour"
           }
          ],
          "heatmapgl": [
           {
            "colorbar": {
             "outlinewidth": 0,
             "ticks": ""
            },
            "colorscale": [
             [
              0.0,
              "#0d0887"
             ],
             [
              0.1111111111111111,
              "#46039f"
             ],
             [
              0.2222222222222222,
              "#7201a8"
             ],
             [
              0.3333333333333333,
              "#9c179e"
             ],
             [
              0.4444444444444444,
              "#bd3786"
             ],
             [
              0.5555555555555556,
              "#d8576b"
             ],
             [
              0.6666666666666666,
              "#ed7953"
             ],
             [
              0.7777777777777778,
              "#fb9f3a"
             ],
             [
              0.8888888888888888,
              "#fdca26"
             ],
             [
              1.0,
              "#f0f921"
             ]
            ],
            "type": "heatmapgl"
           }
          ],
          "heatmap": [
           {
            "colorbar": {
             "outlinewidth": 0,
             "ticks": ""
            },
            "colorscale": [
             [
              0.0,
              "#0d0887"
             ],
             [
              0.1111111111111111,
              "#46039f"
             ],
             [
              0.2222222222222222,
              "#7201a8"
             ],
             [
              0.3333333333333333,
              "#9c179e"
             ],
             [
              0.4444444444444444,
              "#bd3786"
             ],
             [
              0.5555555555555556,
              "#d8576b"
             ],
             [
              0.6666666666666666,
              "#ed7953"
             ],
             [
              0.7777777777777778,
              "#fb9f3a"
             ],
             [
              0.8888888888888888,
              "#fdca26"
             ],
             [
              1.0,
              "#f0f921"
             ]
            ],
            "type": "heatmap"
           }
          ],
          "histogram2dcontour": [
           {
            "colorbar": {
             "outlinewidth": 0,
             "ticks": ""
            },
            "colorscale": [
             [
              0.0,
              "#0d0887"
             ],
             [
              0.1111111111111111,
              "#46039f"
             ],
             [
              0.2222222222222222,
              "#7201a8"
             ],
             [
              0.3333333333333333,
              "#9c179e"
             ],
             [
              0.4444444444444444,
              "#bd3786"
             ],
             [
              0.5555555555555556,
              "#d8576b"
             ],
             [
              0.6666666666666666,
              "#ed7953"
             ],
             [
              0.7777777777777778,
              "#fb9f3a"
             ],
             [
              0.8888888888888888,
              "#fdca26"
             ],
             [
              1.0,
              "#f0f921"
             ]
            ],
            "type": "histogram2dcontour"
           }
          ],
          "histogram2d": [
           {
            "colorbar": {
             "outlinewidth": 0,
             "ticks": ""
            },
            "colorscale": [
             [
              0.0,
              "#0d0887"
             ],
             [
              0.1111111111111111,
              "#46039f"
             ],
             [
              0.2222222222222222,
              "#7201a8"
             ],
             [
              0.3333333333333333,
              "#9c179e"
             ],
             [
              0.4444444444444444,
              "#bd3786"
             ],
             [
              0.5555555555555556,
              "#d8576b"
             ],
             [
              0.6666666666666666,
              "#ed7953"
             ],
             [
              0.7777777777777778,
              "#fb9f3a"
             ],
             [
              0.8888888888888888,
              "#fdca26"
             ],
             [
              1.0,
              "#f0f921"
             ]
            ],
            "type": "histogram2d"
           }
          ],
          "histogram": [
           {
            "marker": {
             "pattern": {
              "fillmode": "overlay",
              "size": 10,
              "solidity": 0.2
             }
            },
            "type": "histogram"
           }
          ],
          "mesh3d": [
           {
            "colorbar": {
             "outlinewidth": 0,
             "ticks": ""
            },
            "type": "mesh3d"
           }
          ],
          "parcoords": [
           {
            "line": {
             "colorbar": {
              "outlinewidth": 0,
              "ticks": ""
             }
            },
            "type": "parcoords"
           }
          ],
          "pie": [
           {
            "automargin": true,
            "type": "pie"
           }
          ],
          "scatter3d": [
           {
            "line": {
             "colorbar": {
              "outlinewidth": 0,
              "ticks": ""
             }
            },
            "marker": {
             "colorbar": {
              "outlinewidth": 0,
              "ticks": ""
             }
            },
            "type": "scatter3d"
           }
          ],
          "scattercarpet": [
           {
            "marker": {
             "colorbar": {
              "outlinewidth": 0,
              "ticks": ""
             }
            },
            "type": "scattercarpet"
           }
          ],
          "scattergeo": [
           {
            "marker": {
             "colorbar": {
              "outlinewidth": 0,
              "ticks": ""
             }
            },
            "type": "scattergeo"
           }
          ],
          "scattergl": [
           {
            "marker": {
             "colorbar": {
              "outlinewidth": 0,
              "ticks": ""
             }
            },
            "type": "scattergl"
           }
          ],
          "scattermapbox": [
           {
            "marker": {
             "colorbar": {
              "outlinewidth": 0,
              "ticks": ""
             }
            },
            "type": "scattermapbox"
           }
          ],
          "scatterpolargl": [
           {
            "marker": {
             "colorbar": {
              "outlinewidth": 0,
              "ticks": ""
             }
            },
            "type": "scatterpolargl"
           }
          ],
          "scatterpolar": [
           {
            "marker": {
             "colorbar": {
              "outlinewidth": 0,
              "ticks": ""
             }
            },
            "type": "scatterpolar"
           }
          ],
          "scatter": [
           {
            "fillpattern": {
             "fillmode": "overlay",
             "size": 10,
             "solidity": 0.2
            },
            "type": "scatter"
           }
          ],
          "scatterternary": [
           {
            "marker": {
             "colorbar": {
              "outlinewidth": 0,
              "ticks": ""
             }
            },
            "type": "scatterternary"
           }
          ],
          "surface": [
           {
            "colorbar": {
             "outlinewidth": 0,
             "ticks": ""
            },
            "colorscale": [
             [
              0.0,
              "#0d0887"
             ],
             [
              0.1111111111111111,
              "#46039f"
             ],
             [
              0.2222222222222222,
              "#7201a8"
             ],
             [
              0.3333333333333333,
              "#9c179e"
             ],
             [
              0.4444444444444444,
              "#bd3786"
             ],
             [
              0.5555555555555556,
              "#d8576b"
             ],
             [
              0.6666666666666666,
              "#ed7953"
             ],
             [
              0.7777777777777778,
              "#fb9f3a"
             ],
             [
              0.8888888888888888,
              "#fdca26"
             ],
             [
              1.0,
              "#f0f921"
             ]
            ],
            "type": "surface"
           }
          ],
          "table": [
           {
            "cells": {
             "fill": {
              "color": "#EBF0F8"
             },
             "line": {
              "color": "white"
             }
            },
            "header": {
             "fill": {
              "color": "#C8D4E3"
             },
             "line": {
              "color": "white"
             }
            },
            "type": "table"
           }
          ]
         },
         "layout": {
          "annotationdefaults": {
           "arrowcolor": "#2a3f5f",
           "arrowhead": 0,
           "arrowwidth": 1
          },
          "autotypenumbers": "strict",
          "coloraxis": {
           "colorbar": {
            "outlinewidth": 0,
            "ticks": ""
           }
          },
          "colorscale": {
           "diverging": [
            [
             0,
             "#8e0152"
            ],
            [
             0.1,
             "#c51b7d"
            ],
            [
             0.2,
             "#de77ae"
            ],
            [
             0.3,
             "#f1b6da"
            ],
            [
             0.4,
             "#fde0ef"
            ],
            [
             0.5,
             "#f7f7f7"
            ],
            [
             0.6,
             "#e6f5d0"
            ],
            [
             0.7,
             "#b8e186"
            ],
            [
             0.8,
             "#7fbc41"
            ],
            [
             0.9,
             "#4d9221"
            ],
            [
             1,
             "#276419"
            ]
           ],
           "sequential": [
            [
             0.0,
             "#0d0887"
            ],
            [
             0.1111111111111111,
             "#46039f"
            ],
            [
             0.2222222222222222,
             "#7201a8"
            ],
            [
             0.3333333333333333,
             "#9c179e"
            ],
            [
             0.4444444444444444,
             "#bd3786"
            ],
            [
             0.5555555555555556,
             "#d8576b"
            ],
            [
             0.6666666666666666,
             "#ed7953"
            ],
            [
             0.7777777777777778,
             "#fb9f3a"
            ],
            [
             0.8888888888888888,
             "#fdca26"
            ],
            [
             1.0,
             "#f0f921"
            ]
           ],
           "sequentialminus": [
            [
             0.0,
             "#0d0887"
            ],
            [
             0.1111111111111111,
             "#46039f"
            ],
            [
             0.2222222222222222,
             "#7201a8"
            ],
            [
             0.3333333333333333,
             "#9c179e"
            ],
            [
             0.4444444444444444,
             "#bd3786"
            ],
            [
             0.5555555555555556,
             "#d8576b"
            ],
            [
             0.6666666666666666,
             "#ed7953"
            ],
            [
             0.7777777777777778,
             "#fb9f3a"
            ],
            [
             0.8888888888888888,
             "#fdca26"
            ],
            [
             1.0,
             "#f0f921"
            ]
           ]
          },
          "colorway": [
           "#636efa",
           "#EF553B",
           "#00cc96",
           "#ab63fa",
           "#FFA15A",
           "#19d3f3",
           "#FF6692",
           "#B6E880",
           "#FF97FF",
           "#FECB52"
          ],
          "font": {
           "color": "#2a3f5f"
          },
          "geo": {
           "bgcolor": "white",
           "lakecolor": "white",
           "landcolor": "#E5ECF6",
           "showlakes": true,
           "showland": true,
           "subunitcolor": "white"
          },
          "hoverlabel": {
           "align": "left"
          },
          "hovermode": "closest",
          "mapbox": {
           "style": "light"
          },
          "paper_bgcolor": "white",
          "plot_bgcolor": "#E5ECF6",
          "polar": {
           "angularaxis": {
            "gridcolor": "white",
            "linecolor": "white",
            "ticks": ""
           },
           "bgcolor": "#E5ECF6",
           "radialaxis": {
            "gridcolor": "white",
            "linecolor": "white",
            "ticks": ""
           }
          },
          "scene": {
           "xaxis": {
            "backgroundcolor": "#E5ECF6",
            "gridcolor": "white",
            "gridwidth": 2,
            "linecolor": "white",
            "showbackground": true,
            "ticks": "",
            "zerolinecolor": "white"
           },
           "yaxis": {
            "backgroundcolor": "#E5ECF6",
            "gridcolor": "white",
            "gridwidth": 2,
            "linecolor": "white",
            "showbackground": true,
            "ticks": "",
            "zerolinecolor": "white"
           },
           "zaxis": {
            "backgroundcolor": "#E5ECF6",
            "gridcolor": "white",
            "gridwidth": 2,
            "linecolor": "white",
            "showbackground": true,
            "ticks": "",
            "zerolinecolor": "white"
           }
          },
          "shapedefaults": {
           "line": {
            "color": "#2a3f5f"
           }
          },
          "ternary": {
           "aaxis": {
            "gridcolor": "white",
            "linecolor": "white",
            "ticks": ""
           },
           "baxis": {
            "gridcolor": "white",
            "linecolor": "white",
            "ticks": ""
           },
           "bgcolor": "#E5ECF6",
           "caxis": {
            "gridcolor": "white",
            "linecolor": "white",
            "ticks": ""
           }
          },
          "title": {
           "x": 0.05
          },
          "xaxis": {
           "automargin": true,
           "gridcolor": "white",
           "linecolor": "white",
           "ticks": "",
           "title": {
            "standoff": 15
           },
           "zerolinecolor": "white",
           "zerolinewidth": 2
          },
          "yaxis": {
           "automargin": true,
           "gridcolor": "white",
           "linecolor": "white",
           "ticks": "",
           "title": {
            "standoff": 15
           },
           "zerolinecolor": "white",
           "zerolinewidth": 2
          }
         }
        },
        "yaxis": {
         "title": {
          "text": "Latency/token [s]"
         },
         "range": [
          0,
          0.1
         ]
        },
        "title": {
         "text": "Latency/token per model parameters count<br><span style=\"font-size: 12px\">Data from LLM-Perf Leaderboard</span>"
        },
        "xaxis": {
         "title": {
          "text": "#B Parameters"
         }
        },
        "plot_bgcolor": "#edf4f3",
        "width": 800,
        "height": 600,
        "images": [
         {
          "sizex": 0.28,
          "sizey": 0.15,
          "source": "https://ecologits.ai/assets/logo_light.png",
          "x": 1,
          "xanchor": "right",
          "xref": "paper",
          "y": 1,
          "yanchor": "bottom",
          "yref": "paper"
         }
        ]
       },
       "config": {
        "plotlyServerURL": "https://plot.ly"
       }
      },
      "text/html": [
       "<div>                            <div id=\"193c5fcd-5ea9-4a32-a5cd-96f6b917c925\" class=\"plotly-graph-div\" style=\"height:600px; width:800px;\"></div>            <script type=\"text/javascript\">                require([\"plotly\"], function(Plotly) {                    window.PLOTLYENV=window.PLOTLYENV || {};                                    if (document.getElementById(\"193c5fcd-5ea9-4a32-a5cd-96f6b917c925\")) {                    Plotly.newPlot(                        \"193c5fcd-5ea9-4a32-a5cd-96f6b917c925\",                        [{\"marker\":{\"color\":\"#0b3b36\",\"opacity\":0.5},\"mode\":\"markers\",\"name\":\"Models\",\"x\":[20.0,12.0,12.0,12.8,7.0,7.67,7.0,13.0,70.0,7.0,10.0,7.0,40.0,20.0,7.0,34.0,34.0,7.0,13.0,16.0,20.0,7.0,67.0,7.0,7.0,13.0,7.0,7.0,40.0,7.5,34.0,26.0,7.0,10.7,13.0,7.24,7.0,7.0,65.0,13.0,22.0,7.0,7.0,13.0,7.0,13.0,7.0,7.0,7.0,22.0,20.0,11.0,10.7,7.0,65.0,30.0,13.0,7.0,7.0,13.0,20.0,12.0,12.0,12.8,7.0,7.0,7.67,8.0,7.0,13.0,70.0,7.0,10.0,7.0,40.0,20.0,7.0,34.0,34.0,7.0,13.0,30.0,7.0,16.0,20.0,7.0,8.0,7.0,7.0,13.0,7.0,7.0,40.0,7.5,34.0,26.0,7.0,10.7,13.0,7.24,7.0,7.0,7.0,13.0,22.0,7.0,7.0,13.0,7.0,13.0,7.0,7.0,7.0,22.0,20.0,11.0,10.7,7.0,30.0,13.0,7.0,7.0,13.0,34.0,7.0,7.0,13.0,10.0,7.0,7.0,13.0,7.0,7.0,7.0,13.0,7.0,7.0,7.0,13.0,13.0,7.0,7.0,7.0,7.0,13.0,7.0,7.0,20.0,12.0,12.0,12.8,7.0,7.67,7.0,13.0,70.0,7.0,10.0,7.0,7.0,34.0,34.0,7.0,13.0,16.0,7.0,67.0,8.0,7.0,7.0,7.0,7.0,7.5,34.0,26.0,7.0,10.7,13.0,7.24,7.0,7.0,65.0,13.0,22.0,7.0,7.0,13.0,7.0,13.0,7.0,7.0,7.0,22.0,11.0,10.7,7.0,65.0,30.0,13.0,7.0,7.0,13.0,20.0,12.0,12.0,12.8,7.0,7.0,7.67,8.0,7.0,13.0,70.0,7.0,10.0,7.0,40.0,20.0,7.0,34.0,34.0,13.0,30.0,7.0,16.0,20.0,7.0,67.0,8.0,7.0,7.0,13.0,7.0,7.0,40.0,7.5,34.0,26.0,7.0,10.7,13.0,7.24,7.0,7.0,7.0,65.0,13.0,22.0,7.0,7.0,13.0,7.0,13.0,7.0,7.0,7.0,22.0,20.0,11.0,10.7,7.0,65.0,30.0,13.0,7.0,7.0,13.0,34.0],\"y\":[0.036484375,0.0273046875,0.02734375,0.0299609375,0.025546875,0.0244140625,0.024921875,0.031484375,0.0765625,0.0315625,0.0275,0.0308984375,0.043359375,0.0287890625,0.0249609375,0.05234375,0.0515625,0.03125,0.031640625,0.038125,0.028671875,0.02546875,0.083203125,0.0254296875,0.026953125,0.022421875,0.0252734375,0.0256640625,0.066015625,0.0192578125,0.0515625,0.063671875,0.0184765625,0.04140625,0.024296875,0.031171875,0.031171875,0.0126171875,0.073828125,0.031953125,0.031875,0.0267578125,0.025078125,0.032109375,0.0252734375,0.0318359375,0.0255859375,0.02359375,0.023828125,0.0327734375,0.0578125,0.04765625,0.041015625,0.0262890625,0.073828125,0.046875,0.0319921875,0.024765625,0.025625,0.0309375,0.0390625,0.0283203125,0.028046875,0.031875,0.02421875,0.026171875,0.025625,0.02984375,0.025,0.0309765625,0.066796875,0.0305859375,0.0285546875,0.029296875,0.0609375,0.0370703125,0.025078125,0.04921875,0.050390625,0.02953125,0.030234375,0.0259765625,0.01625,0.0390625,0.036796875,0.024453125,0.0197265625,0.0244921875,0.02703125,0.027578125,0.0244140625,0.025390625,0.057421875,0.02015625,0.050390625,0.06171875,0.01953125,0.03984375,0.0253515625,0.03,0.03,0.0134765625,0.0241015625,0.0314453125,0.03109375,0.0251953125,0.02421875,0.0306640625,0.024453125,0.0306640625,0.0258984375,0.0256640625,0.0249609375,0.0311328125,0.05625,0.046875,0.03984375,0.0250390625,0.04609375,0.0305859375,0.024375,0.025078125,0.0304296875,0.041015625,0.035234375,0.0351171875,0.04296875,0.035703125,0.04140625,0.0358984375,0.04453125,0.035234375,0.035,0.0378125,0.0299609375,0.0353125,0.0353125,0.035390625,0.044140625,0.043359375,0.0347265625,0.030234375,0.0305859375,0.035546875,0.04375,0.0352734375,0.0344921875,0.03640625,0.0265234375,0.0265625,0.0295703125,0.025234375,0.0246484375,0.0251953125,0.031328125,0.06953125,0.030546875,0.026796875,0.0308203125,0.024921875,0.0515625,0.052734375,0.031015625,0.0316796875,0.0382421875,0.0253515625,0.082421875,0.018984375,0.0256640625,0.0273046875,0.0263671875,0.025234375,0.0189453125,0.0515625,0.0625,0.018515625,0.040625,0.024140625,0.0309375,0.030390625,0.0126171875,0.062109375,0.031171875,0.0315625,0.02546875,0.025703125,0.031875,0.025390625,0.0312890625,0.0257421875,0.024609375,0.02390625,0.0314453125,0.048046875,0.04140625,0.025390625,0.0640625,0.046875,0.03109375,0.025234375,0.0253125,0.0315234375,0.042578125,0.0304296875,0.0303125,0.0340625,0.0269921875,0.028984375,0.027265625,0.0342578125,0.0275390625,0.035078125,0.07421875,0.0323828125,0.030625,0.0339453125,0.060546875,0.036953125,0.0273828125,0.055859375,0.05625,0.034609375,0.0294921875,0.0180078125,0.041015625,0.036796875,0.0282421875,0.0890625,0.0218359375,0.0275,0.02953125,0.0271875,0.02828125,0.0272265625,0.062109375,0.0231640625,0.05546875,0.06796875,0.02109375,0.04453125,0.0272265625,0.0330859375,0.0332421875,0.0138671875,0.0258984375,0.06796875,0.034453125,0.0344921875,0.027109375,0.0272265625,0.0347265625,0.0285546875,0.0340625,0.0274609375,0.02734375,0.026875,0.03515625,0.06328125,0.05078125,0.044921875,0.0276953125,0.069140625,0.0515625,0.0350390625,0.0279296875,0.0272265625,0.034453125,0.044140625],\"type\":\"scatter\"},{\"line\":{\"color\":\"#00bf63\",\"width\":3},\"mode\":\"lines\",\"name\":\"Linear Regression\",\"x\":[7.0,70.0],\"y\":[0.027953625953983458,0.07846150973929239],\"type\":\"scatter\"}],                        {\"template\":{\"data\":{\"barpolar\":[{\"marker\":{\"line\":{\"color\":\"#E5ECF6\",\"width\":0.5},\"pattern\":{\"fillmode\":\"overlay\",\"size\":10,\"solidity\":0.2}},\"type\":\"barpolar\"}],\"bar\":[{\"error_x\":{\"color\":\"#2a3f5f\"},\"error_y\":{\"color\":\"#2a3f5f\"},\"marker\":{\"line\":{\"color\":\"#E5ECF6\",\"width\":0.5},\"pattern\":{\"fillmode\":\"overlay\",\"size\":10,\"solidity\":0.2}},\"type\":\"bar\"}],\"carpet\":[{\"aaxis\":{\"endlinecolor\":\"#2a3f5f\",\"gridcolor\":\"white\",\"linecolor\":\"white\",\"minorgridcolor\":\"white\",\"startlinecolor\":\"#2a3f5f\"},\"baxis\":{\"endlinecolor\":\"#2a3f5f\",\"gridcolor\":\"white\",\"linecolor\":\"white\",\"minorgridcolor\":\"white\",\"startlinecolor\":\"#2a3f5f\"},\"type\":\"carpet\"}],\"choropleth\":[{\"colorbar\":{\"outlinewidth\":0,\"ticks\":\"\"},\"type\":\"choropleth\"}],\"contourcarpet\":[{\"colorbar\":{\"outlinewidth\":0,\"ticks\":\"\"},\"type\":\"contourcarpet\"}],\"contour\":[{\"colorbar\":{\"outlinewidth\":0,\"ticks\":\"\"},\"colorscale\":[[0.0,\"#0d0887\"],[0.1111111111111111,\"#46039f\"],[0.2222222222222222,\"#7201a8\"],[0.3333333333333333,\"#9c179e\"],[0.4444444444444444,\"#bd3786\"],[0.5555555555555556,\"#d8576b\"],[0.6666666666666666,\"#ed7953\"],[0.7777777777777778,\"#fb9f3a\"],[0.8888888888888888,\"#fdca26\"],[1.0,\"#f0f921\"]],\"type\":\"contour\"}],\"heatmapgl\":[{\"colorbar\":{\"outlinewidth\":0,\"ticks\":\"\"},\"colorscale\":[[0.0,\"#0d0887\"],[0.1111111111111111,\"#46039f\"],[0.2222222222222222,\"#7201a8\"],[0.3333333333333333,\"#9c179e\"],[0.4444444444444444,\"#bd3786\"],[0.5555555555555556,\"#d8576b\"],[0.6666666666666666,\"#ed7953\"],[0.7777777777777778,\"#fb9f3a\"],[0.8888888888888888,\"#fdca26\"],[1.0,\"#f0f921\"]],\"type\":\"heatmapgl\"}],\"heatmap\":[{\"colorbar\":{\"outlinewidth\":0,\"ticks\":\"\"},\"colorscale\":[[0.0,\"#0d0887\"],[0.1111111111111111,\"#46039f\"],[0.2222222222222222,\"#7201a8\"],[0.3333333333333333,\"#9c179e\"],[0.4444444444444444,\"#bd3786\"],[0.5555555555555556,\"#d8576b\"],[0.6666666666666666,\"#ed7953\"],[0.7777777777777778,\"#fb9f3a\"],[0.8888888888888888,\"#fdca26\"],[1.0,\"#f0f921\"]],\"type\":\"heatmap\"}],\"histogram2dcontour\":[{\"colorbar\":{\"outlinewidth\":0,\"ticks\":\"\"},\"colorscale\":[[0.0,\"#0d0887\"],[0.1111111111111111,\"#46039f\"],[0.2222222222222222,\"#7201a8\"],[0.3333333333333333,\"#9c179e\"],[0.4444444444444444,\"#bd3786\"],[0.5555555555555556,\"#d8576b\"],[0.6666666666666666,\"#ed7953\"],[0.7777777777777778,\"#fb9f3a\"],[0.8888888888888888,\"#fdca26\"],[1.0,\"#f0f921\"]],\"type\":\"histogram2dcontour\"}],\"histogram2d\":[{\"colorbar\":{\"outlinewidth\":0,\"ticks\":\"\"},\"colorscale\":[[0.0,\"#0d0887\"],[0.1111111111111111,\"#46039f\"],[0.2222222222222222,\"#7201a8\"],[0.3333333333333333,\"#9c179e\"],[0.4444444444444444,\"#bd3786\"],[0.5555555555555556,\"#d8576b\"],[0.6666666666666666,\"#ed7953\"],[0.7777777777777778,\"#fb9f3a\"],[0.8888888888888888,\"#fdca26\"],[1.0,\"#f0f921\"]],\"type\":\"histogram2d\"}],\"histogram\":[{\"marker\":{\"pattern\":{\"fillmode\":\"overlay\",\"size\":10,\"solidity\":0.2}},\"type\":\"histogram\"}],\"mesh3d\":[{\"colorbar\":{\"outlinewidth\":0,\"ticks\":\"\"},\"type\":\"mesh3d\"}],\"parcoords\":[{\"line\":{\"colorbar\":{\"outlinewidth\":0,\"ticks\":\"\"}},\"type\":\"parcoords\"}],\"pie\":[{\"automargin\":true,\"type\":\"pie\"}],\"scatter3d\":[{\"line\":{\"colorbar\":{\"outlinewidth\":0,\"ticks\":\"\"}},\"marker\":{\"colorbar\":{\"outlinewidth\":0,\"ticks\":\"\"}},\"type\":\"scatter3d\"}],\"scattercarpet\":[{\"marker\":{\"colorbar\":{\"outlinewidth\":0,\"ticks\":\"\"}},\"type\":\"scattercarpet\"}],\"scattergeo\":[{\"marker\":{\"colorbar\":{\"outlinewidth\":0,\"ticks\":\"\"}},\"type\":\"scattergeo\"}],\"scattergl\":[{\"marker\":{\"colorbar\":{\"outlinewidth\":0,\"ticks\":\"\"}},\"type\":\"scattergl\"}],\"scattermapbox\":[{\"marker\":{\"colorbar\":{\"outlinewidth\":0,\"ticks\":\"\"}},\"type\":\"scattermapbox\"}],\"scatterpolargl\":[{\"marker\":{\"colorbar\":{\"outlinewidth\":0,\"ticks\":\"\"}},\"type\":\"scatterpolargl\"}],\"scatterpolar\":[{\"marker\":{\"colorbar\":{\"outlinewidth\":0,\"ticks\":\"\"}},\"type\":\"scatterpolar\"}],\"scatter\":[{\"fillpattern\":{\"fillmode\":\"overlay\",\"size\":10,\"solidity\":0.2},\"type\":\"scatter\"}],\"scatterternary\":[{\"marker\":{\"colorbar\":{\"outlinewidth\":0,\"ticks\":\"\"}},\"type\":\"scatterternary\"}],\"surface\":[{\"colorbar\":{\"outlinewidth\":0,\"ticks\":\"\"},\"colorscale\":[[0.0,\"#0d0887\"],[0.1111111111111111,\"#46039f\"],[0.2222222222222222,\"#7201a8\"],[0.3333333333333333,\"#9c179e\"],[0.4444444444444444,\"#bd3786\"],[0.5555555555555556,\"#d8576b\"],[0.6666666666666666,\"#ed7953\"],[0.7777777777777778,\"#fb9f3a\"],[0.8888888888888888,\"#fdca26\"],[1.0,\"#f0f921\"]],\"type\":\"surface\"}],\"table\":[{\"cells\":{\"fill\":{\"color\":\"#EBF0F8\"},\"line\":{\"color\":\"white\"}},\"header\":{\"fill\":{\"color\":\"#C8D4E3\"},\"line\":{\"color\":\"white\"}},\"type\":\"table\"}]},\"layout\":{\"annotationdefaults\":{\"arrowcolor\":\"#2a3f5f\",\"arrowhead\":0,\"arrowwidth\":1},\"autotypenumbers\":\"strict\",\"coloraxis\":{\"colorbar\":{\"outlinewidth\":0,\"ticks\":\"\"}},\"colorscale\":{\"diverging\":[[0,\"#8e0152\"],[0.1,\"#c51b7d\"],[0.2,\"#de77ae\"],[0.3,\"#f1b6da\"],[0.4,\"#fde0ef\"],[0.5,\"#f7f7f7\"],[0.6,\"#e6f5d0\"],[0.7,\"#b8e186\"],[0.8,\"#7fbc41\"],[0.9,\"#4d9221\"],[1,\"#276419\"]],\"sequential\":[[0.0,\"#0d0887\"],[0.1111111111111111,\"#46039f\"],[0.2222222222222222,\"#7201a8\"],[0.3333333333333333,\"#9c179e\"],[0.4444444444444444,\"#bd3786\"],[0.5555555555555556,\"#d8576b\"],[0.6666666666666666,\"#ed7953\"],[0.7777777777777778,\"#fb9f3a\"],[0.8888888888888888,\"#fdca26\"],[1.0,\"#f0f921\"]],\"sequentialminus\":[[0.0,\"#0d0887\"],[0.1111111111111111,\"#46039f\"],[0.2222222222222222,\"#7201a8\"],[0.3333333333333333,\"#9c179e\"],[0.4444444444444444,\"#bd3786\"],[0.5555555555555556,\"#d8576b\"],[0.6666666666666666,\"#ed7953\"],[0.7777777777777778,\"#fb9f3a\"],[0.8888888888888888,\"#fdca26\"],[1.0,\"#f0f921\"]]},\"colorway\":[\"#636efa\",\"#EF553B\",\"#00cc96\",\"#ab63fa\",\"#FFA15A\",\"#19d3f3\",\"#FF6692\",\"#B6E880\",\"#FF97FF\",\"#FECB52\"],\"font\":{\"color\":\"#2a3f5f\"},\"geo\":{\"bgcolor\":\"white\",\"lakecolor\":\"white\",\"landcolor\":\"#E5ECF6\",\"showlakes\":true,\"showland\":true,\"subunitcolor\":\"white\"},\"hoverlabel\":{\"align\":\"left\"},\"hovermode\":\"closest\",\"mapbox\":{\"style\":\"light\"},\"paper_bgcolor\":\"white\",\"plot_bgcolor\":\"#E5ECF6\",\"polar\":{\"angularaxis\":{\"gridcolor\":\"white\",\"linecolor\":\"white\",\"ticks\":\"\"},\"bgcolor\":\"#E5ECF6\",\"radialaxis\":{\"gridcolor\":\"white\",\"linecolor\":\"white\",\"ticks\":\"\"}},\"scene\":{\"xaxis\":{\"backgroundcolor\":\"#E5ECF6\",\"gridcolor\":\"white\",\"gridwidth\":2,\"linecolor\":\"white\",\"showbackground\":true,\"ticks\":\"\",\"zerolinecolor\":\"white\"},\"yaxis\":{\"backgroundcolor\":\"#E5ECF6\",\"gridcolor\":\"white\",\"gridwidth\":2,\"linecolor\":\"white\",\"showbackground\":true,\"ticks\":\"\",\"zerolinecolor\":\"white\"},\"zaxis\":{\"backgroundcolor\":\"#E5ECF6\",\"gridcolor\":\"white\",\"gridwidth\":2,\"linecolor\":\"white\",\"showbackground\":true,\"ticks\":\"\",\"zerolinecolor\":\"white\"}},\"shapedefaults\":{\"line\":{\"color\":\"#2a3f5f\"}},\"ternary\":{\"aaxis\":{\"gridcolor\":\"white\",\"linecolor\":\"white\",\"ticks\":\"\"},\"baxis\":{\"gridcolor\":\"white\",\"linecolor\":\"white\",\"ticks\":\"\"},\"bgcolor\":\"#E5ECF6\",\"caxis\":{\"gridcolor\":\"white\",\"linecolor\":\"white\",\"ticks\":\"\"}},\"title\":{\"x\":0.05},\"xaxis\":{\"automargin\":true,\"gridcolor\":\"white\",\"linecolor\":\"white\",\"ticks\":\"\",\"title\":{\"standoff\":15},\"zerolinecolor\":\"white\",\"zerolinewidth\":2},\"yaxis\":{\"automargin\":true,\"gridcolor\":\"white\",\"linecolor\":\"white\",\"ticks\":\"\",\"title\":{\"standoff\":15},\"zerolinecolor\":\"white\",\"zerolinewidth\":2}}},\"yaxis\":{\"title\":{\"text\":\"Latency\\u002ftoken [s]\"},\"range\":[0,0.1]},\"title\":{\"text\":\"Latency\\u002ftoken per model parameters count\\u003cbr\\u003e\\u003cspan style=\\\"font-size: 12px\\\"\\u003eData from LLM-Perf Leaderboard\\u003c\\u002fspan\\u003e\"},\"xaxis\":{\"title\":{\"text\":\"#B Parameters\"}},\"plot_bgcolor\":\"#edf4f3\",\"width\":800,\"height\":600,\"images\":[{\"sizex\":0.28,\"sizey\":0.15,\"source\":\"https:\\u002f\\u002fecologits.ai\\u002fassets\\u002flogo_light.png\",\"x\":1,\"xanchor\":\"right\",\"xref\":\"paper\",\"y\":1,\"yanchor\":\"bottom\",\"yref\":\"paper\"}]},                        {\"responsive\": true}                    ).then(function(){\n",
       "                            \n",
       "var gd = document.getElementById('193c5fcd-5ea9-4a32-a5cd-96f6b917c925');\n",
       "var x = new MutationObserver(function (mutations, observer) {{\n",
       "        var display = window.getComputedStyle(gd).display;\n",
       "        if (!display || display === 'none') {{\n",
       "            console.log([gd, 'removed!']);\n",
       "            Plotly.purge(gd);\n",
       "            observer.disconnect();\n",
       "        }}\n",
       "}});\n",
       "\n",
       "// Listen for the removal of the full notebook cells\n",
       "var notebookContainer = gd.closest('#notebook-container');\n",
       "if (notebookContainer) {{\n",
       "    x.observe(notebookContainer, {childList: true});\n",
       "}}\n",
       "\n",
       "// Listen for the clearing of the current output cell\n",
       "var outputEl = gd.closest('.output');\n",
       "if (outputEl) {{\n",
       "    x.observe(outputEl, {childList: true});\n",
       "}}\n",
       "\n",
       "                        })                };                });            </script>        </div>"
      ]
     },
     "metadata": {},
     "output_type": "display_data"
    }
   ],
   "execution_count": 30
  },
  {
   "metadata": {},
   "cell_type": "code",
   "outputs": [],
   "execution_count": null,
   "source": "",
   "id": "c8971cda4eb590bc"
  },
  {
   "metadata": {},
   "cell_type": "code",
   "outputs": [],
   "execution_count": null,
   "source": "",
   "id": "935f66d6cf168ecb"
  },
  {
   "cell_type": "code",
   "execution_count": null,
   "id": "6f7bf23f",
   "metadata": {},
   "outputs": [],
   "source": []
  }
 ],
 "metadata": {
  "kernelspec": {
   "display_name": "Python 3 (ipykernel)",
   "language": "python",
   "name": "python3"
  },
  "language_info": {
   "codemirror_mode": {
    "name": "ipython",
    "version": 3
   },
   "file_extension": ".py",
   "mimetype": "text/x-python",
   "name": "python",
   "nbconvert_exporter": "python",
   "pygments_lexer": "ipython3",
   "version": "3.11.5"
  }
 },
 "nbformat": 4,
 "nbformat_minor": 5
}
