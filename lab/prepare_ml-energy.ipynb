{
 "cells": [
  {
   "cell_type": "code",
   "execution_count": 1,
   "id": "initial_id",
   "metadata": {
    "collapsed": true,
    "ExecuteTime": {
     "end_time": "2024-02-09T14:13:13.848677Z",
     "start_time": "2024-02-09T14:13:13.184600Z"
    }
   },
   "outputs": [
    {
     "name": "stderr",
     "output_type": "stream",
     "text": [
      "/var/folders/xg/5ns375k927gfzbg4c143d4zr0000gn/T/ipykernel_18791/1943265658.py:4: DeprecationWarning: \n",
      "Pyarrow will become a required dependency of pandas in the next major release of pandas (pandas 3.0),\n",
      "(to allow more performant data types, such as the Arrow string type, and better interoperability with other libraries)\n",
      "but was not found to be installed on your system.\n",
      "If this would cause problems for you,\n",
      "please provide us feedback at https://github.com/pandas-dev/pandas/issues/54466\n",
      "        \n",
      "  import pandas as pd\n"
     ]
    }
   ],
   "source": [
    "import json\n",
    "import os\n",
    "\n",
    "import pandas as pd"
   ]
  },
  {
   "cell_type": "code",
   "outputs": [],
   "source": [
    "with open('./data/ml_energy/models.json', 'r') as fd:\n",
    "    model_params = json.load(fd)"
   ],
   "metadata": {
    "collapsed": false,
    "ExecuteTime": {
     "end_time": "2024-02-09T14:13:13.854654Z",
     "start_time": "2024-02-09T14:13:13.846098Z"
    }
   },
   "id": "35462ece1b8d03df",
   "execution_count": 2
  },
  {
   "cell_type": "code",
   "outputs": [],
   "source": [
    "all_dfs = []\n",
    "\n",
    "for root, _, files in os.walk(\"./data/ml_energy\"):\n",
    "    for file in files:\n",
    "        if 'benchmark' in file and file.endswith('.csv'):\n",
    "            gpu, task, _ = file.split('_')\n",
    "            df = pd.read_csv(os.path.join(root, file))\n",
    "            df['gpu'] = gpu\n",
    "            df['task'] = task\n",
    "            df['parameters_count'] = df.model.apply(lambda x: model_params[x]['params'])\n",
    "            all_dfs.append(df)\n",
    "\n",
    "df = pd.concat(all_dfs)"
   ],
   "metadata": {
    "collapsed": false,
    "ExecuteTime": {
     "end_time": "2024-02-09T14:13:13.897690Z",
     "start_time": "2024-02-09T14:13:13.857838Z"
    }
   },
   "id": "e93346472c92405",
   "execution_count": 3
  },
  {
   "cell_type": "code",
   "outputs": [],
   "source": [
    "df['energy_per_token'] = (df['energy'] / df['response_length']) / 3600"
   ],
   "metadata": {
    "collapsed": false,
    "ExecuteTime": {
     "end_time": "2024-02-09T14:13:13.907097Z",
     "start_time": "2024-02-09T14:13:13.901059Z"
    }
   },
   "id": "6cfe999be580dfc8",
   "execution_count": 4
  },
  {
   "cell_type": "code",
   "outputs": [],
   "source": [
    "df.to_csv('./data/aggregated_ml_energy.csv', index=False)"
   ],
   "metadata": {
    "collapsed": false,
    "ExecuteTime": {
     "end_time": "2024-02-09T14:13:14.404381Z",
     "start_time": "2024-02-09T14:13:14.379529Z"
    }
   },
   "id": "d5362b5295eb0f53",
   "execution_count": 5
  },
  {
   "cell_type": "code",
   "outputs": [],
   "source": [],
   "metadata": {
    "collapsed": false
   },
   "id": "e356458a9d68ac73"
  }
 ],
 "metadata": {
  "kernelspec": {
   "display_name": "Python 3",
   "language": "python",
   "name": "python3"
  },
  "language_info": {
   "codemirror_mode": {
    "name": "ipython",
    "version": 2
   },
   "file_extension": ".py",
   "mimetype": "text/x-python",
   "name": "python",
   "nbconvert_exporter": "python",
   "pygments_lexer": "ipython2",
   "version": "2.7.6"
  }
 },
 "nbformat": 4,
 "nbformat_minor": 5
}
