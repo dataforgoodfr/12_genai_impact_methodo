{
 "cells": [
  {
   "cell_type": "code",
   "execution_count": 1,
   "id": "initial_id",
   "metadata": {
    "ExecuteTime": {
     "end_time": "2024-02-09T14:13:13.848677Z",
     "start_time": "2024-02-09T14:13:13.184600Z"
    }
   },
   "outputs": [],
   "source": [
    "import json\n",
    "import os\n",
    "\n",
    "import pandas as pd"
   ]
  },
  {
   "cell_type": "code",
   "execution_count": 2,
   "id": "35462ece1b8d03df",
   "metadata": {
    "ExecuteTime": {
     "end_time": "2024-02-09T14:13:13.854654Z",
     "start_time": "2024-02-09T14:13:13.846098Z"
    }
   },
   "outputs": [],
   "source": [
    "with open('./data/ml_energy/models.json', 'r') as fd:\n",
    "    model_params = json.load(fd)"
   ]
  },
  {
   "cell_type": "code",
   "execution_count": 3,
   "id": "e93346472c92405",
   "metadata": {
    "ExecuteTime": {
     "end_time": "2024-02-09T14:13:13.897690Z",
     "start_time": "2024-02-09T14:13:13.857838Z"
    }
   },
   "outputs": [],
   "source": [
    "all_dfs = []\n",
    "\n",
    "for root, _, files in os.walk(\"./data/ml_energy\"):\n",
    "    for file in files:\n",
    "        if 'benchmark' in file and file.endswith('.csv'):\n",
    "            gpu, task, _ = file.split('_')\n",
    "            df = pd.read_csv(os.path.join(root, file))\n",
    "            df['gpu'] = gpu\n",
    "            df['task'] = task\n",
    "            df['parameters_count'] = df.model.apply(lambda x: model_params[x]['params'])\n",
    "            all_dfs.append(df)\n",
    "\n",
    "df = pd.concat(all_dfs)"
   ]
  },
  {
   "cell_type": "code",
   "execution_count": 4,
   "id": "6cfe999be580dfc8",
   "metadata": {
    "ExecuteTime": {
     "end_time": "2024-02-09T14:13:13.907097Z",
     "start_time": "2024-02-09T14:13:13.901059Z"
    }
   },
   "outputs": [],
   "source": [
    "# convert Joules to Wh\n",
    "df['energy_per_token'] = (df['energy'] / df['response_length']) / 3600"
   ]
  },
  {
   "cell_type": "code",
   "execution_count": 5,
   "id": "8d044281",
   "metadata": {},
   "outputs": [],
   "source": [
    "df['dtype'] = 'float16'"
   ]
  },
  {
   "cell_type": "code",
   "execution_count": 6,
   "id": "e4572632",
   "metadata": {},
   "outputs": [],
   "source": [
    "df['optimization'] = 'None'"
   ]
  },
  {
   "cell_type": "code",
   "execution_count": 7,
   "id": "fbe29729",
   "metadata": {},
   "outputs": [],
   "source": [
    "df['quantization'] = 'None'"
   ]
  },
  {
   "cell_type": "code",
   "execution_count": 8,
   "id": "adf5d05a",
   "metadata": {},
   "outputs": [],
   "source": [
    "df['cuda-fp16'] = False"
   ]
  },
  {
   "cell_type": "code",
   "execution_count": 9,
   "id": "079660f9",
   "metadata": {},
   "outputs": [
    {
     "name": "stdout",
     "output_type": "stream",
     "text": [
      "<class 'pandas.core.frame.DataFrame'>\n",
      "Index: 260 entries, 0 to 20\n",
      "Data columns (total 13 columns):\n",
      " #   Column            Non-Null Count  Dtype  \n",
      "---  ------            --------------  -----  \n",
      " 0   model             260 non-null    object \n",
      " 1   throughput        260 non-null    float64\n",
      " 2   response_length   260 non-null    float64\n",
      " 3   latency           260 non-null    float64\n",
      " 4   energy            260 non-null    float64\n",
      " 5   gpu               260 non-null    object \n",
      " 6   task              260 non-null    object \n",
      " 7   parameters_count  260 non-null    int64  \n",
      " 8   energy_per_token  260 non-null    float64\n",
      " 9   dtype             260 non-null    object \n",
      " 10  optimization      260 non-null    object \n",
      " 11  quantization      260 non-null    object \n",
      " 12  cuda-fp16         260 non-null    bool   \n",
      "dtypes: bool(1), float64(5), int64(1), object(6)\n",
      "memory usage: 26.7+ KB\n"
     ]
    }
   ],
   "source": [
    "df.info()"
   ]
  },
  {
   "cell_type": "code",
   "execution_count": 10,
   "id": "d5362b5295eb0f53",
   "metadata": {
    "ExecuteTime": {
     "end_time": "2024-02-09T14:13:14.404381Z",
     "start_time": "2024-02-09T14:13:14.379529Z"
    }
   },
   "outputs": [],
   "source": [
    "df.to_csv('./data/aggregated_ml_energy.csv', index=False)"
   ]
  },
  {
   "cell_type": "code",
   "execution_count": null,
   "id": "e356458a9d68ac73",
   "metadata": {},
   "outputs": [],
   "source": []
  }
 ],
 "metadata": {
  "kernelspec": {
   "display_name": "Python 3 (ipykernel)",
   "language": "python",
   "name": "python3"
  },
  "language_info": {
   "codemirror_mode": {
    "name": "ipython",
    "version": 3
   },
   "file_extension": ".py",
   "mimetype": "text/x-python",
   "name": "python",
   "nbconvert_exporter": "python",
   "pygments_lexer": "ipython3",
   "version": "3.11.5"
  }
 },
 "nbformat": 4,
 "nbformat_minor": 5
}
